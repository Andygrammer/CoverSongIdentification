{
 "cells": [
  {
   "cell_type": "markdown",
   "metadata": {},
   "source": [
    "## Projeto em construção..."
   ]
  },
  {
   "cell_type": "markdown",
   "metadata": {},
   "source": [
    "# 1. Importação das Bibliotecas"
   ]
  },
  {
   "cell_type": "code",
   "execution_count": 307,
   "metadata": {},
   "outputs": [],
   "source": [
    "import pandas as pd\n",
    "import numpy as np\n",
    "import datetime as dt\n",
    "import matplotlib.pyplot as plt\n",
    "import seaborn as sns\n",
    "sns.set_style('darkgrid')"
   ]
  },
  {
   "cell_type": "markdown",
   "metadata": {},
   "source": [
    "# 2. Preparação dos Dados"
   ]
  },
  {
   "cell_type": "code",
   "execution_count": 308,
   "metadata": {},
   "outputs": [
    {
     "data": {
      "text/html": [
       "<div>\n",
       "<style scoped>\n",
       "    .dataframe tbody tr th:only-of-type {\n",
       "        vertical-align: middle;\n",
       "    }\n",
       "\n",
       "    .dataframe tbody tr th {\n",
       "        vertical-align: top;\n",
       "    }\n",
       "\n",
       "    .dataframe thead th {\n",
       "        text-align: right;\n",
       "    }\n",
       "</style>\n",
       "<table border=\"1\" class=\"dataframe\">\n",
       "  <thead>\n",
       "    <tr style=\"text-align: right;\">\n",
       "      <th></th>\n",
       "      <th>work_id</th>\n",
       "      <th>Music_Name</th>\n",
       "      <th>track_id</th>\n",
       "      <th>Artist_Name</th>\n",
       "      <th>Source</th>\n",
       "      <th>Genre_ECAD</th>\n",
       "      <th>Recording_Version</th>\n",
       "      <th>Duration</th>\n",
       "      <th>Fs</th>\n",
       "      <th>MBID</th>\n",
       "      <th>ISWC</th>\n",
       "      <th>ISRC</th>\n",
       "      <th>Country</th>\n",
       "      <th>Year</th>\n",
       "    </tr>\n",
       "  </thead>\n",
       "  <tbody>\n",
       "    <tr>\n",
       "      <th>0</th>\n",
       "      <td>1</td>\n",
       "      <td>ADMIRAVEL GADO NOVO</td>\n",
       "      <td>19629</td>\n",
       "      <td>CASSIA ELLER</td>\n",
       "      <td>CD</td>\n",
       "      <td>ND</td>\n",
       "      <td>STUDIO</td>\n",
       "      <td>00:04:35.07</td>\n",
       "      <td>11025</td>\n",
       "      <td>8311499a-4e40-4afc-a826-6725d8454851</td>\n",
       "      <td>T0391535844</td>\n",
       "      <td>BRPGD9600090</td>\n",
       "      <td>BR</td>\n",
       "      <td>96</td>\n",
       "    </tr>\n",
       "    <tr>\n",
       "      <th>1</th>\n",
       "      <td>1</td>\n",
       "      <td>ADMIRAVEL GADO NOVO</td>\n",
       "      <td>23880</td>\n",
       "      <td>ZE RAMALHO</td>\n",
       "      <td>CD</td>\n",
       "      <td>ND</td>\n",
       "      <td>STUDIO</td>\n",
       "      <td>00:05:06.69</td>\n",
       "      <td>11025</td>\n",
       "      <td>1ec54f25-7525-480a-b7fa-4c79fc2ee05f</td>\n",
       "      <td>T0391535844</td>\n",
       "      <td>BRBMG9700282</td>\n",
       "      <td>BR</td>\n",
       "      <td>97</td>\n",
       "    </tr>\n",
       "    <tr>\n",
       "      <th>2</th>\n",
       "      <td>1</td>\n",
       "      <td>ADMIRAVEL GADO NOVO</td>\n",
       "      <td>579191</td>\n",
       "      <td>BIQUINI CAVADAO</td>\n",
       "      <td>IMPORTACAO</td>\n",
       "      <td>ND</td>\n",
       "      <td>STUDIO</td>\n",
       "      <td>00:04:21.77</td>\n",
       "      <td>11025</td>\n",
       "      <td>880622cf-96fd-4211-850f-9f914a5244c6</td>\n",
       "      <td>T0391535844</td>\n",
       "      <td>BRSME9400075</td>\n",
       "      <td>BR</td>\n",
       "      <td>94</td>\n",
       "    </tr>\n",
       "    <tr>\n",
       "      <th>3</th>\n",
       "      <td>1</td>\n",
       "      <td>ADMIRAVEL GADO NOVO</td>\n",
       "      <td>705173</td>\n",
       "      <td>OSWALDO MONTENEGRO</td>\n",
       "      <td>CD</td>\n",
       "      <td>ND</td>\n",
       "      <td>STUDIO</td>\n",
       "      <td>00:04:57.23</td>\n",
       "      <td>11025</td>\n",
       "      <td>23d08080-8113-47ea-b712-65acf448252f</td>\n",
       "      <td>T0391535844</td>\n",
       "      <td>BRABZ0300234</td>\n",
       "      <td>BR</td>\n",
       "      <td>03</td>\n",
       "    </tr>\n",
       "    <tr>\n",
       "      <th>4</th>\n",
       "      <td>1</td>\n",
       "      <td>ADMIRAVEL GADO NOVO</td>\n",
       "      <td>2164817</td>\n",
       "      <td>CASSIA ELLER</td>\n",
       "      <td>ND</td>\n",
       "      <td>ND</td>\n",
       "      <td>STUDIO</td>\n",
       "      <td>00:02:51.96</td>\n",
       "      <td>11025</td>\n",
       "      <td>ND</td>\n",
       "      <td>T0391535844</td>\n",
       "      <td>BRMCA9000102</td>\n",
       "      <td>BR</td>\n",
       "      <td>90</td>\n",
       "    </tr>\n",
       "  </tbody>\n",
       "</table>\n",
       "</div>"
      ],
      "text/plain": [
       "   work_id           Music_Name  track_id         Artist_Name      Source  \\\n",
       "0        1  ADMIRAVEL GADO NOVO     19629        CASSIA ELLER          CD   \n",
       "1        1  ADMIRAVEL GADO NOVO     23880          ZE RAMALHO          CD   \n",
       "2        1  ADMIRAVEL GADO NOVO    579191     BIQUINI CAVADAO  IMPORTACAO   \n",
       "3        1  ADMIRAVEL GADO NOVO    705173  OSWALDO MONTENEGRO          CD   \n",
       "4        1  ADMIRAVEL GADO NOVO   2164817        CASSIA ELLER          ND   \n",
       "\n",
       "  Genre_ECAD Recording_Version     Duration     Fs  \\\n",
       "0         ND            STUDIO  00:04:35.07  11025   \n",
       "1         ND            STUDIO  00:05:06.69  11025   \n",
       "2         ND            STUDIO  00:04:21.77  11025   \n",
       "3         ND            STUDIO  00:04:57.23  11025   \n",
       "4         ND            STUDIO  00:02:51.96  11025   \n",
       "\n",
       "                                   MBID         ISWC          ISRC Country  \\\n",
       "0  8311499a-4e40-4afc-a826-6725d8454851  T0391535844  BRPGD9600090      BR   \n",
       "1  1ec54f25-7525-480a-b7fa-4c79fc2ee05f  T0391535844  BRBMG9700282      BR   \n",
       "2  880622cf-96fd-4211-850f-9f914a5244c6  T0391535844  BRSME9400075      BR   \n",
       "3  23d08080-8113-47ea-b712-65acf448252f  T0391535844  BRABZ0300234      BR   \n",
       "4                                    ND  T0391535844  BRMCA9000102      BR   \n",
       "\n",
       "  Year  \n",
       "0   96  \n",
       "1   97  \n",
       "2   94  \n",
       "3   03  \n",
       "4   90  "
      ]
     },
     "execution_count": 308,
     "metadata": {},
     "output_type": "execute_result"
    }
   ],
   "source": [
    "# load the data\n",
    "data = pd.read_csv('./CoversBR_metadata.csv', delimiter=';')\n",
    "data.head()"
   ]
  },
  {
   "cell_type": "markdown",
   "metadata": {},
   "source": [
    "# 3. Análise Exploratória de Dados (AED)"
   ]
  },
  {
   "cell_type": "code",
   "execution_count": 309,
   "metadata": {},
   "outputs": [
    {
     "data": {
      "text/plain": [
       "(102298, 14)"
      ]
     },
     "execution_count": 309,
     "metadata": {},
     "output_type": "execute_result"
    }
   ],
   "source": [
    "# 1. #rows vs. #columns\n",
    "data.shape"
   ]
  },
  {
   "cell_type": "markdown",
   "metadata": {},
   "source": [
    "**Temos um dataset com 102.298 ocorrências (exemplos) e 14 características/features (colunas), sendo uma delas, o rótulo/label (saída esperada).**"
   ]
  },
  {
   "cell_type": "code",
   "execution_count": 310,
   "metadata": {},
   "outputs": [
    {
     "data": {
      "text/plain": [
       "work_id               int64\n",
       "Music_Name           object\n",
       "track_id              int64\n",
       "Artist_Name          object\n",
       "Source               object\n",
       "Genre_ECAD           object\n",
       "Recording_Version    object\n",
       "Duration             object\n",
       "Fs                    int64\n",
       "MBID                 object\n",
       "ISWC                 object\n",
       "ISRC                 object\n",
       "Country              object\n",
       "Year                 object\n",
       "dtype: object"
      ]
     },
     "execution_count": 310,
     "metadata": {},
     "output_type": "execute_result"
    }
   ],
   "source": [
    "# 2. data types\n",
    "data.dtypes"
   ]
  },
  {
   "cell_type": "markdown",
   "metadata": {},
   "source": [
    "**Artist_Name é o nosso label; Duration e Year, que foram obtidos como object, serão convertidos para o tipo de dado correspondente ao tempo de música e ao ano, respectivamente.**"
   ]
  },
  {
   "cell_type": "code",
   "execution_count": 311,
   "metadata": {},
   "outputs": [
    {
     "data": {
      "text/html": [
       "<div>\n",
       "<style scoped>\n",
       "    .dataframe tbody tr th:only-of-type {\n",
       "        vertical-align: middle;\n",
       "    }\n",
       "\n",
       "    .dataframe tbody tr th {\n",
       "        vertical-align: top;\n",
       "    }\n",
       "\n",
       "    .dataframe thead th {\n",
       "        text-align: right;\n",
       "    }\n",
       "</style>\n",
       "<table border=\"1\" class=\"dataframe\">\n",
       "  <thead>\n",
       "    <tr style=\"text-align: right;\">\n",
       "      <th></th>\n",
       "      <th>work_id</th>\n",
       "      <th>Music_Name</th>\n",
       "      <th>track_id</th>\n",
       "      <th>Artist_Name</th>\n",
       "      <th>Source</th>\n",
       "      <th>Genre_ECAD</th>\n",
       "      <th>Recording_Version</th>\n",
       "      <th>Duration</th>\n",
       "      <th>Fs</th>\n",
       "      <th>MBID</th>\n",
       "      <th>ISWC</th>\n",
       "      <th>ISRC</th>\n",
       "      <th>Country</th>\n",
       "      <th>Year</th>\n",
       "    </tr>\n",
       "  </thead>\n",
       "  <tbody>\n",
       "    <tr>\n",
       "      <th>70874</th>\n",
       "      <td>6168504</td>\n",
       "      <td>AINDA LEMBRO</td>\n",
       "      <td>1586363</td>\n",
       "      <td>MARISA MONTE/ED MOTTA</td>\n",
       "      <td>CD</td>\n",
       "      <td>ND</td>\n",
       "      <td>STUDIO</td>\n",
       "      <td>00:03:58.010000</td>\n",
       "      <td>11025</td>\n",
       "      <td>ND</td>\n",
       "      <td>T0426515130</td>\n",
       "      <td>BRONE0500050</td>\n",
       "      <td>BR</td>\n",
       "      <td>2005-01-01</td>\n",
       "    </tr>\n",
       "    <tr>\n",
       "      <th>97723</th>\n",
       "      <td>18024617</td>\n",
       "      <td>ON GREEN DOLPHIN STREET</td>\n",
       "      <td>2565948</td>\n",
       "      <td>HERBIE HANCOCK</td>\n",
       "      <td>IMPORTACAO</td>\n",
       "      <td>ND</td>\n",
       "      <td>STUDIO</td>\n",
       "      <td>00:03:20.800000</td>\n",
       "      <td>11025</td>\n",
       "      <td>121d446c-6048-412c-b214-50a15e91308c</td>\n",
       "      <td>T0701588295</td>\n",
       "      <td>USSM10304304</td>\n",
       "      <td>US</td>\n",
       "      <td>2003-01-01</td>\n",
       "    </tr>\n",
       "    <tr>\n",
       "      <th>73507</th>\n",
       "      <td>6551142</td>\n",
       "      <td>TURN ME ON</td>\n",
       "      <td>5748491</td>\n",
       "      <td>DAVID GUETTA / NICKI MINAJ/NICKI MINAJ</td>\n",
       "      <td>IMPORTACAO</td>\n",
       "      <td>ND</td>\n",
       "      <td>REMIX</td>\n",
       "      <td>00:05:08.130000</td>\n",
       "      <td>11025</td>\n",
       "      <td>ND</td>\n",
       "      <td>ND</td>\n",
       "      <td>GB28K1100185</td>\n",
       "      <td>GB</td>\n",
       "      <td>2011-01-01</td>\n",
       "    </tr>\n",
       "    <tr>\n",
       "      <th>42200</th>\n",
       "      <td>1312393</td>\n",
       "      <td>DRAGOSTEA DIN TEI</td>\n",
       "      <td>3406513</td>\n",
       "      <td>O-ZONE</td>\n",
       "      <td>IMPORTACAO</td>\n",
       "      <td>ND</td>\n",
       "      <td>STUDIO</td>\n",
       "      <td>00:03:34.890000</td>\n",
       "      <td>11025</td>\n",
       "      <td>f24be8f2-53b4-4239-a861-e814faf2109d</td>\n",
       "      <td>T0044813435</td>\n",
       "      <td>NLD140900003</td>\n",
       "      <td>NL</td>\n",
       "      <td>2009-01-01</td>\n",
       "    </tr>\n",
       "    <tr>\n",
       "      <th>97740</th>\n",
       "      <td>18037530</td>\n",
       "      <td>COPIA MAL FEITA</td>\n",
       "      <td>13973958</td>\n",
       "      <td>BRUNO E BARRETTO</td>\n",
       "      <td>CAPTACAO RADIO</td>\n",
       "      <td>ND</td>\n",
       "      <td>STUDIO</td>\n",
       "      <td>00:03:11.170000</td>\n",
       "      <td>11025</td>\n",
       "      <td>ND</td>\n",
       "      <td>T0402707894</td>\n",
       "      <td>BXPNR1700013</td>\n",
       "      <td>BX</td>\n",
       "      <td>2017-01-01</td>\n",
       "    </tr>\n",
       "  </tbody>\n",
       "</table>\n",
       "</div>"
      ],
      "text/plain": [
       "        work_id               Music_Name  track_id  \\\n",
       "70874   6168504             AINDA LEMBRO   1586363   \n",
       "97723  18024617  ON GREEN DOLPHIN STREET   2565948   \n",
       "73507   6551142               TURN ME ON   5748491   \n",
       "42200   1312393        DRAGOSTEA DIN TEI   3406513   \n",
       "97740  18037530          COPIA MAL FEITA  13973958   \n",
       "\n",
       "                                  Artist_Name          Source Genre_ECAD  \\\n",
       "70874                   MARISA MONTE/ED MOTTA              CD         ND   \n",
       "97723                          HERBIE HANCOCK      IMPORTACAO         ND   \n",
       "73507  DAVID GUETTA / NICKI MINAJ/NICKI MINAJ      IMPORTACAO         ND   \n",
       "42200                                  O-ZONE      IMPORTACAO         ND   \n",
       "97740                        BRUNO E BARRETTO  CAPTACAO RADIO         ND   \n",
       "\n",
       "      Recording_Version         Duration     Fs  \\\n",
       "70874            STUDIO  00:03:58.010000  11025   \n",
       "97723            STUDIO  00:03:20.800000  11025   \n",
       "73507             REMIX  00:05:08.130000  11025   \n",
       "42200            STUDIO  00:03:34.890000  11025   \n",
       "97740            STUDIO  00:03:11.170000  11025   \n",
       "\n",
       "                                       MBID         ISWC          ISRC  \\\n",
       "70874                                    ND  T0426515130  BRONE0500050   \n",
       "97723  121d446c-6048-412c-b214-50a15e91308c  T0701588295  USSM10304304   \n",
       "73507                                    ND           ND  GB28K1100185   \n",
       "42200  f24be8f2-53b4-4239-a861-e814faf2109d  T0044813435  NLD140900003   \n",
       "97740                                    ND  T0402707894  BXPNR1700013   \n",
       "\n",
       "      Country       Year  \n",
       "70874      BR 2005-01-01  \n",
       "97723      US 2003-01-01  \n",
       "73507      GB 2011-01-01  \n",
       "42200      NL 2009-01-01  \n",
       "97740      BX 2017-01-01  "
      ]
     },
     "execution_count": 311,
     "metadata": {},
     "output_type": "execute_result"
    }
   ],
   "source": [
    "# 3. convert 'Duration' and Year' to datetime and show a few rows\n",
    "data['Duration'] = pd.to_datetime(data['Duration'], format='%H:%M:%S.%f', errors='coerce').dt.time # NaT for invalid Year values\n",
    "data['Year'] = pd.to_datetime(data['Year'], format='%y', errors='coerce') # NaT for invalid Year values\n",
    "\n",
    "data.sample(5)"
   ]
  },
  {
   "cell_type": "markdown",
   "metadata": {},
   "source": [
    "**Existem exemplos com valores inválidos/missing values/em branco/não preenchidos/NaNs/NaTs, que poderão ser tratados nos próximos passos.**"
   ]
  },
  {
   "cell_type": "code",
   "execution_count": 312,
   "metadata": {},
   "outputs": [
    {
     "data": {
      "image/png": "[encoded data removed]",
      "text/plain": [
       "<Figure size 1008x1008 with 4 Axes>"
      ]
     },
     "metadata": {},
     "output_type": "display_data"
    }
   ],
   "source": [
    "# 4. plot each numeric feature ----- *********userful to detect outliers*********\n",
    "data.hist(figsize=(14,14), xrot=45)\n",
    "plt.show()"
   ]
  },
  {
   "cell_type": "markdown",
   "metadata": {},
   "source": [
    "**3 features são numéricas:**\n",
    "1. Fs: frequência sonora da música (indo de ~11k até 16k);\n",
    "2. track_id: número identificador da música;\n",
    "3. work_id: número identificador do grupo de cover."
   ]
  },
  {
   "cell_type": "code",
   "execution_count": 313,
   "metadata": {},
   "outputs": [
    {
     "data": {
      "text/html": [
       "<div>\n",
       "<style scoped>\n",
       "    .dataframe tbody tr th:only-of-type {\n",
       "        vertical-align: middle;\n",
       "    }\n",
       "\n",
       "    .dataframe tbody tr th {\n",
       "        vertical-align: top;\n",
       "    }\n",
       "\n",
       "    .dataframe thead th {\n",
       "        text-align: right;\n",
       "    }\n",
       "</style>\n",
       "<table border=\"1\" class=\"dataframe\">\n",
       "  <thead>\n",
       "    <tr style=\"text-align: right;\">\n",
       "      <th></th>\n",
       "      <th>count</th>\n",
       "      <th>mean</th>\n",
       "      <th>std</th>\n",
       "      <th>min</th>\n",
       "      <th>25%</th>\n",
       "      <th>50%</th>\n",
       "      <th>75%</th>\n",
       "      <th>max</th>\n",
       "    </tr>\n",
       "  </thead>\n",
       "  <tbody>\n",
       "    <tr>\n",
       "      <th>work_id</th>\n",
       "      <td>102298.0</td>\n",
       "      <td>5.165103e+06</td>\n",
       "      <td>6.015939e+06</td>\n",
       "      <td>1.0</td>\n",
       "      <td>40253.00</td>\n",
       "      <td>2835847.0</td>\n",
       "      <td>7788684.00</td>\n",
       "      <td>24998809.0</td>\n",
       "    </tr>\n",
       "    <tr>\n",
       "      <th>track_id</th>\n",
       "      <td>102298.0</td>\n",
       "      <td>4.452356e+06</td>\n",
       "      <td>4.886335e+06</td>\n",
       "      <td>15.0</td>\n",
       "      <td>1301414.25</td>\n",
       "      <td>2116795.0</td>\n",
       "      <td>6001035.75</td>\n",
       "      <td>20563324.0</td>\n",
       "    </tr>\n",
       "    <tr>\n",
       "      <th>Fs</th>\n",
       "      <td>102298.0</td>\n",
       "      <td>1.102763e+04</td>\n",
       "      <td>1.142731e+02</td>\n",
       "      <td>11025.0</td>\n",
       "      <td>11025.00</td>\n",
       "      <td>11025.0</td>\n",
       "      <td>11025.00</td>\n",
       "      <td>16000.0</td>\n",
       "    </tr>\n",
       "  </tbody>\n",
       "</table>\n",
       "</div>"
      ],
      "text/plain": [
       "             count          mean           std      min         25%  \\\n",
       "work_id   102298.0  5.165103e+06  6.015939e+06      1.0    40253.00   \n",
       "track_id  102298.0  4.452356e+06  4.886335e+06     15.0  1301414.25   \n",
       "Fs        102298.0  1.102763e+04  1.142731e+02  11025.0    11025.00   \n",
       "\n",
       "                50%         75%         max  \n",
       "work_id   2835847.0  7788684.00  24998809.0  \n",
       "track_id  2116795.0  6001035.75  20563324.0  \n",
       "Fs          11025.0    11025.00     16000.0  "
      ]
     },
     "execution_count": 313,
     "metadata": {},
     "output_type": "execute_result"
    }
   ],
   "source": [
    "# 5. summary statistics of the numerical features\n",
    "data.describe().T"
   ]
  },
  {
   "cell_type": "markdown",
   "metadata": {},
   "source": [
    "**As medidas descritas sobre as features numéricas nos mostram:**\n",
    "\n",
    "1. Fs: o espectro de ondas sonoras vai de 11.025,0 a 16.000,0, sendo pelo menos 75% decaindo sobre um Fs de 11.025; todos os exemplos aparentam estar preenchidos corretamente (102.298). \n",
    "2. track_id: todos os exemplos estão preenchidos nas 102.298 linhas (exemplos), começando em 15 e terminando em 20.563.324.\n",
    "3. work_id: todos os exemplos estão preenchidos nas 102.298 linhas, começando em 1 e terminando em 24.998.809.\n",
    "\n",
    "Sabe-se que a relação entre as músicas e os grupos de covers é a seguinte: existem 102.298 músicas, distribuídas em 26.366 grupos de covers. Isso implica que os ids dessas features não possuem uma relação unívoca, ou seja, a primeira track (música) não corresponde ao id 1, assim como o último work (grupo de cover) não corresponde ao id 26.366. Talvez, os ids tenham sido gerados de forma aleatória."
   ]
  },
  {
   "cell_type": "code",
   "execution_count": 314,
   "metadata": {},
   "outputs": [
    {
     "data": {
      "text/html": [
       "<div>\n",
       "<style scoped>\n",
       "    .dataframe tbody tr th:only-of-type {\n",
       "        vertical-align: middle;\n",
       "    }\n",
       "\n",
       "    .dataframe tbody tr th {\n",
       "        vertical-align: top;\n",
       "    }\n",
       "\n",
       "    .dataframe thead th {\n",
       "        text-align: right;\n",
       "    }\n",
       "</style>\n",
       "<table border=\"1\" class=\"dataframe\">\n",
       "  <thead>\n",
       "    <tr style=\"text-align: right;\">\n",
       "      <th></th>\n",
       "      <th>Music_Name</th>\n",
       "      <th>Artist_Name</th>\n",
       "      <th>Source</th>\n",
       "      <th>Genre_ECAD</th>\n",
       "      <th>Recording_Version</th>\n",
       "      <th>Duration</th>\n",
       "      <th>MBID</th>\n",
       "      <th>ISWC</th>\n",
       "      <th>ISRC</th>\n",
       "      <th>Country</th>\n",
       "      <th>Year</th>\n",
       "    </tr>\n",
       "  </thead>\n",
       "  <tbody>\n",
       "    <tr>\n",
       "      <th>count</th>\n",
       "      <td>102298</td>\n",
       "      <td>102298</td>\n",
       "      <td>102298</td>\n",
       "      <td>102298</td>\n",
       "      <td>102298</td>\n",
       "      <td>102298</td>\n",
       "      <td>102298</td>\n",
       "      <td>102298</td>\n",
       "      <td>102298</td>\n",
       "      <td>102298</td>\n",
       "      <td>88849</td>\n",
       "    </tr>\n",
       "    <tr>\n",
       "      <th>unique</th>\n",
       "      <td>23776</td>\n",
       "      <td>23432</td>\n",
       "      <td>4</td>\n",
       "      <td>48</td>\n",
       "      <td>38</td>\n",
       "      <td>25752</td>\n",
       "      <td>30722</td>\n",
       "      <td>15889</td>\n",
       "      <td>88863</td>\n",
       "      <td>51</td>\n",
       "      <td>97</td>\n",
       "    </tr>\n",
       "    <tr>\n",
       "      <th>top</th>\n",
       "      <td>1. ALLEGRO</td>\n",
       "      <td>ELVIS PRESLEY</td>\n",
       "      <td>IMPORTACAO</td>\n",
       "      <td>ND</td>\n",
       "      <td>STUDIO</td>\n",
       "      <td>00:03:00</td>\n",
       "      <td>ND</td>\n",
       "      <td>ND</td>\n",
       "      <td>ND</td>\n",
       "      <td>BR</td>\n",
       "      <td>2003-01-01 00:00:00</td>\n",
       "    </tr>\n",
       "    <tr>\n",
       "      <th>freq</th>\n",
       "      <td>183</td>\n",
       "      <td>932</td>\n",
       "      <td>44623</td>\n",
       "      <td>98128</td>\n",
       "      <td>80369</td>\n",
       "      <td>306</td>\n",
       "      <td>51488</td>\n",
       "      <td>34976</td>\n",
       "      <td>13372</td>\n",
       "      <td>41063</td>\n",
       "      <td>4360</td>\n",
       "    </tr>\n",
       "    <tr>\n",
       "      <th>first</th>\n",
       "      <td>NaN</td>\n",
       "      <td>NaN</td>\n",
       "      <td>NaN</td>\n",
       "      <td>NaN</td>\n",
       "      <td>NaN</td>\n",
       "      <td>NaN</td>\n",
       "      <td>NaN</td>\n",
       "      <td>NaN</td>\n",
       "      <td>NaN</td>\n",
       "      <td>NaN</td>\n",
       "      <td>1969-01-01 00:00:00</td>\n",
       "    </tr>\n",
       "    <tr>\n",
       "      <th>last</th>\n",
       "      <td>NaN</td>\n",
       "      <td>NaN</td>\n",
       "      <td>NaN</td>\n",
       "      <td>NaN</td>\n",
       "      <td>NaN</td>\n",
       "      <td>NaN</td>\n",
       "      <td>NaN</td>\n",
       "      <td>NaN</td>\n",
       "      <td>NaN</td>\n",
       "      <td>NaN</td>\n",
       "      <td>2068-01-01 00:00:00</td>\n",
       "    </tr>\n",
       "  </tbody>\n",
       "</table>\n",
       "</div>"
      ],
      "text/plain": [
       "        Music_Name    Artist_Name      Source Genre_ECAD Recording_Version  \\\n",
       "count       102298         102298      102298     102298            102298   \n",
       "unique       23776          23432           4         48                38   \n",
       "top     1. ALLEGRO  ELVIS PRESLEY  IMPORTACAO         ND            STUDIO   \n",
       "freq           183            932       44623      98128             80369   \n",
       "first          NaN            NaN         NaN        NaN               NaN   \n",
       "last           NaN            NaN         NaN        NaN               NaN   \n",
       "\n",
       "        Duration    MBID    ISWC    ISRC Country                 Year  \n",
       "count     102298  102298  102298  102298  102298                88849  \n",
       "unique     25752   30722   15889   88863      51                   97  \n",
       "top     00:03:00      ND      ND      ND      BR  2003-01-01 00:00:00  \n",
       "freq         306   51488   34976   13372   41063                 4360  \n",
       "first        NaN     NaN     NaN     NaN     NaN  1969-01-01 00:00:00  \n",
       "last         NaN     NaN     NaN     NaN     NaN  2068-01-01 00:00:00  "
      ]
     },
     "execution_count": 314,
     "metadata": {},
     "output_type": "execute_result"
    }
   ],
   "source": [
    "# 6. summary statistics of the categorical features\n",
    "data.describe(include=['object', 'datetime']) # first and last values refers just to Year (datetime column)"
   ]
  },
  {
   "cell_type": "markdown",
   "metadata": {},
   "source": [
    "**As demais 11 features são categóricas (incluindo uma, Year, de data):**\n",
    "\n",
    "1. Music_Name: possui diversos valores repetidos, mas todos os exemplos estão preenchidos. A música com cover mais comum possui 183 entradas e contém em seu nome o texto \"1. ALLEGRO\".\n",
    "2. Artist_Name: existem aproximadamente 23 mil artistas diferentes. O cover mais comum é do cantor Elvis Presley, com 932 entradas.\n",
    "3. Source: há somente 4 fontes de gravação dos covers, sendo a mais comum - importação.\n",
    "4. Genre_ECAD: existem 48 gêneros musicais distintos (baseados no Escritório Central de Arrecadação e Distribuição - ECAD).\n",
    "5. Recording_Version: existem 38 versões de gravação diferentes, sendo a de estúdio, a mais comum (80.369 entradas).\n",
    "6. Duration: o tempo mais comum das músicas é o de 3 minutos de duração. Este tempo está relacionado com as conhecidas \"versões de rádio\".\n",
    "7. MBID: da mesma forma que há músicas que se repetem, há diversos exemplos com o identificador MusicBrainz (MBID) repetido.\n",
    "8. ISWC: este ID único aparece repetido (diversas vezes), porque há registros da mesma música (várias vezes) no dataset.\n",
    "9. ISRC: este ID, que identifica unicamente uma gravação, pode aparecer repetido devido a mais de uma entrada do mesmo cover no dataset.\n",
    "10. Country: há músicas de diversos países, sendo o Brasil o país com maior número de registros (41.063). Ainda não se pode afirmar se são 51 países distintos sem antes analisar os exemplos com mais cuidado.\n",
    "11. Year: há registros incorretos que apontam para anos no futuro. Deve-se analisar melhor esses dados nos próximos passos."
   ]
  },
  {
   "cell_type": "markdown",
   "metadata": {},
   "source": [
    "**Como descrito nas informações oficiais do dataset, as seguintes features possuem todos os valores informados:**\n",
    "\n",
    "- work_id\n",
    "- track_id\n",
    "- Music_Name\n",
    "- Artist_Name\n",
    "- Duration"
   ]
  },
  {
   "cell_type": "code",
   "execution_count": 315,
   "metadata": {},
   "outputs": [
    {
     "data": {
      "image/png": "[encoded data removed]",
      "text/plain": [
       "<Figure size 432x288 with 1 Axes>"
      ]
     },
     "metadata": {},
     "output_type": "display_data"
    }
   ],
   "source": [
    "# 7. explore Source feature\n",
    "sns.countplot(y='Source', data=data)\n",
    "plt.show()"
   ]
  },
  {
   "cell_type": "markdown",
   "metadata": {},
   "source": [
    "**A primeira feature a ser analisada em mais detalhes é a *Source*, que contém 4 classes distintas:**\n",
    "\n",
    "Percebe-se que existem entradas **ND**, que são aquelas que não estão dentre CD, importação e captação de rádio."
   ]
  },
  {
   "cell_type": "code",
   "execution_count": 316,
   "metadata": {},
   "outputs": [
    {
     "data": {
      "text/plain": [
       "array(['ND', 'PAGODE', 'SAMBA CANCAO', 'MPB', 'SAMBA', 'SERTANEJO',\n",
       "       'BOSSA NOVA', 'FORRO', 'TANGO', 'POP MUSIC', 'VANEIRAO',\n",
       "       'ROMANTICO', 'ROCK', 'SAMBA ENREDO', 'HINO', 'TIMBALADA', 'FREVO',\n",
       "       'MAXIXE', 'TOADA', 'EVANGELICA', 'DANCE MUSIC', 'BAIAO', 'CHORO',\n",
       "       'VALSA', 'FUNK', 'FOX-TROT', 'CLASSICA', 'BOLERO', 'HEAVY METAL',\n",
       "       'MARCHA-RANCHO', 'XOTE', 'AXE MUSIC', 'GOSPEL', 'RELIGIOSO', 'RAP',\n",
       "       'MARCHA', 'INSTRUMENTAL', 'REGGAE', 'BALADA', 'LAMBADA', 'CANCAO',\n",
       "       'CATOLICO', 'CALYPSO', 'WORLD MUSIC', 'REGIONAL', 'SOUL', 'SACRA',\n",
       "       'OUTROS'], dtype=object)"
      ]
     },
     "execution_count": 316,
     "metadata": {},
     "output_type": "execute_result"
    }
   ],
   "source": [
    "# 8. explore Genre_ECAD feature\n",
    "data['Genre_ECAD'].unique()"
   ]
  },
  {
   "cell_type": "markdown",
   "metadata": {},
   "source": [
    "**A segunda feature a ser explorada é *Genre_ECAD*, que contém 48 classes distintas:**\n",
    "\n",
    "Percebe-se que existem entradas **ND**, que correspondem a gêneros desconhecidos ou não informados. Percebe-se que há covers, também, de músicas **instrumentais** e eletrônicas como **dance music**, que são gêneros que não apresentam necessariamente vocal, mas tão somente instrumentos musicais/eletrônicos."
   ]
  },
  {
   "cell_type": "code",
   "execution_count": 317,
   "metadata": {},
   "outputs": [
    {
     "data": {
      "text/plain": [
       "array(['STUDIO', 'LIVE (AO VIVO)', 'REMIX', 'TAPE', 'ACUSTICO',\n",
       "       'ACUSTICO MTV', 'UNPLUGGED (ACUSTICO)', 'ND', 'ACUSTICO AO VIVO',\n",
       "       'RADIO REMIX', 'HOUSE EDIT', 'DVD', 'A CAPELA', 'RADIO VERSION',\n",
       "       'STUDIO VERSION', 'NI', 'MTV AO VIVO', 'MIX', 'ALBUM', 'VHS',\n",
       "       'VINHETA', 'MEME SUPER CLUB MIX 2002', 'POP MIX', 'EXTENDED MIX',\n",
       "       'BIBLIOTECA', 'RADIO EDIT', 'ROCK VERSION', 'G-VO MIX', 'SURTO',\n",
       "       'CLUB REMIX', 'PLAY BACK', 'RADIO MIX', 'LONG VERSION',\n",
       "       'EDITED SLOW', 'EDIT MIX', 'XRS REMIX RADIO EDIT', 'LOUNGE MIX',\n",
       "       'GROOVE MIX'], dtype=object)"
      ]
     },
     "execution_count": 317,
     "metadata": {},
     "output_type": "execute_result"
    }
   ],
   "source": [
    "# 9. explore Recording_Version feature\n",
    "data['Recording_Version'].unique()"
   ]
  },
  {
   "cell_type": "markdown",
   "metadata": {},
   "source": [
    "**A terceira feature a ser explorada é *Recording_Version*, que contém 38 classes distintas:**\n",
    "\n",
    "Nota-se entradas **ND**, também, para esta feature. Conforme informações oficiais dos autores do dataset, as classes mais comuns dentre os covers gravados são: estúdio, live (ao vivo) e remix. No próximo posso confirmamos por meio de um gráfico."
   ]
  },
  {
   "cell_type": "code",
   "execution_count": 318,
   "metadata": {},
   "outputs": [
    {
     "name": "stdout",
     "output_type": "stream",
     "text": [
      "   Recording_Version  Ocorrências\n",
      "30            STUDIO        80369\n",
      "14    LIVE (AO VIVO)        17504\n",
      "28             REMIX         2765\n",
      "20                ND          671\n",
      "1           ACUSTICO          205\n",
      "---\n"
     ]
    },
    {
     "data": {
      "image/png": "[encoded data removed]",
      "text/plain": [
       "<Figure size 432x288 with 1 Axes>"
      ]
     },
     "metadata": {},
     "output_type": "display_data"
    }
   ],
   "source": [
    "# 9.continuation. plot most frequent classes\n",
    "recording_version = data[['Artist_Name', 'Recording_Version']].copy()\n",
    "recording_version = recording_version.groupby(by=['Recording_Version']).count().reset_index()\n",
    "recording_version_TOP = recording_version.sort_values('Artist_Name', ascending=False)\n",
    "recording_version_TOP.rename(index=str, columns={'Artist_Name': 'Ocorrências'}, inplace=True)\n",
    "recording_version_TOP_5 = recording_version_TOP.head(5)\n",
    "\n",
    "print(recording_version_TOP_5)\n",
    "print('---')\n",
    "\n",
    "# plot results\n",
    "recording_version_TOP_5_plot = sns.barplot(x='Recording_Version', y='Ocorrências', data=recording_version_TOP_5)"
   ]
  },
  {
   "cell_type": "code",
   "execution_count": 319,
   "metadata": {},
   "outputs": [
    {
     "name": "stdout",
     "output_type": "stream",
     "text": [
      "False    102298\n",
      "Name: Duration, dtype: int64\n",
      "---\n",
      "False    102298\n",
      "Name: Duration, dtype: int64\n"
     ]
    }
   ],
   "source": [
    "# 10. explore Duration feature\n",
    "isNegativeHour = data['Duration'] < dt.time(hour=0) # are there negative hours?\n",
    "isNegativeMinute = data['Duration'] <= dt.time(minute=0) # are there negative, or zero, minutes?\n",
    "\n",
    "print(isNegativeHour.value_counts())\n",
    "print('---')\n",
    "print(isNegativeMinute.value_counts())"
   ]
  },
  {
   "cell_type": "markdown",
   "metadata": {},
   "source": [
    "**Ao explorar a quarta feature, *Duration*, que contém 25.752 classes distintas, temos que:**\n",
    "\n",
    "Todas as classes contém valores de duração de música válidos. (Os valores tratados como inválidos são considerados como NaT.) Temos 102.298 exemplos (mesmo número de linhas do dataset) com valores iguais a NaT ou iguais a um tempo válido de hora:minuto:segundo.microsegundo."
   ]
  },
  {
   "cell_type": "code",
   "execution_count": 320,
   "metadata": {},
   "outputs": [],
   "source": [
    "# 11. explore Country feature\n",
    "\n",
    "#doing..."
   ]
  },
  {
   "cell_type": "markdown",
   "metadata": {},
   "source": [
    "# 999. Referências\n",
    "\n",
    "1. Dirceu Silva, Atila Xavier, Edgard Moraes, Marco Grivet and Fernando Perdigão. CoversBR: A Large Dataset for Cover Song Identification. https://github.com/SPLab-IT/CoversBR"
   ]
  }
 ],
 "metadata": {
  "kernelspec": {
   "display_name": "Python 3",
   "language": "python",
   "name": "python3"
  },
  "language_info": {
   "codemirror_mode": {
    "name": "ipython",
    "version": 3
   },
   "file_extension": ".py",
   "mimetype": "text/x-python",
   "name": "python",
   "nbconvert_exporter": "python",
   "pygments_lexer": "ipython3",
   "version": "3.8.3"
  }
 },
 "nbformat": 4,
 "nbformat_minor": 4
}
