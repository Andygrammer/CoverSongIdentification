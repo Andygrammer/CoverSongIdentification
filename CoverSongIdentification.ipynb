{
 "cells": [
  {
   "cell_type": "markdown",
   "metadata": {},
   "source": [
    "## Projeto em construção..."
   ]
  },
  {
   "cell_type": "markdown",
   "metadata": {},
   "source": [
    "<img src=\"./singer.jpg\" width=\"600\"/>"
   ]
  },
  {
   "cell_type": "markdown",
   "metadata": {},
   "source": [
    "## Sumário\n",
    "\n",
    "- [1.Importação das Bibliotecas](#1.-Importação-das-Bibliotecas)\n",
    "- [2. Preparação dos Dados](#2.-Preparação-dos-Dados)\n",
    "- [3. Análise Exploratória de Dados (AED)](#3.-Análise-Exploratória-de-Dados-(AED))\n",
    "- [4. Modelagem - Deep Learning](#4.-Modelagem---Deep-Learning)\n",
    "- [999. Referências](#999.-Referências)"
   ]
  },
  {
   "cell_type": "markdown",
   "metadata": {},
   "source": [
    "# 1. Importação das Bibliotecas"
   ]
  },
  {
   "cell_type": "code",
   "execution_count": 2,
   "metadata": {},
   "outputs": [
    {
     "name": "stdout",
     "output_type": "stream",
     "text": [
      "Versão utilizada do Keras:  2.4.3\n"
     ]
    }
   ],
   "source": [
    "import pandas as pd\n",
    "import numpy as np\n",
    "import datetime as dt\n",
    "import matplotlib.pyplot as plt\n",
    "import matplotlib.dates as mdates\n",
    "from pylab import rcParams\n",
    "import os\n",
    "from pathlib import Path\n",
    "import csv\n",
    "import seaborn as sns # install the latest version !pip install -U seaborn\n",
    "sns.set_style('darkgrid')\n",
    "\n",
    "# ML-related libraries\n",
    "from sklearn.pipeline import Pipeline\n",
    "from sklearn.impute import SimpleImputer\n",
    "from sklearn.compose import ColumnTransformer\n",
    "from sklearn.preprocessing import OneHotEncoder\n",
    "from sklearn import preprocessing\n",
    "from sklearn.model_selection import train_test_split\n",
    "from sklearn.ensemble import RandomForestRegressor\n",
    "from sklearn.metrics import mean_absolute_error\n",
    "from sklearn.metrics import mean_squared_error\n",
    "import prince # pip install prince\n",
    "from xgboost import XGBRegressor #pip3 install xgboost\n",
    "import deepdish as dd\n",
    "import librosa\n",
    "import librosa.display\n",
    "from sklearn.preprocessing import LabelEncoder, StandardScaler\n",
    "import keras\n",
    "from tensorflow.keras.models import Sequential\n",
    "from keras import layers\n",
    "\n",
    "print('Versão utilizada do Keras: ', keras.__version__)"
   ]
  },
  {
   "cell_type": "markdown",
   "metadata": {},
   "source": [
    "# 2. Preparação dos Dados"
   ]
  },
  {
   "cell_type": "code",
   "execution_count": 3,
   "metadata": {},
   "outputs": [
    {
     "data": {
      "text/html": [
       "<div>\n",
       "<style scoped>\n",
       "    .dataframe tbody tr th:only-of-type {\n",
       "        vertical-align: middle;\n",
       "    }\n",
       "\n",
       "    .dataframe tbody tr th {\n",
       "        vertical-align: top;\n",
       "    }\n",
       "\n",
       "    .dataframe thead th {\n",
       "        text-align: right;\n",
       "    }\n",
       "</style>\n",
       "<table border=\"1\" class=\"dataframe\">\n",
       "  <thead>\n",
       "    <tr style=\"text-align: right;\">\n",
       "      <th></th>\n",
       "      <th>work_id</th>\n",
       "      <th>Music_Name</th>\n",
       "      <th>track_id</th>\n",
       "      <th>Artist_Name</th>\n",
       "      <th>Source</th>\n",
       "      <th>Genre_ECAD</th>\n",
       "      <th>Recording_Version</th>\n",
       "      <th>Duration</th>\n",
       "      <th>Fs</th>\n",
       "      <th>MBID</th>\n",
       "      <th>ISWC</th>\n",
       "      <th>ISRC</th>\n",
       "      <th>Country</th>\n",
       "      <th>Year</th>\n",
       "    </tr>\n",
       "  </thead>\n",
       "  <tbody>\n",
       "    <tr>\n",
       "      <th>0</th>\n",
       "      <td>1</td>\n",
       "      <td>ADMIRAVEL GADO NOVO</td>\n",
       "      <td>19629</td>\n",
       "      <td>CASSIA ELLER</td>\n",
       "      <td>CD</td>\n",
       "      <td>ND</td>\n",
       "      <td>STUDIO</td>\n",
       "      <td>00:04:35.07</td>\n",
       "      <td>11025</td>\n",
       "      <td>8311499a-4e40-4afc-a826-6725d8454851</td>\n",
       "      <td>T0391535844</td>\n",
       "      <td>BRPGD9600090</td>\n",
       "      <td>BR</td>\n",
       "      <td>96</td>\n",
       "    </tr>\n",
       "    <tr>\n",
       "      <th>1</th>\n",
       "      <td>1</td>\n",
       "      <td>ADMIRAVEL GADO NOVO</td>\n",
       "      <td>23880</td>\n",
       "      <td>ZE RAMALHO</td>\n",
       "      <td>CD</td>\n",
       "      <td>ND</td>\n",
       "      <td>STUDIO</td>\n",
       "      <td>00:05:06.69</td>\n",
       "      <td>11025</td>\n",
       "      <td>1ec54f25-7525-480a-b7fa-4c79fc2ee05f</td>\n",
       "      <td>T0391535844</td>\n",
       "      <td>BRBMG9700282</td>\n",
       "      <td>BR</td>\n",
       "      <td>97</td>\n",
       "    </tr>\n",
       "    <tr>\n",
       "      <th>2</th>\n",
       "      <td>1</td>\n",
       "      <td>ADMIRAVEL GADO NOVO</td>\n",
       "      <td>579191</td>\n",
       "      <td>BIQUINI CAVADAO</td>\n",
       "      <td>IMPORTACAO</td>\n",
       "      <td>ND</td>\n",
       "      <td>STUDIO</td>\n",
       "      <td>00:04:21.77</td>\n",
       "      <td>11025</td>\n",
       "      <td>880622cf-96fd-4211-850f-9f914a5244c6</td>\n",
       "      <td>T0391535844</td>\n",
       "      <td>BRSME9400075</td>\n",
       "      <td>BR</td>\n",
       "      <td>94</td>\n",
       "    </tr>\n",
       "    <tr>\n",
       "      <th>3</th>\n",
       "      <td>1</td>\n",
       "      <td>ADMIRAVEL GADO NOVO</td>\n",
       "      <td>705173</td>\n",
       "      <td>OSWALDO MONTENEGRO</td>\n",
       "      <td>CD</td>\n",
       "      <td>ND</td>\n",
       "      <td>STUDIO</td>\n",
       "      <td>00:04:57.23</td>\n",
       "      <td>11025</td>\n",
       "      <td>23d08080-8113-47ea-b712-65acf448252f</td>\n",
       "      <td>T0391535844</td>\n",
       "      <td>BRABZ0300234</td>\n",
       "      <td>BR</td>\n",
       "      <td>03</td>\n",
       "    </tr>\n",
       "    <tr>\n",
       "      <th>4</th>\n",
       "      <td>1</td>\n",
       "      <td>ADMIRAVEL GADO NOVO</td>\n",
       "      <td>2164817</td>\n",
       "      <td>CASSIA ELLER</td>\n",
       "      <td>ND</td>\n",
       "      <td>ND</td>\n",
       "      <td>STUDIO</td>\n",
       "      <td>00:02:51.96</td>\n",
       "      <td>11025</td>\n",
       "      <td>ND</td>\n",
       "      <td>T0391535844</td>\n",
       "      <td>BRMCA9000102</td>\n",
       "      <td>BR</td>\n",
       "      <td>90</td>\n",
       "    </tr>\n",
       "  </tbody>\n",
       "</table>\n",
       "</div>"
      ],
      "text/plain": [
       "   work_id           Music_Name  track_id         Artist_Name      Source  \\\n",
       "0        1  ADMIRAVEL GADO NOVO     19629        CASSIA ELLER          CD   \n",
       "1        1  ADMIRAVEL GADO NOVO     23880          ZE RAMALHO          CD   \n",
       "2        1  ADMIRAVEL GADO NOVO    579191     BIQUINI CAVADAO  IMPORTACAO   \n",
       "3        1  ADMIRAVEL GADO NOVO    705173  OSWALDO MONTENEGRO          CD   \n",
       "4        1  ADMIRAVEL GADO NOVO   2164817        CASSIA ELLER          ND   \n",
       "\n",
       "  Genre_ECAD Recording_Version     Duration     Fs  \\\n",
       "0         ND            STUDIO  00:04:35.07  11025   \n",
       "1         ND            STUDIO  00:05:06.69  11025   \n",
       "2         ND            STUDIO  00:04:21.77  11025   \n",
       "3         ND            STUDIO  00:04:57.23  11025   \n",
       "4         ND            STUDIO  00:02:51.96  11025   \n",
       "\n",
       "                                   MBID         ISWC          ISRC Country  \\\n",
       "0  8311499a-4e40-4afc-a826-6725d8454851  T0391535844  BRPGD9600090      BR   \n",
       "1  1ec54f25-7525-480a-b7fa-4c79fc2ee05f  T0391535844  BRBMG9700282      BR   \n",
       "2  880622cf-96fd-4211-850f-9f914a5244c6  T0391535844  BRSME9400075      BR   \n",
       "3  23d08080-8113-47ea-b712-65acf448252f  T0391535844  BRABZ0300234      BR   \n",
       "4                                    ND  T0391535844  BRMCA9000102      BR   \n",
       "\n",
       "  Year  \n",
       "0   96  \n",
       "1   97  \n",
       "2   94  \n",
       "3   03  \n",
       "4   90  "
      ]
     },
     "execution_count": 3,
     "metadata": {},
     "output_type": "execute_result"
    }
   ],
   "source": [
    "# load the data\n",
    "data = pd.read_csv('./CoversBR_metadata.csv', delimiter=';')\n",
    "data.head()"
   ]
  },
  {
   "cell_type": "markdown",
   "metadata": {},
   "source": [
    "# 3. Análise Exploratória de Dados (AED)"
   ]
  },
  {
   "cell_type": "code",
   "execution_count": 4,
   "metadata": {},
   "outputs": [
    {
     "data": {
      "text/plain": [
       "(102298, 14)"
      ]
     },
     "execution_count": 4,
     "metadata": {},
     "output_type": "execute_result"
    }
   ],
   "source": [
    "# 1. #rows vs. #columns\n",
    "data.shape"
   ]
  },
  {
   "cell_type": "markdown",
   "metadata": {},
   "source": [
    "**Temos um dataset com 102.298 ocorrências (exemplos) e 14 características/features (colunas), sendo uma delas, o rótulo/label (saída esperada).**"
   ]
  },
  {
   "cell_type": "code",
   "execution_count": 5,
   "metadata": {},
   "outputs": [
    {
     "data": {
      "text/plain": [
       "work_id               int64\n",
       "Music_Name           object\n",
       "track_id              int64\n",
       "Artist_Name          object\n",
       "Source               object\n",
       "Genre_ECAD           object\n",
       "Recording_Version    object\n",
       "Duration             object\n",
       "Fs                    int64\n",
       "MBID                 object\n",
       "ISWC                 object\n",
       "ISRC                 object\n",
       "Country              object\n",
       "Year                 object\n",
       "dtype: object"
      ]
     },
     "execution_count": 5,
     "metadata": {},
     "output_type": "execute_result"
    }
   ],
   "source": [
    "# 2. data types\n",
    "data.dtypes"
   ]
  },
  {
   "cell_type": "markdown",
   "metadata": {},
   "source": [
    "**Artist_Name é o nosso label; Duration e Year, que foram obtidos como object, serão convertidos para o tipo de dado correspondente ao tempo de música e ao ano, respectivamente.**"
   ]
  },
  {
   "cell_type": "code",
   "execution_count": 6,
   "metadata": {},
   "outputs": [
    {
     "data": {
      "text/html": [
       "<div>\n",
       "<style scoped>\n",
       "    .dataframe tbody tr th:only-of-type {\n",
       "        vertical-align: middle;\n",
       "    }\n",
       "\n",
       "    .dataframe tbody tr th {\n",
       "        vertical-align: top;\n",
       "    }\n",
       "\n",
       "    .dataframe thead th {\n",
       "        text-align: right;\n",
       "    }\n",
       "</style>\n",
       "<table border=\"1\" class=\"dataframe\">\n",
       "  <thead>\n",
       "    <tr style=\"text-align: right;\">\n",
       "      <th></th>\n",
       "      <th>work_id</th>\n",
       "      <th>Music_Name</th>\n",
       "      <th>track_id</th>\n",
       "      <th>Artist_Name</th>\n",
       "      <th>Source</th>\n",
       "      <th>Genre_ECAD</th>\n",
       "      <th>Recording_Version</th>\n",
       "      <th>Duration</th>\n",
       "      <th>Fs</th>\n",
       "      <th>MBID</th>\n",
       "      <th>ISWC</th>\n",
       "      <th>ISRC</th>\n",
       "      <th>Country</th>\n",
       "      <th>Year</th>\n",
       "    </tr>\n",
       "  </thead>\n",
       "  <tbody>\n",
       "    <tr>\n",
       "      <th>98495</th>\n",
       "      <td>18576306</td>\n",
       "      <td>PASSARINHO</td>\n",
       "      <td>16472656</td>\n",
       "      <td>LEO REIS E MARITACA</td>\n",
       "      <td>CAPTACAO RADIO</td>\n",
       "      <td>ND</td>\n",
       "      <td>STUDIO</td>\n",
       "      <td>00:02:49.730000</td>\n",
       "      <td>11025</td>\n",
       "      <td>ND</td>\n",
       "      <td>T0402882318</td>\n",
       "      <td>BX41N1800001</td>\n",
       "      <td>BX</td>\n",
       "      <td>2018-01-01</td>\n",
       "    </tr>\n",
       "    <tr>\n",
       "      <th>83926</th>\n",
       "      <td>10957551</td>\n",
       "      <td>HISTORIA DE FE E AMIZADE</td>\n",
       "      <td>6281941</td>\n",
       "      <td>GERALDO DE PAIVA RIO</td>\n",
       "      <td>CAPTACAO RADIO</td>\n",
       "      <td>ND</td>\n",
       "      <td>STUDIO</td>\n",
       "      <td>00:04:14</td>\n",
       "      <td>11025</td>\n",
       "      <td>ND</td>\n",
       "      <td>ND</td>\n",
       "      <td>ND</td>\n",
       "      <td>ND</td>\n",
       "      <td>NaT</td>\n",
       "    </tr>\n",
       "    <tr>\n",
       "      <th>70104</th>\n",
       "      <td>6020035</td>\n",
       "      <td>SWAGGER JAGGER</td>\n",
       "      <td>3136361</td>\n",
       "      <td>CHER LLOYD</td>\n",
       "      <td>IMPORTACAO</td>\n",
       "      <td>ND</td>\n",
       "      <td>STUDIO</td>\n",
       "      <td>00:03:03.720000</td>\n",
       "      <td>11025</td>\n",
       "      <td>7224b682-593e-487d-bef1-c36965b92b0b</td>\n",
       "      <td>ND</td>\n",
       "      <td>GBHMU1100009</td>\n",
       "      <td>GB</td>\n",
       "      <td>2011-01-01</td>\n",
       "    </tr>\n",
       "    <tr>\n",
       "      <th>78531</th>\n",
       "      <td>9621816</td>\n",
       "      <td>DON'T YOU WORRY CHILD</td>\n",
       "      <td>5787853</td>\n",
       "      <td>ADAM GARRETT</td>\n",
       "      <td>IMPORTACAO</td>\n",
       "      <td>ND</td>\n",
       "      <td>STUDIO</td>\n",
       "      <td>00:02:48.900000</td>\n",
       "      <td>11025</td>\n",
       "      <td>ND</td>\n",
       "      <td>ND</td>\n",
       "      <td>AUUM71300407</td>\n",
       "      <td>AU</td>\n",
       "      <td>2013-01-01</td>\n",
       "    </tr>\n",
       "    <tr>\n",
       "      <th>46274</th>\n",
       "      <td>1970067</td>\n",
       "      <td>HIDE AND SEEK</td>\n",
       "      <td>3489931</td>\n",
       "      <td>IMMI</td>\n",
       "      <td>IMPORTACAO</td>\n",
       "      <td>ND</td>\n",
       "      <td>STUDIO</td>\n",
       "      <td>00:02:57.210000</td>\n",
       "      <td>11025</td>\n",
       "      <td>ND</td>\n",
       "      <td>T0101580668</td>\n",
       "      <td>GBJPX0500017</td>\n",
       "      <td>GB</td>\n",
       "      <td>2005-01-01</td>\n",
       "    </tr>\n",
       "  </tbody>\n",
       "</table>\n",
       "</div>"
      ],
      "text/plain": [
       "        work_id                Music_Name  track_id           Artist_Name  \\\n",
       "98495  18576306                PASSARINHO  16472656   LEO REIS E MARITACA   \n",
       "83926  10957551  HISTORIA DE FE E AMIZADE   6281941  GERALDO DE PAIVA RIO   \n",
       "70104   6020035            SWAGGER JAGGER   3136361            CHER LLOYD   \n",
       "78531   9621816     DON'T YOU WORRY CHILD   5787853          ADAM GARRETT   \n",
       "46274   1970067             HIDE AND SEEK   3489931                  IMMI   \n",
       "\n",
       "               Source Genre_ECAD Recording_Version         Duration     Fs  \\\n",
       "98495  CAPTACAO RADIO         ND            STUDIO  00:02:49.730000  11025   \n",
       "83926  CAPTACAO RADIO         ND            STUDIO         00:04:14  11025   \n",
       "70104      IMPORTACAO         ND            STUDIO  00:03:03.720000  11025   \n",
       "78531      IMPORTACAO         ND            STUDIO  00:02:48.900000  11025   \n",
       "46274      IMPORTACAO         ND            STUDIO  00:02:57.210000  11025   \n",
       "\n",
       "                                       MBID         ISWC          ISRC  \\\n",
       "98495                                    ND  T0402882318  BX41N1800001   \n",
       "83926                                    ND           ND            ND   \n",
       "70104  7224b682-593e-487d-bef1-c36965b92b0b           ND  GBHMU1100009   \n",
       "78531                                    ND           ND  AUUM71300407   \n",
       "46274                                    ND  T0101580668  GBJPX0500017   \n",
       "\n",
       "      Country       Year  \n",
       "98495      BX 2018-01-01  \n",
       "83926      ND        NaT  \n",
       "70104      GB 2011-01-01  \n",
       "78531      AU 2013-01-01  \n",
       "46274      GB 2005-01-01  "
      ]
     },
     "execution_count": 6,
     "metadata": {},
     "output_type": "execute_result"
    }
   ],
   "source": [
    "# 3. convert 'Duration' and Year' to datetime and show a few rows\n",
    "data['Duration'] = pd.to_datetime(data['Duration'], format='%H:%M:%S.%f', errors='coerce').dt.time # NaT for invalid Duration values\n",
    "data['Year'] = pd.to_datetime(data['Year'], format='%y', errors='coerce') # NaT for invalid Year values\n",
    "\n",
    "data['Year'] = data['Year'].mask(data['Year'].dt.year > 2020, \n",
    "                                         data['Year'] - pd.offsets.DateOffset(years=100)) # Year goes up to 2020\n",
    "\n",
    "\n",
    "data.sample(5)"
   ]
  },
  {
   "cell_type": "markdown",
   "metadata": {},
   "source": [
    "**Existem exemplos com valores inválidos/missing values/em branco/não preenchidos/NaNs/NaTs, que poderão ser tratados nos próximos passos.**"
   ]
  },
  {
   "cell_type": "code",
   "execution_count": 7,
   "metadata": {},
   "outputs": [
    {
     "data": {
      "image/png": "[encoded data removed]",
      "text/plain": [
       "<Figure size 1008x1008 with 4 Axes>"
      ]
     },
     "metadata": {
      "needs_background": "light"
     },
     "output_type": "display_data"
    }
   ],
   "source": [
    "# 4. plot each numeric feature ----- *********userful to detect outliers*********\n",
    "data.hist(figsize=(14,14), xrot=45)\n",
    "plt.show()"
   ]
  },
  {
   "cell_type": "markdown",
   "metadata": {},
   "source": [
    "**3 features são numéricas:**\n",
    "1. Fs: frequência sonora da música em Hz (indo de ~11k até 16k, sendo esta correspondente a possíveis pontos fora da curva - outliers);\n",
    "2. track_id: número identificador da música;\n",
    "3. work_id: número identificador do grupo de cover, também chamado de clique (click, em inglês)."
   ]
  },
  {
   "cell_type": "code",
   "execution_count": 8,
   "metadata": {},
   "outputs": [
    {
     "data": {
      "text/html": [
       "<div>\n",
       "<style scoped>\n",
       "    .dataframe tbody tr th:only-of-type {\n",
       "        vertical-align: middle;\n",
       "    }\n",
       "\n",
       "    .dataframe tbody tr th {\n",
       "        vertical-align: top;\n",
       "    }\n",
       "\n",
       "    .dataframe thead th {\n",
       "        text-align: right;\n",
       "    }\n",
       "</style>\n",
       "<table border=\"1\" class=\"dataframe\">\n",
       "  <thead>\n",
       "    <tr style=\"text-align: right;\">\n",
       "      <th></th>\n",
       "      <th>count</th>\n",
       "      <th>mean</th>\n",
       "      <th>std</th>\n",
       "      <th>min</th>\n",
       "      <th>25%</th>\n",
       "      <th>50%</th>\n",
       "      <th>75%</th>\n",
       "      <th>max</th>\n",
       "    </tr>\n",
       "  </thead>\n",
       "  <tbody>\n",
       "    <tr>\n",
       "      <th>work_id</th>\n",
       "      <td>102298.0</td>\n",
       "      <td>5.165103e+06</td>\n",
       "      <td>6.015939e+06</td>\n",
       "      <td>1.0</td>\n",
       "      <td>40253.00</td>\n",
       "      <td>2835847.0</td>\n",
       "      <td>7788684.00</td>\n",
       "      <td>24998809.0</td>\n",
       "    </tr>\n",
       "    <tr>\n",
       "      <th>track_id</th>\n",
       "      <td>102298.0</td>\n",
       "      <td>4.452356e+06</td>\n",
       "      <td>4.886335e+06</td>\n",
       "      <td>15.0</td>\n",
       "      <td>1301414.25</td>\n",
       "      <td>2116795.0</td>\n",
       "      <td>6001035.75</td>\n",
       "      <td>20563324.0</td>\n",
       "    </tr>\n",
       "    <tr>\n",
       "      <th>Fs</th>\n",
       "      <td>102298.0</td>\n",
       "      <td>1.102763e+04</td>\n",
       "      <td>1.142731e+02</td>\n",
       "      <td>11025.0</td>\n",
       "      <td>11025.00</td>\n",
       "      <td>11025.0</td>\n",
       "      <td>11025.00</td>\n",
       "      <td>16000.0</td>\n",
       "    </tr>\n",
       "  </tbody>\n",
       "</table>\n",
       "</div>"
      ],
      "text/plain": [
       "             count          mean           std      min         25%  \\\n",
       "work_id   102298.0  5.165103e+06  6.015939e+06      1.0    40253.00   \n",
       "track_id  102298.0  4.452356e+06  4.886335e+06     15.0  1301414.25   \n",
       "Fs        102298.0  1.102763e+04  1.142731e+02  11025.0    11025.00   \n",
       "\n",
       "                50%         75%         max  \n",
       "work_id   2835847.0  7788684.00  24998809.0  \n",
       "track_id  2116795.0  6001035.75  20563324.0  \n",
       "Fs          11025.0    11025.00     16000.0  "
      ]
     },
     "execution_count": 8,
     "metadata": {},
     "output_type": "execute_result"
    }
   ],
   "source": [
    "# 5. summary statistics of the numerical features\n",
    "data.describe().T"
   ]
  },
  {
   "cell_type": "markdown",
   "metadata": {},
   "source": [
    "**As medidas descritas sobre as features numéricas nos mostram:**\n",
    "\n",
    "1. Fs: o espectro de ondas sonoras vai de 11.025,0 a 16.000,0, sendo pelo menos 75% decaindo sobre um Fs de 11.025; todos os exemplos aparentam estar preenchidos corretamente (102.298). \n",
    "2. track_id: todos os exemplos estão preenchidos nas 102.298 linhas (exemplos), começando em 15 e terminando em 20.563.324.\n",
    "3. work_id: todos os exemplos estão preenchidos nas 102.298 linhas, começando em 1 e terminando em 24.998.809.\n",
    "\n",
    "Sabe-se que a relação entre as músicas e os grupos de covers é a seguinte: existem 102.298 músicas, distribuídas em 26.366 grupos de covers. Isso implica que os ids dessas features não possuem uma relação unívoca, ou seja, a primeira track (música) não corresponde ao id 1, assim como o último work (grupo de cover) não corresponde ao id 26.366. Talvez, os ids tenham sido gerados de forma aleatória."
   ]
  },
  {
   "cell_type": "code",
   "execution_count": 9,
   "metadata": {},
   "outputs": [
    {
     "data": {
      "text/html": [
       "<div>\n",
       "<style scoped>\n",
       "    .dataframe tbody tr th:only-of-type {\n",
       "        vertical-align: middle;\n",
       "    }\n",
       "\n",
       "    .dataframe tbody tr th {\n",
       "        vertical-align: top;\n",
       "    }\n",
       "\n",
       "    .dataframe thead th {\n",
       "        text-align: right;\n",
       "    }\n",
       "</style>\n",
       "<table border=\"1\" class=\"dataframe\">\n",
       "  <thead>\n",
       "    <tr style=\"text-align: right;\">\n",
       "      <th></th>\n",
       "      <th>Music_Name</th>\n",
       "      <th>Artist_Name</th>\n",
       "      <th>Source</th>\n",
       "      <th>Genre_ECAD</th>\n",
       "      <th>Recording_Version</th>\n",
       "      <th>Duration</th>\n",
       "      <th>MBID</th>\n",
       "      <th>ISWC</th>\n",
       "      <th>ISRC</th>\n",
       "      <th>Country</th>\n",
       "      <th>Year</th>\n",
       "    </tr>\n",
       "  </thead>\n",
       "  <tbody>\n",
       "    <tr>\n",
       "      <th>count</th>\n",
       "      <td>102298</td>\n",
       "      <td>102298</td>\n",
       "      <td>102298</td>\n",
       "      <td>102298</td>\n",
       "      <td>102298</td>\n",
       "      <td>102298</td>\n",
       "      <td>102298</td>\n",
       "      <td>102298</td>\n",
       "      <td>102298</td>\n",
       "      <td>102298</td>\n",
       "      <td>88849</td>\n",
       "    </tr>\n",
       "    <tr>\n",
       "      <th>unique</th>\n",
       "      <td>23776</td>\n",
       "      <td>23432</td>\n",
       "      <td>4</td>\n",
       "      <td>48</td>\n",
       "      <td>38</td>\n",
       "      <td>25752</td>\n",
       "      <td>30722</td>\n",
       "      <td>15889</td>\n",
       "      <td>88863</td>\n",
       "      <td>51</td>\n",
       "      <td>97</td>\n",
       "    </tr>\n",
       "    <tr>\n",
       "      <th>top</th>\n",
       "      <td>1. ALLEGRO</td>\n",
       "      <td>ELVIS PRESLEY</td>\n",
       "      <td>IMPORTACAO</td>\n",
       "      <td>ND</td>\n",
       "      <td>STUDIO</td>\n",
       "      <td>00:03:00</td>\n",
       "      <td>ND</td>\n",
       "      <td>ND</td>\n",
       "      <td>ND</td>\n",
       "      <td>BR</td>\n",
       "      <td>2003-01-01 00:00:00</td>\n",
       "    </tr>\n",
       "    <tr>\n",
       "      <th>freq</th>\n",
       "      <td>183</td>\n",
       "      <td>932</td>\n",
       "      <td>44623</td>\n",
       "      <td>98128</td>\n",
       "      <td>80369</td>\n",
       "      <td>306</td>\n",
       "      <td>51488</td>\n",
       "      <td>34976</td>\n",
       "      <td>13372</td>\n",
       "      <td>41063</td>\n",
       "      <td>4360</td>\n",
       "    </tr>\n",
       "    <tr>\n",
       "      <th>first</th>\n",
       "      <td>NaN</td>\n",
       "      <td>NaN</td>\n",
       "      <td>NaN</td>\n",
       "      <td>NaN</td>\n",
       "      <td>NaN</td>\n",
       "      <td>NaN</td>\n",
       "      <td>NaN</td>\n",
       "      <td>NaN</td>\n",
       "      <td>NaN</td>\n",
       "      <td>NaN</td>\n",
       "      <td>1921-01-01 00:00:00</td>\n",
       "    </tr>\n",
       "    <tr>\n",
       "      <th>last</th>\n",
       "      <td>NaN</td>\n",
       "      <td>NaN</td>\n",
       "      <td>NaN</td>\n",
       "      <td>NaN</td>\n",
       "      <td>NaN</td>\n",
       "      <td>NaN</td>\n",
       "      <td>NaN</td>\n",
       "      <td>NaN</td>\n",
       "      <td>NaN</td>\n",
       "      <td>NaN</td>\n",
       "      <td>2020-01-01 00:00:00</td>\n",
       "    </tr>\n",
       "  </tbody>\n",
       "</table>\n",
       "</div>"
      ],
      "text/plain": [
       "        Music_Name    Artist_Name      Source Genre_ECAD Recording_Version  \\\n",
       "count       102298         102298      102298     102298            102298   \n",
       "unique       23776          23432           4         48                38   \n",
       "top     1. ALLEGRO  ELVIS PRESLEY  IMPORTACAO         ND            STUDIO   \n",
       "freq           183            932       44623      98128             80369   \n",
       "first          NaN            NaN         NaN        NaN               NaN   \n",
       "last           NaN            NaN         NaN        NaN               NaN   \n",
       "\n",
       "        Duration    MBID    ISWC    ISRC Country                 Year  \n",
       "count     102298  102298  102298  102298  102298                88849  \n",
       "unique     25752   30722   15889   88863      51                   97  \n",
       "top     00:03:00      ND      ND      ND      BR  2003-01-01 00:00:00  \n",
       "freq         306   51488   34976   13372   41063                 4360  \n",
       "first        NaN     NaN     NaN     NaN     NaN  1921-01-01 00:00:00  \n",
       "last         NaN     NaN     NaN     NaN     NaN  2020-01-01 00:00:00  "
      ]
     },
     "execution_count": 9,
     "metadata": {},
     "output_type": "execute_result"
    }
   ],
   "source": [
    "# 6. summary statistics of the categorical features\n",
    "data.describe(include=['object', 'datetime']) # first and last values refers just to Year (datetime column)"
   ]
  },
  {
   "cell_type": "markdown",
   "metadata": {},
   "source": [
    "**As demais 11 features são categóricas (incluindo uma, Year, de data):**\n",
    "\n",
    "1. Music_Name: possui diversos valores repetidos, mas todos os exemplos estão preenchidos. A música com cover mais comum possui 183 entradas e contém em seu nome o texto \"1. ALLEGRO\".\n",
    "2. Artist_Name: existem aproximadamente 23 mil artistas diferentes. O cover mais comum é do cantor Elvis Presley, com 932 entradas.\n",
    "3. Source: há somente 4 fontes de gravação dos covers, sendo a mais comum - importação.\n",
    "4. Genre_ECAD: existem 48 gêneros musicais distintos (baseados no Escritório Central de Arrecadação e Distribuição - ECAD).\n",
    "5. Recording_Version: existem 38 versões de gravação diferentes, sendo a de estúdio, a mais comum (80.369 entradas).\n",
    "6. Duration: o tempo mais comum das músicas é o de 3 minutos de duração. Este tempo está relacionado com as conhecidas \"versões de rádio\".\n",
    "7. MBID: da mesma forma que há músicas que se repetem, há diversos exemplos com o identificador MusicBrainz (MBID) repetido.\n",
    "8. ISWC: este ID único aparece repetido (diversas vezes), porque há registros da mesma música (várias vezes) no dataset.\n",
    "9. ISRC: este ID, que identifica unicamente uma gravação, pode aparecer repetido devido a mais de uma entrada do mesmo cover no dataset.\n",
    "10. Country: há músicas de diversos países, sendo o Brasil o país com maior número de registros (41.063). Ainda não se pode afirmar se são 51 países distintos sem antes analisar os exemplos com mais cuidado.\n",
    "11. Year: com 97 registros, temos covers de músicas do ano de 1921 a 2020."
   ]
  },
  {
   "cell_type": "markdown",
   "metadata": {},
   "source": [
    "**Como descrito nas informações oficiais do dataset, as seguintes features possuem todos os valores informados:**\n",
    "\n",
    "- work_id\n",
    "- track_id\n",
    "- Music_Name\n",
    "- Artist_Name\n",
    "- Duration"
   ]
  },
  {
   "cell_type": "code",
   "execution_count": 10,
   "metadata": {},
   "outputs": [
    {
     "data": {
      "image/png": "[encoded data removed]",
      "text/plain": [
       "<Figure size 432x288 with 1 Axes>"
      ]
     },
     "metadata": {
      "needs_background": "light"
     },
     "output_type": "display_data"
    }
   ],
   "source": [
    "# 7. explore Source feature\n",
    "sns.countplot(y='Source', data=data)\n",
    "plt.show()"
   ]
  },
  {
   "cell_type": "markdown",
   "metadata": {},
   "source": [
    "**A primeira feature a ser analisada em mais detalhes é a *Source*, que contém 4 classes distintas:**\n",
    "\n",
    "Percebe-se que existem entradas **ND**, que são aquelas que não estão dentre CD, importação e captação de rádio."
   ]
  },
  {
   "cell_type": "code",
   "execution_count": 11,
   "metadata": {},
   "outputs": [
    {
     "data": {
      "text/plain": [
       "array(['ND', 'PAGODE', 'SAMBA CANCAO', 'MPB', 'SAMBA', 'SERTANEJO',\n",
       "       'BOSSA NOVA', 'FORRO', 'TANGO', 'POP MUSIC', 'VANEIRAO',\n",
       "       'ROMANTICO', 'ROCK', 'SAMBA ENREDO', 'HINO', 'TIMBALADA', 'FREVO',\n",
       "       'MAXIXE', 'TOADA', 'EVANGELICA', 'DANCE MUSIC', 'BAIAO', 'CHORO',\n",
       "       'VALSA', 'FUNK', 'FOX-TROT', 'CLASSICA', 'BOLERO', 'HEAVY METAL',\n",
       "       'MARCHA-RANCHO', 'XOTE', 'AXE MUSIC', 'GOSPEL', 'RELIGIOSO', 'RAP',\n",
       "       'MARCHA', 'INSTRUMENTAL', 'REGGAE', 'BALADA', 'LAMBADA', 'CANCAO',\n",
       "       'CATOLICO', 'CALYPSO', 'WORLD MUSIC', 'REGIONAL', 'SOUL', 'SACRA',\n",
       "       'OUTROS'], dtype=object)"
      ]
     },
     "execution_count": 11,
     "metadata": {},
     "output_type": "execute_result"
    }
   ],
   "source": [
    "# 8. explore Genre_ECAD feature\n",
    "data['Genre_ECAD'].unique()"
   ]
  },
  {
   "cell_type": "markdown",
   "metadata": {},
   "source": [
    "**A segunda feature a ser explorada é *Genre_ECAD*, que contém 48 classes distintas:**\n",
    "\n",
    "Percebe-se que existem entradas **ND**, que correspondem a gêneros desconhecidos ou não informados. Há também a categoria **outros**. Percebe-se que há covers, também, de músicas **instrumentais** e eletrônicas como **dance music**, que são gêneros que não apresentam necessariamente vocal, mas tão somente instrumentos musicais/eletrônicos."
   ]
  },
  {
   "cell_type": "code",
   "execution_count": 12,
   "metadata": {},
   "outputs": [
    {
     "data": {
      "text/plain": [
       "array(['STUDIO', 'LIVE (AO VIVO)', 'REMIX', 'TAPE', 'ACUSTICO',\n",
       "       'ACUSTICO MTV', 'UNPLUGGED (ACUSTICO)', 'ND', 'ACUSTICO AO VIVO',\n",
       "       'RADIO REMIX', 'HOUSE EDIT', 'DVD', 'A CAPELA', 'RADIO VERSION',\n",
       "       'STUDIO VERSION', 'NI', 'MTV AO VIVO', 'MIX', 'ALBUM', 'VHS',\n",
       "       'VINHETA', 'MEME SUPER CLUB MIX 2002', 'POP MIX', 'EXTENDED MIX',\n",
       "       'BIBLIOTECA', 'RADIO EDIT', 'ROCK VERSION', 'G-VO MIX', 'SURTO',\n",
       "       'CLUB REMIX', 'PLAY BACK', 'RADIO MIX', 'LONG VERSION',\n",
       "       'EDITED SLOW', 'EDIT MIX', 'XRS REMIX RADIO EDIT', 'LOUNGE MIX',\n",
       "       'GROOVE MIX'], dtype=object)"
      ]
     },
     "execution_count": 12,
     "metadata": {},
     "output_type": "execute_result"
    }
   ],
   "source": [
    "# 9. explore Recording_Version feature\n",
    "data['Recording_Version'].unique()"
   ]
  },
  {
   "cell_type": "markdown",
   "metadata": {},
   "source": [
    "**A terceira feature a ser explorada é *Recording_Version*, que contém 38 classes distintas:**\n",
    "\n",
    "Nota-se entradas **ND**, também, para esta feature. Há diversas categorias inclusas na modalidade **ao vivo**, como **live** e **acústico ao vivo**. Conforme informações oficiais dos autores do dataset, as classes mais comuns dentre os covers gravados são: estúdio, ao vivo e remix. No próximo passo confirmamos isto por meio de um gráfico."
   ]
  },
  {
   "cell_type": "code",
   "execution_count": 13,
   "metadata": {},
   "outputs": [
    {
     "name": "stdout",
     "output_type": "stream",
     "text": [
      "   Tipos de Gravação  Ocorrências\n",
      "30            STUDIO        80369\n",
      "14    LIVE (AO VIVO)        17504\n",
      "28             REMIX         2765\n",
      "20                ND          671\n",
      "1           ACUSTICO          205\n",
      "---\n"
     ]
    },
    {
     "data": {
      "image/png": "[encoded data removed]",
      "text/plain": [
       "<Figure size 432x288 with 1 Axes>"
      ]
     },
     "metadata": {
      "needs_background": "light"
     },
     "output_type": "display_data"
    }
   ],
   "source": [
    "# 9.continuation. plot most frequent classes\n",
    "recording_version = data[['Artist_Name', 'Recording_Version']].copy()\n",
    "recording_version = recording_version.groupby(by=['Recording_Version']).count().reset_index()\n",
    "recording_version_TOP = recording_version.sort_values('Artist_Name', ascending=False)\n",
    "recording_version_TOP.rename(index=str, columns={'Recording_Version': 'Tipos de Gravação', 'Artist_Name': 'Ocorrências'}, inplace=True)\n",
    "recording_version_TOP_5 = recording_version_TOP.head(5)\n",
    "\n",
    "print(recording_version_TOP_5)\n",
    "print('---')\n",
    "\n",
    "# plot results\n",
    "recording_version_TOP_5_plot = sns.barplot(x='Tipos de Gravação', y='Ocorrências', data=recording_version_TOP_5)"
   ]
  },
  {
   "cell_type": "code",
   "execution_count": 14,
   "metadata": {},
   "outputs": [
    {
     "name": "stdout",
     "output_type": "stream",
     "text": [
      "False    102298\n",
      "Name: Duration, dtype: int64\n",
      "---\n",
      "False    102298\n",
      "Name: Duration, dtype: int64\n"
     ]
    }
   ],
   "source": [
    "# 10. explore Duration feature\n",
    "isNegativeHour = data['Duration'] < dt.time(hour=0) # are there negative hours?\n",
    "isNegativeMinute = data['Duration'] <= dt.time(minute=0) # are there negative, or zero, minutes?\n",
    "\n",
    "print(isNegativeHour.value_counts())\n",
    "print('---')\n",
    "print(isNegativeMinute.value_counts())"
   ]
  },
  {
   "cell_type": "code",
   "execution_count": 15,
   "metadata": {},
   "outputs": [
    {
     "name": "stdout",
     "output_type": "stream",
     "text": [
      "Gravação mais curta:  00:00:04.370000\n",
      "Gravação mais longa:  00:38:19.600000\n",
      "Gravação mais comum:  00:03:00\n",
      "---\n"
     ]
    },
    {
     "data": {
      "image/png": "[encoded data removed]",
      "text/plain": [
       "<Figure size 432x288 with 1 Axes>"
      ]
     },
     "metadata": {
      "needs_background": "light"
     },
     "output_type": "display_data"
    }
   ],
   "source": [
    "# 10.continuation. plot Duration distribution\n",
    "print('Gravação mais curta: ', min(data['Duration']))\n",
    "print('Gravação mais longa: ', max(data['Duration']))\n",
    "\n",
    "examples_list = list(range(1, data.shape[0]+1))\n",
    "y_dt = [dt.datetime.combine(dt.date.max, t) for t in data['Duration']]\n",
    "\n",
    "# plot musics per duration\n",
    "fig = plt.figure()\n",
    "ax = fig.add_subplot(1,1,1) \n",
    "ax.yaxis.set_major_formatter(mdates.DateFormatter('%M:%S'))\n",
    "music_duration_plot = plt.plot(examples_list, y_dt)\n",
    "\n",
    "# get most frequent Duration class to draw and plot\n",
    "uniques, counts = np.unique(y_dt, return_counts=True)\n",
    "duration_most_frequent = uniques[np.argmax(counts)]\n",
    "duration_most_frequent_list = [duration_most_frequent for i in range(len(examples_list))]\n",
    "\n",
    "print('Gravação mais comum: ', duration_most_frequent.time())\n",
    "print('---')\n",
    "\n",
    "plt.plot(range(len(examples_list)), duration_most_frequent_list)\n",
    "plt.title('Tempo, em minutos, de cada cover gravado')\n",
    "plt.show()"
   ]
  },
  {
   "cell_type": "markdown",
   "metadata": {},
   "source": [
    "**Ao explorar a quarta feature, *Duration*, que contém 25.752 classes distintas, temos que:**\n",
    "\n",
    "Todas as classes contém valores de duração de música válidos. (Os valores tratados como inválidos são considerados como NaT.) Temos 102.298 exemplos (mesmo número de linhas do dataset) com valores iguais a NaT ou iguais a um tempo válido de hora:minuto:segundo.microsegundo.\n",
    "\n",
    "A gravação mais curta dura poucos segundos e a mais longa possui quase 40 minutos. O gráfico exibido acima mostra a distribuição das músicas com relação ao tempo de gravação do cover. Há uma grande concentração de músicas com duração de aproximadamente 3 minutos."
   ]
  },
  {
   "cell_type": "code",
   "execution_count": 16,
   "metadata": {},
   "outputs": [
    {
     "name": "stdout",
     "output_type": "stream",
     "text": [
      "False country acronyms: {'ND', 'NDI'}\n",
      "---\n",
      "ND count = 8398\n",
      "NDI count = 1156\n"
     ]
    }
   ],
   "source": [
    "# 11. explore Country feature\n",
    "\n",
    "# first, let's review country list data table\n",
    "data_country = pd.read_csv('CountryList_ISRC.csv', delimiter=';')\n",
    "data_country.columns = ['ACRONYM', 'ACRONYM_BIGGER', 'Country']\n",
    "data_country = data_country.dropna()\n",
    "data_country.head(5)\n",
    "\n",
    "# second, get the acronymns that doesn't exist\n",
    "countries_cover_list = data['Country']\n",
    "countries_ISRC_list_2_letter = data_country['ACRONYM']\n",
    "countries_ISRC_list_3_letter = data_country['ACRONYM_BIGGER']\n",
    "\n",
    "false_acronyms = [s for s in countries_cover_list if not any(xs in s for xs in countries_ISRC_list_2_letter) and not any(xs in s for xs in countries_ISRC_list_3_letter)]\n",
    "\n",
    "print('False country acronyms:', set(false_acronyms))\n",
    "print('---')\n",
    "\n",
    "for false_acronym in set(false_acronyms):\n",
    "    false_acronyms_count_condition = data['Country'][data['Country'] == false_acronym]\n",
    "    false_acronyms_count = false_acronyms_count_condition.count()\n",
    "    \n",
    "    print(false_acronym + ' count = ' + str(false_acronyms_count))"
   ]
  },
  {
   "cell_type": "code",
   "execution_count": 17,
   "metadata": {},
   "outputs": [
    {
     "name": "stdout",
     "output_type": "stream",
     "text": [
      "   Países  Ocorrências\n",
      "7      BR        41063\n",
      "49     US        28723\n",
      "19     GB        10284\n",
      "30     ND         8398\n",
      "14     DE         4651\n",
      "---\n"
     ]
    },
    {
     "data": {
      "image/png": "[encoded data removed]",
      "text/plain": [
       "<Figure size 432x288 with 1 Axes>"
      ]
     },
     "metadata": {
      "needs_background": "light"
     },
     "output_type": "display_data"
    }
   ],
   "source": [
    "# 11.continuation. plot most frequent classes\n",
    "countries = data[['Artist_Name', 'Country']].copy()\n",
    "countries = countries.groupby(by=['Country']).count().reset_index()\n",
    "countries_TOP = countries.sort_values('Artist_Name', ascending=False)\n",
    "countries_TOP.rename(index=str, columns={'Country': 'Países', 'Artist_Name': 'Ocorrências'}, inplace=True)\n",
    "countries_TOP_5 = countries_TOP.head(5)\n",
    "\n",
    "print(countries_TOP_5)\n",
    "print('---')\n",
    "\n",
    "# plot results\n",
    "countries_TOP_5_plot = sns.barplot(x='Países', y='Ocorrências', data=countries_TOP_5)"
   ]
  },
  {
   "cell_type": "markdown",
   "metadata": {},
   "source": [
    "**Ao explorar a quinta feature, *Country*, que contém 51 classes distintas, temos que:**\n",
    "\n",
    "- Os exemplos representam siglas dos países dos covers, em inglês, de acordo com o *CountryList_ISRC.csv*, disponibilizado pelos autores do dataset de covers.\n",
    "- Na descrição oficial do dataset, temos 44 países, então tivemos de tratar siglas fora de contexto (que não representam países - problemas/ruídos na construção do dataset).\n",
    "- Existem 8.398 exemplos com a entrada **ND** que serão considerados como **outros** países.\n",
    "- Existem 1.156 exemplos com a entrada **NDI** que não corresponde a nenhum país listado.\n",
    "- Brasil, Estados Unidos e Reino Unido estão dentre os países com mais registros de cover."
   ]
  },
  {
   "cell_type": "code",
   "execution_count": 18,
   "metadata": {},
   "outputs": [
    {
     "name": "stdout",
     "output_type": "stream",
     "text": [
      "Número de músicas por feature (que não possui todos os casos informados):\n",
      "\n",
      "{'Genre': 4170, 'ISRC': 88926, 'ISWC': 67322, 'MBID': 50810, 'Country': 92744, 'Year': 88849}\n"
     ]
    },
    {
     "data": {
      "text/html": [
       "<div>\n",
       "<style scoped>\n",
       "    .dataframe tbody tr th:only-of-type {\n",
       "        vertical-align: middle;\n",
       "    }\n",
       "\n",
       "    .dataframe tbody tr th {\n",
       "        vertical-align: top;\n",
       "    }\n",
       "\n",
       "    .dataframe thead th {\n",
       "        text-align: right;\n",
       "    }\n",
       "</style>\n",
       "<table border=\"1\" class=\"dataframe\">\n",
       "  <thead>\n",
       "    <tr style=\"text-align: right;\">\n",
       "      <th></th>\n",
       "      <th>Feature</th>\n",
       "      <th>#exemplos</th>\n",
       "      <th>Representatividade (%)</th>\n",
       "    </tr>\n",
       "  </thead>\n",
       "  <tbody>\n",
       "    <tr>\n",
       "      <th>4</th>\n",
       "      <td>Country</td>\n",
       "      <td>92744</td>\n",
       "      <td>90.660619</td>\n",
       "    </tr>\n",
       "    <tr>\n",
       "      <th>1</th>\n",
       "      <td>ISRC</td>\n",
       "      <td>88926</td>\n",
       "      <td>86.928386</td>\n",
       "    </tr>\n",
       "    <tr>\n",
       "      <th>5</th>\n",
       "      <td>Year</td>\n",
       "      <td>88849</td>\n",
       "      <td>86.853115</td>\n",
       "    </tr>\n",
       "    <tr>\n",
       "      <th>2</th>\n",
       "      <td>ISWC</td>\n",
       "      <td>67322</td>\n",
       "      <td>65.809693</td>\n",
       "    </tr>\n",
       "    <tr>\n",
       "      <th>3</th>\n",
       "      <td>MBID</td>\n",
       "      <td>50810</td>\n",
       "      <td>49.668615</td>\n",
       "    </tr>\n",
       "    <tr>\n",
       "      <th>0</th>\n",
       "      <td>Genre</td>\n",
       "      <td>4170</td>\n",
       "      <td>4.076326</td>\n",
       "    </tr>\n",
       "  </tbody>\n",
       "</table>\n",
       "</div>"
      ],
      "text/plain": [
       "   Feature  #exemplos  Representatividade (%)\n",
       "4  Country      92744               90.660619\n",
       "1     ISRC      88926               86.928386\n",
       "5     Year      88849               86.853115\n",
       "2     ISWC      67322               65.809693\n",
       "3     MBID      50810               49.668615\n",
       "0    Genre       4170                4.076326"
      ]
     },
     "execution_count": 18,
     "metadata": {},
     "output_type": "execute_result"
    },
    {
     "data": {
      "image/png": "[encoded data removed]",
      "text/plain": [
       "<Figure size 432x288 with 1 Axes>"
      ]
     },
     "metadata": {
      "needs_background": "light"
     },
     "output_type": "display_data"
    }
   ],
   "source": [
    "# aggregate some data: count another occurrences (non ND, NaN, values)\n",
    "dict_ocurr = {}\n",
    "\n",
    "# songs by Genre_ECAD\n",
    "songs_by_genre = data['Genre_ECAD'][data['Genre_ECAD'] != 'ND'].count()\n",
    "dict_ocurr['Genre'] = songs_by_genre\n",
    "\n",
    "# songs by ISRC\n",
    "songs_by_ISRC = data['ISRC'][data['ISRC'] != 'ND'].count()\n",
    "dict_ocurr['ISRC'] = songs_by_ISRC\n",
    "\n",
    "# songs by ISWC\n",
    "songs_by_ISWC = data['ISWC'][data['ISWC'] != 'ND'].count()\n",
    "dict_ocurr['ISWC'] = songs_by_ISWC\n",
    "\n",
    "# songs by MBID\n",
    "songs_by_MBID = data['MBID'][data['MBID'] != 'ND'].count()\n",
    "dict_ocurr['MBID'] = songs_by_MBID\n",
    "\n",
    "# songs by Country\n",
    "songs_by_country = data['Country'][data['Country'] == 'NDI'].count()\n",
    "songs_by_country = songs_by_country + data['Country'][data['Country'] == 'ND'].count()\n",
    "dict_ocurr['Country'] = data['Country'].count() - songs_by_country\n",
    "\n",
    "# songs by Year\n",
    "songs_by_year = data['Year'].count()\n",
    "dict_ocurr['Year'] = songs_by_year\n",
    "\n",
    "print('Número de músicas por feature (que não possui todos os casos informados):')\n",
    "print()\n",
    "print(dict_ocurr)\n",
    "\n",
    "# plot feature representativeness\n",
    "features_representativeness_plot_x = list(dict_ocurr.keys())\n",
    "features_representativeness_plot_y = list(dict_ocurr.values())\n",
    "\n",
    "ocurr_data = pd.DataFrame(features_representativeness_plot_x,columns=['#Songs'])\n",
    "ocurr_data['Occurrences'] = features_representativeness_plot_y\n",
    "\n",
    "features_representativeness_plot = sns.barplot(x=features_representativeness_plot_x, \n",
    "                                                y=features_representativeness_plot_y, \n",
    "                                                data=ocurr_data).set_title('Representatividade de algumas features (total de 102.298 exemplos)')\n",
    "\n",
    "# print features ratio\n",
    "ratio_list = [ratio / data.shape[0] * 100 for ratio in features_representativeness_plot_y]\n",
    "\n",
    "ratio_dataframe = pd.DataFrame(features_representativeness_plot_x,columns=['Feature'])\n",
    "ratio_dataframe['#exemplos'] = features_representativeness_plot_y\n",
    "ratio_dataframe['Representatividade (%)'] = ratio_list\n",
    "ratio_dataframe = ratio_dataframe.sort_values('Representatividade (%)', ascending=False)\n",
    "ratio_dataframe"
   ]
  },
  {
   "cell_type": "markdown",
   "metadata": {},
   "source": [
    "**Ao agregar as variáveis categóricas, pontua-se o seguinte:**\n",
    "\n",
    "As variáveis que não possuem todos os exemplos registrados (contém valores NDs/NaNs) variam em número de exemplos, consideravelmente, entre si.\n",
    "\n",
    "Enquanto o gênero de apenas 4.170 (de 102.298) músicas, ou 4%, foram informados, quase todos os países, 92.744, ou 90%, foram registrados."
   ]
  },
  {
   "cell_type": "code",
   "execution_count": 19,
   "metadata": {},
   "outputs": [
    {
     "data": {
      "text/html": [
       "<div>\n",
       "<style scoped>\n",
       "    .dataframe tbody tr th:only-of-type {\n",
       "        vertical-align: middle;\n",
       "    }\n",
       "\n",
       "    .dataframe tbody tr th {\n",
       "        vertical-align: top;\n",
       "    }\n",
       "\n",
       "    .dataframe thead th {\n",
       "        text-align: right;\n",
       "    }\n",
       "</style>\n",
       "<table border=\"1\" class=\"dataframe\">\n",
       "  <thead>\n",
       "    <tr style=\"text-align: right;\">\n",
       "      <th></th>\n",
       "      <th>ID do Cover</th>\n",
       "      <th># de músicas</th>\n",
       "    </tr>\n",
       "  </thead>\n",
       "  <tbody>\n",
       "    <tr>\n",
       "      <th>14681</th>\n",
       "      <td>5238551</td>\n",
       "      <td>76</td>\n",
       "    </tr>\n",
       "    <tr>\n",
       "      <th>14771</th>\n",
       "      <td>5240219</td>\n",
       "      <td>72</td>\n",
       "    </tr>\n",
       "    <tr>\n",
       "      <th>9983</th>\n",
       "      <td>2195919</td>\n",
       "      <td>69</td>\n",
       "    </tr>\n",
       "    <tr>\n",
       "      <th>12130</th>\n",
       "      <td>4357829</td>\n",
       "      <td>68</td>\n",
       "    </tr>\n",
       "    <tr>\n",
       "      <th>259</th>\n",
       "      <td>789</td>\n",
       "      <td>65</td>\n",
       "    </tr>\n",
       "  </tbody>\n",
       "</table>\n",
       "</div>"
      ],
      "text/plain": [
       "       ID do Cover  # de músicas\n",
       "14681      5238551            76\n",
       "14771      5240219            72\n",
       "9983       2195919            69\n",
       "12130      4357829            68\n",
       "259            789            65"
      ]
     },
     "execution_count": 19,
     "metadata": {},
     "output_type": "execute_result"
    }
   ],
   "source": [
    "# aggregate some data: continuation\n",
    "\n",
    "# songs per click\n",
    "clicks = data[['track_id', 'work_id']].copy()\n",
    "clicks = clicks.groupby(by=['work_id']).count().reset_index()\n",
    "clicks_TOP = clicks.sort_values('track_id', ascending=False)\n",
    "\n",
    "clicks_TOP.rename(index=str, columns={'work_id': 'ID do Cover', 'track_id': '# de músicas'}, inplace=True)\n",
    "clicks_TOP_5 = clicks_TOP.head(5)\n",
    "#clicks_TOP_5 = clicks_TOP.tail(5)\n",
    "clicks_TOP_5"
   ]
  },
  {
   "cell_type": "markdown",
   "metadata": {},
   "source": [
    "**Ao agregar as informações de cover e número de músicas, podemos perceber que uma pessoa pode ter feito entre 2 e 76 covers.**"
   ]
  },
  {
   "cell_type": "code",
   "execution_count": 20,
   "metadata": {},
   "outputs": [
    {
     "data": {
      "text/html": [
       "<div>\n",
       "<style scoped>\n",
       "    .dataframe tbody tr th:only-of-type {\n",
       "        vertical-align: middle;\n",
       "    }\n",
       "\n",
       "    .dataframe tbody tr th {\n",
       "        vertical-align: top;\n",
       "    }\n",
       "\n",
       "    .dataframe thead th {\n",
       "        text-align: right;\n",
       "    }\n",
       "</style>\n",
       "<table border=\"1\" class=\"dataframe\">\n",
       "  <thead>\n",
       "    <tr style=\"text-align: right;\">\n",
       "      <th></th>\n",
       "      <th>work_id</th>\n",
       "      <th>track_id</th>\n",
       "      <th>Fs</th>\n",
       "    </tr>\n",
       "  </thead>\n",
       "  <tbody>\n",
       "    <tr>\n",
       "      <th>work_id</th>\n",
       "      <td>1.000000</td>\n",
       "      <td>0.394979</td>\n",
       "      <td>-0.002792</td>\n",
       "    </tr>\n",
       "    <tr>\n",
       "      <th>track_id</th>\n",
       "      <td>0.394979</td>\n",
       "      <td>1.000000</td>\n",
       "      <td>0.034104</td>\n",
       "    </tr>\n",
       "    <tr>\n",
       "      <th>Fs</th>\n",
       "      <td>-0.002792</td>\n",
       "      <td>0.034104</td>\n",
       "      <td>1.000000</td>\n",
       "    </tr>\n",
       "  </tbody>\n",
       "</table>\n",
       "</div>"
      ],
      "text/plain": [
       "           work_id  track_id        Fs\n",
       "work_id   1.000000  0.394979 -0.002792\n",
       "track_id  0.394979  1.000000  0.034104\n",
       "Fs       -0.002792  0.034104  1.000000"
      ]
     },
     "execution_count": 20,
     "metadata": {},
     "output_type": "execute_result"
    }
   ],
   "source": [
    "# correlations matrix for the different numerical features\n",
    "corrs = data.corr()\n",
    "corrs"
   ]
  },
  {
   "cell_type": "code",
   "execution_count": 21,
   "metadata": {},
   "outputs": [
    {
     "data": {
      "image/png": "[encoded data removed]",
      "text/plain": [
       "<Figure size 576x432 with 2 Axes>"
      ]
     },
     "metadata": {
      "needs_background": "light"
     },
     "output_type": "display_data"
    }
   ],
   "source": [
    "# heatmap of the correlations\n",
    "plt.figure(figsize=(8,6))\n",
    "sns.heatmap(corrs, cmap='RdBu_r', annot=True)\n",
    "plt.show()"
   ]
  },
  {
   "cell_type": "markdown",
   "metadata": {},
   "source": [
    "**Já com relação à correlação entre as variáveis numéricas:**\n",
    "\n",
    "Há fraca correlação entre as variáveis numéricas. Afinal, não existe uma relação lógica entre frequência de uma música e a sua identificação ou ainda a identificação do grupo de cover que ela pertence. Ainda assim, pode-se notar uma correlação, mesmo que mínima, entre um cover (work_id) e uma track_id, pois o autor do cover pode ter feito o seu trabalho para mais de uma música diferente."
   ]
  },
  {
   "cell_type": "markdown",
   "metadata": {},
   "source": [
    "# 4. Abordagem 1 - Ensemble: Floresta Aleatória (FA)"
   ]
  },
  {
   "cell_type": "markdown",
   "metadata": {},
   "source": [
    "A primeira etapa para a nossa primeira abordagem é realizar um pré-processamento dos dados segundo os seguintes procedimentos:\n",
    "\n",
    "1. Tratar valores não disponíveis (NaNs).\n",
    "2. Converter colunas datetime para numéricas (coluna Year, apenas).\n",
    "3. Definir os atributos (features) de entrada do modelo.\n",
    "4. Definir as classes de saída do modelo.\n",
    "\n",
    "A segunda etapa consiste em implementar o modelo propriamente dito. Ressalta-se que a floresta aleatória é considerada um método *bagging*.\n",
    "\n",
    "A terceira etapa consiste em implementar um novo modelo utilizando redução de dimensionalidade com a técnica Multiple Correspondence Analysis (continuação do pré-processamento) para verificar se é possível atingir performance e resultados melhores.\n",
    "\n",
    "**Observação:** o atributo **Music_Name:** não será considerado durante a classificação. Do ponto de vista de computacional, esta string é capaz de estourar a memória e derrubar o kernel de execução deste projeto."
   ]
  },
  {
   "cell_type": "markdown",
   "metadata": {},
   "source": [
    "## 4.1. FA - Pré-processamento"
   ]
  },
  {
   "cell_type": "code",
   "execution_count": 22,
   "metadata": {},
   "outputs": [
    {
     "data": {
      "text/plain": [
       "work_id                  0\n",
       "Music_Name               0\n",
       "track_id                 0\n",
       "Artist_Name              0\n",
       "Source                   0\n",
       "Genre_ECAD               0\n",
       "Recording_Version        0\n",
       "Duration                 0\n",
       "Fs                       0\n",
       "MBID                     0\n",
       "ISWC                     0\n",
       "ISRC                     0\n",
       "Country                  0\n",
       "Year                 13449\n",
       "dtype: int64"
      ]
     },
     "execution_count": 22,
     "metadata": {},
     "output_type": "execute_result"
    }
   ],
   "source": [
    "# count NAN values\n",
    "data.isnull().sum()"
   ]
  },
  {
   "cell_type": "code",
   "execution_count": 23,
   "metadata": {},
   "outputs": [
    {
     "name": "stdout",
     "output_type": "stream",
     "text": [
      "Mediana de Year:  2004-01-01 00:00:00\n"
     ]
    }
   ],
   "source": [
    "############## Deal with NANs - Year ##############\n",
    "median_year = data['Year'].quantile(0.5, interpolation='midpoint')\n",
    "print('Mediana de Year: ', median_year)\n",
    "\n",
    "# fill NANs with median\n",
    "data['Year'].fillna(median_year, inplace=True)"
   ]
  },
  {
   "cell_type": "code",
   "execution_count": 24,
   "metadata": {},
   "outputs": [
    {
     "data": {
      "text/plain": [
       "work_id              0\n",
       "Music_Name           0\n",
       "track_id             0\n",
       "Artist_Name          0\n",
       "Source               0\n",
       "Genre_ECAD           0\n",
       "Recording_Version    0\n",
       "Duration             0\n",
       "Fs                   0\n",
       "MBID                 0\n",
       "ISWC                 0\n",
       "ISRC                 0\n",
       "Country              0\n",
       "Year                 0\n",
       "dtype: int64"
      ]
     },
     "execution_count": 24,
     "metadata": {},
     "output_type": "execute_result"
    }
   ],
   "source": [
    "# recheck NAN\n",
    "data.isnull().sum()"
   ]
  },
  {
   "cell_type": "code",
   "execution_count": 25,
   "metadata": {},
   "outputs": [],
   "source": [
    "# convert Year to numeric type\n",
    "data['Year'] = data.Year.astype(str).str[:4]\n",
    "data['Year'] = data['Year'].astype(int)"
   ]
  },
  {
   "cell_type": "code",
   "execution_count": 26,
   "metadata": {},
   "outputs": [
    {
     "data": {
      "text/plain": [
       "(102298, 14)"
      ]
     },
     "execution_count": 26,
     "metadata": {},
     "output_type": "execute_result"
    }
   ],
   "source": [
    "# check the shape of pre-processed data\n",
    "data.shape"
   ]
  },
  {
   "cell_type": "code",
   "execution_count": 27,
   "metadata": {},
   "outputs": [
    {
     "data": {
      "text/html": [
       "<div>\n",
       "<style scoped>\n",
       "    .dataframe tbody tr th:only-of-type {\n",
       "        vertical-align: middle;\n",
       "    }\n",
       "\n",
       "    .dataframe tbody tr th {\n",
       "        vertical-align: top;\n",
       "    }\n",
       "\n",
       "    .dataframe thead th {\n",
       "        text-align: right;\n",
       "    }\n",
       "</style>\n",
       "<table border=\"1\" class=\"dataframe\">\n",
       "  <thead>\n",
       "    <tr style=\"text-align: right;\">\n",
       "      <th></th>\n",
       "      <th>work_id</th>\n",
       "      <th>Music_Name</th>\n",
       "      <th>track_id</th>\n",
       "      <th>Artist_Name</th>\n",
       "      <th>Source</th>\n",
       "      <th>Genre_ECAD</th>\n",
       "      <th>Recording_Version</th>\n",
       "      <th>Duration</th>\n",
       "      <th>Fs</th>\n",
       "      <th>MBID</th>\n",
       "      <th>ISWC</th>\n",
       "      <th>ISRC</th>\n",
       "      <th>Country</th>\n",
       "      <th>Year</th>\n",
       "    </tr>\n",
       "  </thead>\n",
       "  <tbody>\n",
       "    <tr>\n",
       "      <th>66774</th>\n",
       "      <td>5293539</td>\n",
       "      <td>CANCAO DO CEU</td>\n",
       "      <td>2358230</td>\n",
       "      <td>ANDERSON FREIRE</td>\n",
       "      <td>CD</td>\n",
       "      <td>ND</td>\n",
       "      <td>STUDIO</td>\n",
       "      <td>00:05:07.920000</td>\n",
       "      <td>11025</td>\n",
       "      <td>8724418c-2bf7-4d05-b28b-01fa52ba749e</td>\n",
       "      <td>T0396150245</td>\n",
       "      <td>BRMKP1000650</td>\n",
       "      <td>BR</td>\n",
       "      <td>2010</td>\n",
       "    </tr>\n",
       "  </tbody>\n",
       "</table>\n",
       "</div>"
      ],
      "text/plain": [
       "       work_id     Music_Name  track_id      Artist_Name Source Genre_ECAD  \\\n",
       "66774  5293539  CANCAO DO CEU   2358230  ANDERSON FREIRE     CD         ND   \n",
       "\n",
       "      Recording_Version         Duration     Fs  \\\n",
       "66774            STUDIO  00:05:07.920000  11025   \n",
       "\n",
       "                                       MBID         ISWC          ISRC  \\\n",
       "66774  8724418c-2bf7-4d05-b28b-01fa52ba749e  T0396150245  BRMKP1000650   \n",
       "\n",
       "      Country  Year  \n",
       "66774      BR  2010  "
      ]
     },
     "execution_count": 27,
     "metadata": {},
     "output_type": "execute_result"
    }
   ],
   "source": [
    "# check the pre-processed data\n",
    "data.sample()"
   ]
  },
  {
   "cell_type": "code",
   "execution_count": 28,
   "metadata": {},
   "outputs": [],
   "source": [
    "# define input/output\n",
    "y = data.Artist_Name\n",
    "coverSongIdentification_features = ['Source', 'Genre_ECAD', 'Recording_Version', 'Duration', \n",
    "                                    'MBID', 'ISWC', 'ISRC', 'Country', 'Year']           \n",
    "\n",
    "X = data[coverSongIdentification_features]\n",
    "\n",
    "# split data: train/validation\n",
    "X_train, X_val, y_train, y_val = train_test_split(X, y, random_state=0, train_size=0.75, test_size=0.25)\n",
    "\n",
    "# check data balancing\n",
    "#y_train.value_counts()\n",
    "#y_val.value_counts()\n",
    "\n",
    "# check #examples output\n",
    "#len(y_train)\n",
    "#len(y_val)\n",
    "\n",
    "# pre-processing - pipeline\n",
    "\n",
    "# deal with numerical data\n",
    "numerical_transformer = SimpleImputer(strategy='constant')\n",
    "\n",
    "# deal with categorical data\n",
    "categorical_transformer = Pipeline(steps=[\n",
    "    ('imputer', SimpleImputer(strategy='most_frequent')),\n",
    "    ('onehot', OneHotEncoder(handle_unknown='ignore'))])\n",
    "\n",
    "# make preprocessor to encode X\n",
    "numerical_cols = [cname for cname in X_train.columns if X_train[cname].dtype in ['int64', 'float64']]\n",
    "categorical_cols = [cname for cname in X_train.columns if X_train[cname].dtype in ['object', 'datetime64[ns]']]\n",
    "\n",
    "# encode y\n",
    "y_label = preprocessing.LabelEncoder()\n",
    "y_train = y_label.fit_transform(y_train)\n",
    "y_val = y_label.fit_transform(y_val)\n",
    "\n",
    "preprocessor = ColumnTransformer(\n",
    "    transformers=[\n",
    "        ('num', numerical_transformer, numerical_cols),\n",
    "        ('cat', categorical_transformer, categorical_cols)])"
   ]
  },
  {
   "cell_type": "markdown",
   "metadata": {},
   "source": [
    "## 4.2. FA - Modelagem"
   ]
  },
  {
   "cell_type": "code",
   "execution_count": 29,
   "metadata": {},
   "outputs": [
    {
     "name": "stdout",
     "output_type": "stream",
     "text": [
      "Executando...\n",
      "---\n",
      "Erro médio absoluto = 5639.10\n",
      "Raiz do Erro Quadrático Médio = 6681.26\n"
     ]
    }
   ],
   "source": [
    "# 'Bagging' for Random Forest\n",
    "# 'Boosting' for Extreme Gradient Boosting\n",
    "doEnsemble('Bagging')"
   ]
  },
  {
   "cell_type": "markdown",
   "metadata": {},
   "source": [
    "## 4.3. FA - Modelagem com Multiple Correspondence Analysis (MCA)"
   ]
  },
  {
   "cell_type": "code",
   "execution_count": 30,
   "metadata": {},
   "outputs": [
    {
     "name": "stdout",
     "output_type": "stream",
     "text": [
      "MCA com 1 componentes -> EMA = 5362.67; REQM = 6442.47\n",
      "MCA com 2 componentes -> EMA = 6425.96; REQM = 7358.91\n",
      "MCA com 3 componentes -> EMA = 4090.31; REQM = 5048.48\n",
      "MCA com 4 componentes -> EMA = 5249.83; REQM = 6224.27\n",
      "MCA com 5 componentes -> EMA = 5533.86; REQM = 6367.40\n",
      "MCA com 6 componentes -> EMA = 4830.83; REQM = 5688.65\n",
      "MCA com 7 componentes -> EMA = 5196.86; REQM = 6044.14\n",
      "MCA com 8 componentes -> EMA = 5067.60; REQM = 5916.97\n",
      "MCA com 9 componentes -> EMA = 5868.77; REQM = 6728.89\n",
      "MCA com 10 componentes -> EMA = 4910.20; REQM = 5747.77\n",
      "---\n",
      "Melhor desempenho: 3 componentes\n"
     ]
    },
    {
     "data": {
      "image/png": "[encoded data removed]",
      "text/plain": [
       "<Figure size 432x432 with 1 Axes>"
      ]
     },
     "metadata": {
      "needs_background": "light"
     },
     "output_type": "display_data"
    }
   ],
   "source": [
    "# features tests\n",
    "coverSongIdentification_features_2 = ['Source', 'Genre_ECAD', 'Recording_Version', 'Duration','MBID', \n",
    "                                    'ISWC', 'ISRC', 'Country', 'Year']\n",
    "\n",
    "coverSongIdentification_features_2 = ['Source', 'Genre_ECAD', 'Recording_Version', 'Country', 'Year']\n",
    "coverSongIdentification_features_2 = ['Source', 'Genre_ECAD', 'Recording_Version', 'Country']\n",
    "\n",
    "X2 = data[coverSongIdentification_features_2]\n",
    "\n",
    "# 'Bagging' for Random Forest; 'Boosting' for Extreme Gradient Boosting.\n",
    "# n_components -> recommendation: n_components = 1 to 10\n",
    "# X2 = features\n",
    "preds_list = doEnsembleWithMCA('Bagging', 10, X2)"
   ]
  },
  {
   "cell_type": "markdown",
   "metadata": {},
   "source": [
    "# 5. Abordagem 2 - Ensemble: Extreme Gradient Boosting"
   ]
  },
  {
   "cell_type": "markdown",
   "metadata": {},
   "source": [
    "A segunda abordagem é uma alternativa para o uso de árvores de decisão. Neste caso, utilizaremos o Extreme Gradient Boosting, que utiliza o método Boosting com gradiente descendente. Este ensemble ajusta os modelos de árvores sequencialmente, em vez de simultaneamente, como é o caso do bagging realizado pelas florestas aleatórias.\n",
    "\n",
    "O pré-processamento é o mesmo do utilizado na abordagem 1."
   ]
  },
  {
   "cell_type": "markdown",
   "metadata": {},
   "source": [
    "## 5.1. Boosting - Modelagem"
   ]
  },
  {
   "cell_type": "code",
   "execution_count": 31,
   "metadata": {},
   "outputs": [
    {
     "name": "stdout",
     "output_type": "stream",
     "text": [
      "Executando...\n",
      "---\n",
      "Erro médio absoluto = 2543.85\n",
      "Raiz do Erro Quadrático Médio = 2997.51\n"
     ]
    }
   ],
   "source": [
    "# 'Bagging' for Random Forest\n",
    "# 'Boosting' for Extreme Gradient Boosting\n",
    "doEnsemble('Boosting')"
   ]
  },
  {
   "cell_type": "markdown",
   "metadata": {},
   "source": [
    "## 5.2. Boosting com MCA"
   ]
  },
  {
   "cell_type": "code",
   "execution_count": 32,
   "metadata": {},
   "outputs": [
    {
     "name": "stdout",
     "output_type": "stream",
     "text": [
      "MCA com 1 componentes -> EMA = 2574.43; REQM = 3027.74\n",
      "MCA com 2 componentes -> EMA = 2560.44; REQM = 3001.81\n",
      "MCA com 3 componentes -> EMA = 2714.47; REQM = 3252.35\n",
      "MCA com 4 componentes -> EMA = 2620.37; REQM = 3105.50\n",
      "MCA com 5 componentes -> EMA = 2641.23; REQM = 3121.03\n",
      "MCA com 6 componentes -> EMA = 2580.28; REQM = 3032.77\n",
      "MCA com 7 componentes -> EMA = 2596.73; REQM = 3072.88\n",
      "MCA com 8 componentes -> EMA = 2595.25; REQM = 3063.24\n",
      "MCA com 9 componentes -> EMA = 2573.14; REQM = 3029.76\n",
      "MCA com 10 componentes -> EMA = 2602.20; REQM = 3072.06\n",
      "---\n",
      "Melhor desempenho: 2 componentes\n"
     ]
    },
    {
     "data": {
      "image/png": "[encoded data removed]",
      "text/plain": [
       "<Figure size 432x432 with 1 Axes>"
      ]
     },
     "metadata": {
      "needs_background": "light"
     },
     "output_type": "display_data"
    }
   ],
   "source": [
    "# 'Bagging' for Random Forest; 'Boosting' for Extreme Gradient Boosting.\n",
    "# n_components -> recommendation: n_components = 1 to 10\n",
    "# X2 = features\n",
    "preds_list = doEnsembleWithMCA('Boosting', 10, X2)"
   ]
  },
  {
   "cell_type": "markdown",
   "metadata": {},
   "source": [
    "# 6. Abordagem 3 - Deep Learning (DL)"
   ]
  },
  {
   "cell_type": "markdown",
   "metadata": {},
   "source": [
    "Em ambientes de produção pode não ser possível obter os dados sobre um cover, como gênero, ano, país, versão de gravação, etc. Neste caso, convém extrair características intrínsecas da música. Neste sentido, podemos extrair diversos componentes sonoros, como a onda sonora, de uma música e alimentar uma rede neural profunda."
   ]
  },
  {
   "cell_type": "markdown",
   "metadata": {},
   "source": [
    "## 6.1. DL - Pré-processamento"
   ]
  },
  {
   "cell_type": "markdown",
   "metadata": {},
   "source": [
    "Para esta etapa, convém olhar para os dados por uma outra perspectiva: vamos verificar os componentes sonoros das músicas.\n",
    "\n",
    "De acordo com os autores do dataset, os arquivos das músicas não puderam ser disponibilizados devido a questões de direitos autorais. Contudo, disponibilizou-se os componentes musicais que serão obtidos nas próximas linhas de código."
   ]
  },
  {
   "cell_type": "code",
   "execution_count": 33,
   "metadata": {},
   "outputs": [
    {
     "name": "stdout",
     "output_type": "stream",
     "text": [
      "Atributos de uma música de exemplo: \n"
     ]
    },
    {
     "data": {
      "text/plain": [
       "dict_keys(['chroma_cens', 'crema', 'hpcp', 'key_extractor', 'madmom_features', 'mfcc_htk', 'params', 'label', 'track_id'])"
      ]
     },
     "execution_count": 33,
     "metadata": {},
     "output_type": "execute_result"
    }
   ],
   "source": [
    "# track example (song = features dictionary set)\n",
    "song_example = dd.io.load('19629.h5')\n",
    "\n",
    "song_example_features = song_example.keys()\n",
    "\n",
    "print('Atributos de uma música de exemplo: ')\n",
    "song_example_features"
   ]
  },
  {
   "cell_type": "code",
   "execution_count": 34,
   "metadata": {},
   "outputs": [
    {
     "name": "stdout",
     "output_type": "stream",
     "text": [
      "Tamanho de cada atributo sonoro:\n",
      "\n",
      "Chroma CENS: 23695\n",
      "Crema: 23694\n",
      "HPCP: 23695\n",
      "Key Extractor: 3\n",
      "Madmom Features: 4\n",
      "MFCC HTK: 20\n",
      "Params: 26\n",
      "Label: 1\n",
      "Track ID: 5\n"
     ]
    }
   ],
   "source": [
    "print('Tamanho de cada atributo sonoro:')\n",
    "print()\n",
    "print('Chroma CENS:', len(song_example['chroma_cens']))\n",
    "print('Crema:', len(song_example['crema']))\n",
    "print('HPCP:', len(song_example['hpcp']))\n",
    "print('Key Extractor:', len(song_example['key_extractor']))\n",
    "print('Madmom Features:', len(song_example['madmom_features']))\n",
    "print('MFCC HTK:', len(song_example['mfcc_htk']))\n",
    "print('Params:', len(song_example['params']))\n",
    "print('Label:', len(song_example['label']))\n",
    "print('Track ID:', len(song_example['track_id']))"
   ]
  },
  {
   "cell_type": "markdown",
   "metadata": {},
   "source": [
    "**Os atributos disponibilizados são (para mais informações, ver referência sobre *acoss*):**\n",
    "\n",
    "- Chroma CENS: indica a predominância de energia de cada uma das 12 possibilidades de notas musicais presentes na música, como por exemplo: C, C#, D, D#, ..., B}.\n",
    "\n",
    "- Crema: corresponde a Convolutional and Recurrent Estimators for Music Analysis. Trata-se do resultado de modelos estatísticos pré-treinados para a obtenção de acordes.\n",
    "\n",
    "- HPCP: sigla para Compute Harmonic Pitch Class Profiles. Corresponde a um conjunto de características sonoras obtidas por algum algoritmo, de mesmo nome, para reconhecimento de acordes.\n",
    "\n",
    "- Key Extractor: resultado da extração de escala, acorde e volume (*strength*) de um sinal sonoro.\n",
    "\n",
    "- Madmom Features: dados sobre batidas por minuto (*tempos*), ataques (*onsets*), *novfn* e *snovfn*, que são atributos obtidos por meio do algoritmo de Madmom.\n",
    "\n",
    "- MFCC HTK: janelas do tipo Mel Frequency Cepstral Coefficient (MFCC). Útil para modelar as características da voz humana.\n",
    "\n",
    "- Params: lista de parâmetros, com seus respectivos valores, dos atributos obtidos de cada música.\n",
    "\n",
    "- Label: rótulo identificador da música dentre os covers.\n",
    "\n",
    "- Track ID: identificador único da música."
   ]
  },
  {
   "cell_type": "code",
   "execution_count": 35,
   "metadata": {},
   "outputs": [
    {
     "data": {
      "image/png": "[encoded data removed]",
      "text/plain": [
       "<Figure size 360x360 with 2 Axes>"
      ]
     },
     "metadata": {
      "needs_background": "light"
     },
     "output_type": "display_data"
    }
   ],
   "source": [
    "# track example 1: plot chroma_cens\n",
    "rcParams['figure.figsize'] = 5, 5\n",
    "fig, ax = plt.subplots()\n",
    "\n",
    "chromagram = librosa.display.specshow(song_example['chroma_cens'], y_axis='chroma', x_axis='time', ax=ax)\n",
    "ax.set(title='chroma_cens')\n",
    "fig.colorbar(chromagram, ax=ax)\n",
    "plt.show()"
   ]
  },
  {
   "cell_type": "markdown",
   "metadata": {},
   "source": [
    "**No gráfico anterior podemos ver um exemplo ilustrativo de um atributo, o chroma cens. Pontos mais escuros (próximos de preto) representam escalas musicais menores e, a medidade que aproximamos do tom esbranquiçado, maiores são as escalas.**"
   ]
  },
  {
   "cell_type": "code",
   "execution_count": 36,
   "metadata": {},
   "outputs": [
    {
     "name": "stdout",
     "output_type": "stream",
     "text": [
      "Tamanho/tipo de cada atributo sonoro - 2 exemplos:\n",
      "\n",
      "Chroma CENS - exemplo 1: 23695 ||| exemplo 2: 19241\n",
      "Crema - exemplo 1: 23694 ||| exemplo 2: 19240\n",
      "HPCP - exemplo 1: 23695 ||| exemplo 2: 19241\n",
      "Key Extractor (Strength) - exemplo 1: <class 'numpy.float64'> ||| exemplo 2: <class 'numpy.float64'>\n",
      "Madmom Features (novfn) - exemplo 1: 23695 ||| exemplo 2: 19241\n",
      "Madmom Features (onsets) - exemplo 1: 394 ||| exemplo 2: 512\n",
      "Madmom Features (snovfn) - exemplo 1: 23695 ||| exemplo 2: 19241\n",
      "Madmom Features (tempos) - exemplo 1: 11 ||| exemplo 2: 12\n",
      "MFCC HTK - exemplo 1: 20 ||| exemplo 2: 20\n"
     ]
    }
   ],
   "source": [
    "# obtain data ->>>>> use CoversBR_download.py file\n",
    "\n",
    "print('Tamanho/tipo de cada atributo sonoro - 2 exemplos:')\n",
    "print()\n",
    "\n",
    "# obtain the features of an example 1\n",
    "e1_f1, e1_f2, e1_f3, e1_f4, e1_f5, e1_f6, e1_f7, e1_f8, e1_f9 = dd.io.load(\n",
    "    '19629.h5', ['/chroma_cens', '/crema', '/hpcp', '/key_extractor/strength',\n",
    "                '/madmom_features/novfn', '/madmom_features/onsets', '/madmom_features/snovfn',\n",
    "                '/madmom_features/tempos', '/mfcc_htk'])\n",
    "\n",
    "# obtain the features of an example 2\n",
    "e2_f1, e2_f2, e2_f3, e2_f4, e2_f5, e2_f6, e2_f7, e2_f8, e2_f9 = dd.io.load(\n",
    "    '30031.h5', ['/chroma_cens', '/crema', '/hpcp', '/key_extractor/strength',\n",
    "                '/madmom_features/novfn', '/madmom_features/onsets', '/madmom_features/snovfn',\n",
    "                '/madmom_features/tempos', '/mfcc_htk'])\n",
    "\n",
    "# feature engineering\n",
    "print('Chroma CENS - exemplo 1: %i ||| exemplo 2: %i' % (len(e1_f1), len(e2_f1)))\n",
    "print('Crema - exemplo 1: %i ||| exemplo 2: %i' % (len(e1_f2), len(e2_f2)))\n",
    "print('HPCP - exemplo 1: %i ||| exemplo 2: %i' % (len(e1_f3), len(e2_f3)))\n",
    "print('Key Extractor (Strength) - exemplo 1: %s ||| exemplo 2: %s' % (type(e1_f4), type(e2_f4)))\n",
    "print('Madmom Features (novfn) - exemplo 1: %s ||| exemplo 2: %s' % (len(e1_f5), len(e2_f5)))\n",
    "print('Madmom Features (onsets) - exemplo 1: %s ||| exemplo 2: %s' % (len(e1_f6), len(e2_f6)))\n",
    "print('Madmom Features (snovfn) - exemplo 1: %s ||| exemplo 2: %s' % (len(e1_f7), len(e2_f7)))\n",
    "print('Madmom Features (tempos) - exemplo 1: %s ||| exemplo 2: %s' % (len(e1_f8), len(e2_f8)))\n",
    "print('MFCC HTK - exemplo 1: %s ||| exemplo 2: %s' % (len(e1_f9), len(e2_f9)))\n",
    "\n",
    "#TODO: verificar se a classe de saída está balanceada"
   ]
  },
  {
   "cell_type": "markdown",
   "metadata": {},
   "source": [
    "**Ao selecionar os atributos necessários para a classificação, podemos perceber que vários deles variam de acordo com a música, impossibilitando a inserção destes em nosso modelo. (Não é possível preencher com zeros ou NaNs.) São eles:**\n",
    "\n",
    "- Chroma\n",
    "- Crema\n",
    "- HPCP\n",
    "- Novfn\n",
    "- Onsets\n",
    "- Snovfn\n",
    "- Tempos\n",
    "\n",
    "Portanto, os atributos considerados são **Key Strength (de Key Extractor) e MFCC**, totalizando 21 features de entrada para uma rede neural."
   ]
  },
  {
   "cell_type": "code",
   "execution_count": 37,
   "metadata": {},
   "outputs": [],
   "source": [
    "# make a dataframe of the songs (track id is the class)\n",
    "df_songs = pd.DataFrame(columns=['track_id', 'key_strength', 'mfcc'])"
   ]
  },
  {
   "cell_type": "code",
   "execution_count": 38,
   "metadata": {},
   "outputs": [],
   "source": [
    "# feature engineering - continuation: generate a csv file\n",
    "def getSongsFeatures(df_songs, songs_got_list, key_strengths_list, flag_first_run, n_examples):\n",
    "    SONGS_PATH = './h5 files'\n",
    "    N_EXAMPLES = n_examples\n",
    "\n",
    "    progress_count = len(df_songs)\n",
    "    df_songs_length = len(df_songs)\n",
    "    songs_got_list_length = len(songs_got_list)\n",
    "    \n",
    "    for filename in os.listdir(SONGS_PATH):\n",
    "        if progress_count <= df_songs_length + N_EXAMPLES:\n",
    "            song_path = './h5 files/' + filename\n",
    "\n",
    "            directory = Path(song_path)\n",
    "            files_path = directory.glob('*.h5')\n",
    "\n",
    "            for song in files_path:\n",
    "                song_location = song_path + '/' + song.name\n",
    "\n",
    "                track_id, key_strength, mfcc = dd.io.load(song_location, ['/track_id', '/key_extractor/strength',\n",
    "                                                                          '/mfcc_htk'])\n",
    "\n",
    "                if int(track_id) in songs_got_list:\n",
    "                    continue\n",
    "\n",
    "                df_songs.loc[progress_count] = (track_id, key_strength, mfcc)\n",
    "                songs_got_list.append(track_id)\n",
    "                key_strengths_list.append(key_strength)\n",
    "                progress_count+=1\n",
    "                \n",
    "    # create a csv file if it is not exist\n",
    "    if not os.path.isfile('dataset.csv'):\n",
    "        header = 'track_id'   \n",
    "        header += ' key_strength'\n",
    "        for i in range(len(df_songs['mfcc'][0])):\n",
    "            header += f' mfcc{i}'\n",
    "\n",
    "        header = header.split()\n",
    "        \n",
    "        with open('dataset.csv', 'w') as file:\n",
    "            writer = csv.writer(file)\n",
    "            writer.writerow(header)    \n",
    "    \n",
    "    with open('dataset.csv', 'a') as file:\n",
    "        writer = csv.writer(file)\n",
    "        mfcc_list = []\n",
    "\n",
    "        for i in range(N_EXAMPLES): # starts in zero and finishes in N_EXAMPLES\n",
    "            if flag_first_run:\n",
    "                to_append = f'{songs_got_list[i]} {key_strengths_list[i]}'\n",
    "            else:\n",
    "                to_append = f'{songs_got_list[i + len(songs_got_list) - n_examples]} {key_strengths_list[i + len(songs_got_list) - n_examples]}'\n",
    "\n",
    "            for j in range(len(df_songs['mfcc'][i])):\n",
    "                mfcc_list.append(df_songs['mfcc'][i][j])\n",
    "                mfcc_write = f'{mfcc_list[i][j]}'\n",
    "                to_append = f'{to_append} {mfcc_write}'\n",
    "            writer.writerow(to_append.split())     "
   ]
  },
  {
   "cell_type": "code",
   "execution_count": 39,
   "metadata": {},
   "outputs": [],
   "source": [
    "flag_first_run = False\n",
    "\n",
    "if flag_first_run:\n",
    "    songs_got_list = []\n",
    "    key_strengths_list = []\n",
    "else:\n",
    "    dataset_tracks = pd.read_csv('./dataset.csv')\n",
    "    tracks_visited = list(dataset_tracks['track_id'])\n",
    "    songs_got_list = tracks_visited\n",
    "    key_strengths_list = list(dataset_tracks['key_strength'])\n",
    "\n",
    "#getSongsFeatures(df_songs, songs_got_list, key_strengths_list, flag_first_run, 300) # uncomment to generate csv\n",
    "#df_songs"
   ]
  },
  {
   "cell_type": "markdown",
   "metadata": {},
   "source": [
    "**O código anterior foi desenvolvido para gerar um arquivo CSV de maneira a obter todos os dados referentes aos atributos necessários. Todas as informações foram obtidas de aproximadamente 75GB de arquivos H5 disponibilizados pelos criadores do dataset de covers.**"
   ]
  },
  {
   "cell_type": "code",
   "execution_count": 40,
   "metadata": {},
   "outputs": [
    {
     "name": "stdout",
     "output_type": "stream",
     "text": [
      "Total de músicas: 18121\n"
     ]
    },
    {
     "data": {
      "text/plain": [
       "(18121, 22)"
      ]
     },
     "execution_count": 40,
     "metadata": {},
     "output_type": "execute_result"
    }
   ],
   "source": [
    "# feature engineering - continuation: make a dataframe from data source (csv file)\n",
    "data_covers = pd.read_csv('./dataset.csv')\n",
    "unique_tracks = np.unique(data_covers[['track_id']], axis=0)\n",
    "\n",
    "print('Total de músicas:', len(unique_tracks))\n",
    "\n",
    "# create a dataframe without duplicatas\n",
    "data = data_covers.drop_duplicates('track_id')\n",
    "data.shape"
   ]
  },
  {
   "cell_type": "code",
   "execution_count": 41,
   "metadata": {},
   "outputs": [
    {
     "data": {
      "text/plain": [
       "14496"
      ]
     },
     "execution_count": 41,
     "metadata": {},
     "output_type": "execute_result"
    }
   ],
   "source": [
    "# feature engineering - continuation: data split (training and validation sets)\n",
    "\n",
    "# standardization of the data\n",
    "encoder = LabelEncoder()\n",
    "scaler = StandardScaler()\n",
    "y = encoder.fit_transform(data['track_id']) # classes\n",
    "X = scaler.fit_transform(np.array(data.iloc[:, 1:], dtype = float)) # features\n",
    "\n",
    "# split data\n",
    "X_train, X_test, y_train, y_test = train_test_split(X, y, test_size=0.2)\n",
    "y_train.shape[0]"
   ]
  },
  {
   "cell_type": "markdown",
   "metadata": {},
   "source": [
    "**Podemos perceber que a rede neural será treinada para responder sobre um total de 18.121 músicas.**"
   ]
  },
  {
   "cell_type": "markdown",
   "metadata": {},
   "source": [
    "## 6.2. DL - Construção do Modelo"
   ]
  },
  {
   "cell_type": "code",
   "execution_count": 42,
   "metadata": {},
   "outputs": [
    {
     "name": "stdout",
     "output_type": "stream",
     "text": [
      "Model: \"sequential\"\n",
      "_________________________________________________________________\n",
      "Layer (type)                 Output Shape              Param #   \n",
      "=================================================================\n",
      "dense (Dense)                (None, 256)               5632      \n",
      "_________________________________________________________________\n",
      "dense_1 (Dense)              (None, 128)               32896     \n",
      "_________________________________________________________________\n",
      "dense_2 (Dense)              (None, 64)                8256      \n",
      "_________________________________________________________________\n",
      "dense_3 (Dense)              (None, 18121)             1177865   \n",
      "=================================================================\n",
      "Total params: 1,224,649\n",
      "Trainable params: 1,224,649\n",
      "Non-trainable params: 0\n",
      "_________________________________________________________________\n",
      "Epoch 1/200\n",
      "114/114 [==============================] - 3s 27ms/step - loss: 9.8123 - accuracy: 0.0000e+00\n",
      "Epoch 2/200\n",
      "114/114 [==============================] - 3s 28ms/step - loss: 9.7692 - accuracy: 0.0000e+00\n",
      "Epoch 3/200\n",
      "114/114 [==============================] - 3s 26ms/step - loss: 9.1125 - accuracy: 2.6465e-04\n",
      "Epoch 4/200\n",
      "114/114 [==============================] - 3s 27ms/step - loss: 8.2035 - accuracy: 7.6832e-04\n",
      "Epoch 5/200\n",
      "114/114 [==============================] - 3s 29ms/step - loss: 7.3408 - accuracy: 0.0018\n",
      "Epoch 6/200\n",
      "114/114 [==============================] - 3s 28ms/step - loss: 6.5874 - accuracy: 0.0035\n",
      "Epoch 7/200\n",
      "114/114 [==============================] - 3s 26ms/step - loss: 5.9854 - accuracy: 0.0099\n",
      "Epoch 8/200\n",
      "114/114 [==============================] - 3s 31ms/step - loss: 5.5643 - accuracy: 0.0139\n",
      "Epoch 9/200\n",
      "114/114 [==============================] - 4s 35ms/step - loss: 5.1929 - accuracy: 0.0252\n",
      "Epoch 10/200\n",
      "114/114 [==============================] - 4s 38ms/step - loss: 4.9007 - accuracy: 0.0321\n",
      "Epoch 11/200\n",
      "114/114 [==============================] - 3s 28ms/step - loss: 4.6314 - accuracy: 0.0469\n",
      "Epoch 12/200\n",
      "114/114 [==============================] - 4s 31ms/step - loss: 4.4313 - accuracy: 0.0560\n",
      "Epoch 13/200\n",
      "114/114 [==============================] - 4s 35ms/step - loss: 4.2324 - accuracy: 0.0688\n",
      "Epoch 14/200\n",
      "114/114 [==============================] - 3s 28ms/step - loss: 4.0530 - accuracy: 0.0758\n",
      "Epoch 15/200\n",
      "114/114 [==============================] - 3s 29ms/step - loss: 3.8860 - accuracy: 0.0908\n",
      "Epoch 16/200\n",
      "114/114 [==============================] - 4s 35ms/step - loss: 3.7492 - accuracy: 0.1039\n",
      "Epoch 17/200\n",
      "114/114 [==============================] - 4s 32ms/step - loss: 3.6194 - accuracy: 0.1109\n",
      "Epoch 18/200\n",
      "114/114 [==============================] - 3s 30ms/step - loss: 3.4897 - accuracy: 0.1240\n",
      "Epoch 19/200\n",
      "114/114 [==============================] - 4s 32ms/step - loss: 3.3526 - accuracy: 0.1383\n",
      "Epoch 20/200\n",
      "114/114 [==============================] - 3s 29ms/step - loss: 3.2511 - accuracy: 0.1533\n",
      "Epoch 21/200\n",
      "114/114 [==============================] - 3s 31ms/step - loss: 3.1456 - accuracy: 0.1657\n",
      "Epoch 22/200\n",
      "114/114 [==============================] - 4s 33ms/step - loss: 3.0146 - accuracy: 0.1859\n",
      "Epoch 23/200\n",
      "114/114 [==============================] - 3s 30ms/step - loss: 2.9685 - accuracy: 0.1872\n",
      "Epoch 24/200\n",
      "114/114 [==============================] - 4s 33ms/step - loss: 2.8696 - accuracy: 0.2085\n",
      "Epoch 25/200\n",
      "114/114 [==============================] - 4s 33ms/step - loss: 2.7981 - accuracy: 0.2110\n",
      "Epoch 26/200\n",
      "114/114 [==============================] - 3s 29ms/step - loss: 2.7001 - accuracy: 0.2320\n",
      "Epoch 27/200\n",
      "114/114 [==============================] - 3s 28ms/step - loss: 2.6462 - accuracy: 0.2385\n",
      "Epoch 28/200\n",
      "114/114 [==============================] - 3s 29ms/step - loss: 2.5956 - accuracy: 0.2459\n",
      "Epoch 29/200\n",
      "114/114 [==============================] - 3s 30ms/step - loss: 2.5241 - accuracy: 0.2632\n",
      "Epoch 30/200\n",
      "114/114 [==============================] - 3s 30ms/step - loss: 2.4612 - accuracy: 0.2725\n",
      "Epoch 31/200\n",
      "114/114 [==============================] - 4s 37ms/step - loss: 2.4323 - accuracy: 0.2751\n",
      "Epoch 32/200\n",
      "114/114 [==============================] - 3s 28ms/step - loss: 2.3487 - accuracy: 0.2941\n",
      "Epoch 33/200\n",
      "114/114 [==============================] - 4s 35ms/step - loss: 2.2913 - accuracy: 0.3055\n",
      "Epoch 34/200\n",
      "114/114 [==============================] - 4s 34ms/step - loss: 2.2641 - accuracy: 0.3078\n",
      "Epoch 35/200\n",
      "114/114 [==============================] - 3s 27ms/step - loss: 2.2014 - accuracy: 0.3301\n",
      "Epoch 36/200\n",
      "114/114 [==============================] - 3s 25ms/step - loss: 2.1736 - accuracy: 0.3290\n",
      "Epoch 37/200\n",
      "114/114 [==============================] - 3s 30ms/step - loss: 2.1181 - accuracy: 0.3511\n",
      "Epoch 38/200\n",
      "114/114 [==============================] - 4s 32ms/step - loss: 2.0793 - accuracy: 0.3546\n",
      "Epoch 39/200\n",
      "114/114 [==============================] - 4s 31ms/step - loss: 2.0535 - accuracy: 0.3553\n",
      "Epoch 40/200\n",
      "114/114 [==============================] - 4s 34ms/step - loss: 2.0134 - accuracy: 0.3594\n",
      "Epoch 41/200\n",
      "114/114 [==============================] - 4s 32ms/step - loss: 1.9702 - accuracy: 0.3746\n",
      "Epoch 42/200\n",
      "114/114 [==============================] - 4s 34ms/step - loss: 1.9349 - accuracy: 0.3870\n",
      "Epoch 43/200\n",
      "114/114 [==============================] - 4s 33ms/step - loss: 1.9246 - accuracy: 0.3825\n",
      "Epoch 44/200\n",
      "114/114 [==============================] - 4s 33ms/step - loss: 1.8798 - accuracy: 0.3942\n",
      "Epoch 45/200\n",
      "114/114 [==============================] - 4s 32ms/step - loss: 1.8472 - accuracy: 0.4079\n",
      "Epoch 46/200\n",
      "114/114 [==============================] - 3s 29ms/step - loss: 1.8038 - accuracy: 0.4214\n",
      "Epoch 47/200\n",
      "114/114 [==============================] - 3s 30ms/step - loss: 1.8078 - accuracy: 0.4154\n",
      "Epoch 48/200\n",
      "114/114 [==============================] - 4s 33ms/step - loss: 1.7534 - accuracy: 0.4221\n",
      "Epoch 49/200\n",
      "114/114 [==============================] - 4s 32ms/step - loss: 1.7254 - accuracy: 0.4400\n",
      "Epoch 50/200\n",
      "114/114 [==============================] - 3s 28ms/step - loss: 1.7268 - accuracy: 0.4331\n",
      "Epoch 51/200\n",
      "114/114 [==============================] - 3s 29ms/step - loss: 1.6830 - accuracy: 0.4493\n",
      "Epoch 52/200\n",
      "114/114 [==============================] - 3s 29ms/step - loss: 1.6537 - accuracy: 0.4558\n",
      "Epoch 53/200\n",
      "114/114 [==============================] - 3s 25ms/step - loss: 1.6300 - accuracy: 0.4655\n",
      "Epoch 54/200\n",
      "114/114 [==============================] - 3s 27ms/step - loss: 1.6367 - accuracy: 0.4509\n",
      "Epoch 55/200\n",
      "114/114 [==============================] - 4s 35ms/step - loss: 1.5978 - accuracy: 0.4749\n",
      "Epoch 56/200\n",
      "114/114 [==============================] - 4s 31ms/step - loss: 1.5830 - accuracy: 0.4749\n",
      "Epoch 57/200\n",
      "114/114 [==============================] - 4s 33ms/step - loss: 1.5527 - accuracy: 0.4824\n",
      "Epoch 58/200\n",
      "114/114 [==============================] - 3s 29ms/step - loss: 1.5209 - accuracy: 0.4908\n",
      "Epoch 59/200\n",
      "114/114 [==============================] - 3s 28ms/step - loss: 1.5159 - accuracy: 0.4897\n",
      "Epoch 60/200\n",
      "114/114 [==============================] - 4s 32ms/step - loss: 1.4957 - accuracy: 0.4911\n",
      "Epoch 61/200\n",
      "114/114 [==============================] - 4s 33ms/step - loss: 1.4845 - accuracy: 0.5070\n",
      "Epoch 62/200\n",
      "114/114 [==============================] - 3s 27ms/step - loss: 1.4812 - accuracy: 0.5009\n",
      "Epoch 63/200\n",
      "114/114 [==============================] - 3s 29ms/step - loss: 1.4305 - accuracy: 0.5204\n",
      "Epoch 64/200\n",
      "114/114 [==============================] - 3s 29ms/step - loss: 1.4208 - accuracy: 0.5167\n",
      "Epoch 65/200\n",
      "114/114 [==============================] - 3s 27ms/step - loss: 1.4300 - accuracy: 0.5144\n",
      "Epoch 66/200\n",
      "114/114 [==============================] - 3s 24ms/step - loss: 1.4137 - accuracy: 0.5207\n",
      "Epoch 67/200\n",
      "114/114 [==============================] - 3s 24ms/step - loss: 1.3767 - accuracy: 0.5324\n",
      "Epoch 68/200\n",
      "114/114 [==============================] - 3s 27ms/step - loss: 1.3871 - accuracy: 0.5250\n",
      "Epoch 69/200\n",
      "114/114 [==============================] - 4s 32ms/step - loss: 1.4094 - accuracy: 0.5267\n",
      "Epoch 70/200\n",
      "114/114 [==============================] - 4s 35ms/step - loss: 1.3422 - accuracy: 0.5417\n",
      "Epoch 71/200\n"
     ]
    },
    {
     "name": "stdout",
     "output_type": "stream",
     "text": [
      "114/114 [==============================] - 4s 32ms/step - loss: 1.3294 - accuracy: 0.5453\n",
      "Epoch 72/200\n",
      "114/114 [==============================] - 3s 28ms/step - loss: 1.3165 - accuracy: 0.5469\n",
      "Epoch 73/200\n",
      "114/114 [==============================] - 3s 29ms/step - loss: 1.3127 - accuracy: 0.5503\n",
      "Epoch 74/200\n",
      "114/114 [==============================] - 3s 26ms/step - loss: 1.2890 - accuracy: 0.5558\n",
      "Epoch 75/200\n",
      "114/114 [==============================] - 3s 25ms/step - loss: 1.2892 - accuracy: 0.5539\n",
      "Epoch 76/200\n",
      "114/114 [==============================] - 3s 26ms/step - loss: 1.2593 - accuracy: 0.5593\n",
      "Epoch 77/200\n",
      "114/114 [==============================] - 3s 26ms/step - loss: 1.2538 - accuracy: 0.5637\n",
      "Epoch 78/200\n",
      "114/114 [==============================] - 3s 27ms/step - loss: 1.2307 - accuracy: 0.5722\n",
      "Epoch 79/200\n",
      "114/114 [==============================] - 3s 26ms/step - loss: 1.2227 - accuracy: 0.5714\n",
      "Epoch 80/200\n",
      "114/114 [==============================] - 3s 25ms/step - loss: 1.2091 - accuracy: 0.5816\n",
      "Epoch 81/200\n",
      "114/114 [==============================] - 3s 25ms/step - loss: 1.1946 - accuracy: 0.5806\n",
      "Epoch 82/200\n",
      "114/114 [==============================] - 3s 25ms/step - loss: 1.1994 - accuracy: 0.5843\n",
      "Epoch 83/200\n",
      "114/114 [==============================] - 3s 25ms/step - loss: 1.1881 - accuracy: 0.5822\n",
      "Epoch 84/200\n",
      "114/114 [==============================] - 3s 24ms/step - loss: 1.1803 - accuracy: 0.5855\n",
      "Epoch 85/200\n",
      "114/114 [==============================] - 3s 25ms/step - loss: 1.1598 - accuracy: 0.5933\n",
      "Epoch 86/200\n",
      "114/114 [==============================] - 3s 24ms/step - loss: 1.1496 - accuracy: 0.5942\n",
      "Epoch 87/200\n",
      "114/114 [==============================] - 3s 29ms/step - loss: 1.1778 - accuracy: 0.5914\n",
      "Epoch 88/200\n",
      "114/114 [==============================] - 3s 29ms/step - loss: 1.1443 - accuracy: 0.6026\n",
      "Epoch 89/200\n",
      "114/114 [==============================] - 3s 30ms/step - loss: 1.1345 - accuracy: 0.6000\n",
      "Epoch 90/200\n",
      "114/114 [==============================] - 3s 28ms/step - loss: 1.1143 - accuracy: 0.6107\n",
      "Epoch 91/200\n",
      "114/114 [==============================] - 4s 33ms/step - loss: 1.0887 - accuracy: 0.6159\n",
      "Epoch 92/200\n",
      "114/114 [==============================] - 3s 29ms/step - loss: 1.1116 - accuracy: 0.6061\n",
      "Epoch 93/200\n",
      "114/114 [==============================] - 3s 28ms/step - loss: 1.0928 - accuracy: 0.6158\n",
      "Epoch 94/200\n",
      "114/114 [==============================] - 3s 29ms/step - loss: 1.0823 - accuracy: 0.6149\n",
      "Epoch 95/200\n",
      "114/114 [==============================] - 3s 28ms/step - loss: 1.0780 - accuracy: 0.6169\n",
      "Epoch 96/200\n",
      "114/114 [==============================] - 3s 27ms/step - loss: 1.0769 - accuracy: 0.6187\n",
      "Epoch 97/200\n",
      "114/114 [==============================] - 3s 27ms/step - loss: 1.1079 - accuracy: 0.6038\n",
      "Epoch 98/200\n",
      "114/114 [==============================] - 3s 27ms/step - loss: 1.0559 - accuracy: 0.6262\n",
      "Epoch 99/200\n",
      "114/114 [==============================] - 3s 27ms/step - loss: 1.0410 - accuracy: 0.6301\n",
      "Epoch 100/200\n",
      "114/114 [==============================] - 3s 28ms/step - loss: 1.0429 - accuracy: 0.6350\n",
      "Epoch 101/200\n",
      "114/114 [==============================] - 3s 27ms/step - loss: 1.0198 - accuracy: 0.6359\n",
      "Epoch 102/200\n",
      "114/114 [==============================] - 3s 28ms/step - loss: 1.0346 - accuracy: 0.6342\n",
      "Epoch 103/200\n",
      "114/114 [==============================] - 3s 27ms/step - loss: 1.0251 - accuracy: 0.6315\n",
      "Epoch 104/200\n",
      "114/114 [==============================] - 3s 26ms/step - loss: 1.0179 - accuracy: 0.6373\n",
      "Epoch 105/200\n",
      "114/114 [==============================] - 3s 28ms/step - loss: 1.0072 - accuracy: 0.6416\n",
      "Epoch 106/200\n",
      "114/114 [==============================] - 3s 29ms/step - loss: 0.9864 - accuracy: 0.6481\n",
      "Epoch 107/200\n",
      "114/114 [==============================] - 3s 27ms/step - loss: 1.0059 - accuracy: 0.6418\n",
      "Epoch 108/200\n",
      "114/114 [==============================] - 4s 35ms/step - loss: 0.9757 - accuracy: 0.6521\n",
      "Epoch 109/200\n",
      "114/114 [==============================] - 4s 32ms/step - loss: 0.9728 - accuracy: 0.6476\n",
      "Epoch 110/200\n",
      "114/114 [==============================] - 3s 27ms/step - loss: 0.9679 - accuracy: 0.6492\n",
      "Epoch 111/200\n",
      "114/114 [==============================] - 3s 26ms/step - loss: 0.9577 - accuracy: 0.6553\n",
      "Epoch 112/200\n",
      "114/114 [==============================] - 3s 26ms/step - loss: 0.9694 - accuracy: 0.6517\n",
      "Epoch 113/200\n",
      "114/114 [==============================] - 3s 27ms/step - loss: 0.9611 - accuracy: 0.6557\n",
      "Epoch 114/200\n",
      "114/114 [==============================] - 3s 26ms/step - loss: 0.9500 - accuracy: 0.6566\n",
      "Epoch 115/200\n",
      "114/114 [==============================] - 3s 29ms/step - loss: 0.9441 - accuracy: 0.6577\n",
      "Epoch 116/200\n",
      "114/114 [==============================] - 4s 33ms/step - loss: 0.9379 - accuracy: 0.6616\n",
      "Epoch 117/200\n",
      "114/114 [==============================] - 4s 37ms/step - loss: 0.9207 - accuracy: 0.6675\n",
      "Epoch 118/200\n",
      "114/114 [==============================] - 4s 34ms/step - loss: 0.9232 - accuracy: 0.6663\n",
      "Epoch 119/200\n",
      "114/114 [==============================] - 4s 34ms/step - loss: 0.9181 - accuracy: 0.6657\n",
      "Epoch 120/200\n",
      "114/114 [==============================] - 3s 28ms/step - loss: 0.9048 - accuracy: 0.6767\n",
      "Epoch 121/200\n",
      "114/114 [==============================] - 3s 28ms/step - loss: 0.9258 - accuracy: 0.6610\n",
      "Epoch 122/200\n",
      "114/114 [==============================] - 3s 28ms/step - loss: 0.9177 - accuracy: 0.6660\n",
      "Epoch 123/200\n",
      "114/114 [==============================] - 3s 28ms/step - loss: 0.9170 - accuracy: 0.6631\n",
      "Epoch 124/200\n",
      "114/114 [==============================] - 3s 28ms/step - loss: 0.8708 - accuracy: 0.6754\n",
      "Epoch 125/200\n",
      "114/114 [==============================] - 3s 28ms/step - loss: 0.8867 - accuracy: 0.6813\n",
      "Epoch 126/200\n",
      "114/114 [==============================] - 3s 29ms/step - loss: 0.8967 - accuracy: 0.6679\n",
      "Epoch 127/200\n",
      "114/114 [==============================] - 3s 28ms/step - loss: 0.8856 - accuracy: 0.6777\n",
      "Epoch 128/200\n",
      "114/114 [==============================] - 3s 27ms/step - loss: 0.8818 - accuracy: 0.6762\n",
      "Epoch 129/200\n",
      "114/114 [==============================] - 3s 27ms/step - loss: 0.8865 - accuracy: 0.6748\n",
      "Epoch 130/200\n",
      "114/114 [==============================] - 3s 28ms/step - loss: 0.8381 - accuracy: 0.6957\n",
      "Epoch 131/200\n",
      "114/114 [==============================] - 3s 28ms/step - loss: 0.8437 - accuracy: 0.6945\n",
      "Epoch 132/200\n",
      "114/114 [==============================] - 3s 28ms/step - loss: 0.8616 - accuracy: 0.6886\n",
      "Epoch 133/200\n",
      "114/114 [==============================] - 3s 28ms/step - loss: 0.8699 - accuracy: 0.6838\n",
      "Epoch 134/200\n",
      "114/114 [==============================] - 3s 28ms/step - loss: 0.8438 - accuracy: 0.6914\n",
      "Epoch 135/200\n",
      "114/114 [==============================] - 3s 28ms/step - loss: 0.8414 - accuracy: 0.6924\n",
      "Epoch 136/200\n",
      "114/114 [==============================] - 3s 28ms/step - loss: 0.8422 - accuracy: 0.6855\n",
      "Epoch 137/200\n",
      "114/114 [==============================] - 3s 28ms/step - loss: 0.8228 - accuracy: 0.6997\n",
      "Epoch 138/200\n",
      "114/114 [==============================] - 3s 28ms/step - loss: 0.8069 - accuracy: 0.7037\n",
      "Epoch 139/200\n",
      "114/114 [==============================] - 3s 28ms/step - loss: 0.8424 - accuracy: 0.6886\n",
      "Epoch 140/200\n",
      "114/114 [==============================] - 3s 28ms/step - loss: 0.8245 - accuracy: 0.6948\n",
      "Epoch 141/200\n",
      "114/114 [==============================] - 3s 27ms/step - loss: 0.8270 - accuracy: 0.6950\n",
      "Epoch 142/200\n",
      "114/114 [==============================] - 3s 27ms/step - loss: 0.8077 - accuracy: 0.6995\n",
      "Epoch 143/200\n",
      "114/114 [==============================] - 3s 28ms/step - loss: 0.8142 - accuracy: 0.6994\n",
      "Epoch 144/200\n",
      "114/114 [==============================] - 3s 29ms/step - loss: 0.8291 - accuracy: 0.6907\n",
      "Epoch 145/200\n",
      "114/114 [==============================] - 3s 28ms/step - loss: 0.7948 - accuracy: 0.7050\n",
      "Epoch 146/200\n",
      "114/114 [==============================] - 4s 31ms/step - loss: 0.8001 - accuracy: 0.6979\n",
      "Epoch 147/200\n",
      "114/114 [==============================] - 3s 28ms/step - loss: 0.7944 - accuracy: 0.7050\n",
      "Epoch 148/200\n",
      "114/114 [==============================] - 3s 26ms/step - loss: 0.7850 - accuracy: 0.7126\n",
      "Epoch 149/200\n",
      "114/114 [==============================] - 3s 26ms/step - loss: 0.7942 - accuracy: 0.7045\n",
      "Epoch 150/200\n"
     ]
    },
    {
     "name": "stdout",
     "output_type": "stream",
     "text": [
      "114/114 [==============================] - 3s 27ms/step - loss: 0.7721 - accuracy: 0.7136\n",
      "Epoch 151/200\n",
      "114/114 [==============================] - 3s 27ms/step - loss: 0.7729 - accuracy: 0.7112\n",
      "Epoch 152/200\n",
      "114/114 [==============================] - 3s 25ms/step - loss: 0.7724 - accuracy: 0.7172\n",
      "Epoch 153/200\n",
      "114/114 [==============================] - 3s 24ms/step - loss: 0.7688 - accuracy: 0.7164\n",
      "Epoch 154/200\n",
      "114/114 [==============================] - 3s 27ms/step - loss: 0.7994 - accuracy: 0.6996\n",
      "Epoch 155/200\n",
      "114/114 [==============================] - 3s 29ms/step - loss: 0.7779 - accuracy: 0.7067\n",
      "Epoch 156/200\n",
      "114/114 [==============================] - 3s 28ms/step - loss: 0.7823 - accuracy: 0.7072\n",
      "Epoch 157/200\n",
      "114/114 [==============================] - 3s 27ms/step - loss: 0.7806 - accuracy: 0.7040\n",
      "Epoch 158/200\n",
      "114/114 [==============================] - 3s 27ms/step - loss: 0.7596 - accuracy: 0.7119\n",
      "Epoch 159/200\n",
      "114/114 [==============================] - 3s 27ms/step - loss: 0.7452 - accuracy: 0.7193\n",
      "Epoch 160/200\n",
      "114/114 [==============================] - 3s 26ms/step - loss: 0.7251 - accuracy: 0.7295\n",
      "Epoch 161/200\n",
      "114/114 [==============================] - 3s 30ms/step - loss: 0.7437 - accuracy: 0.7222\n",
      "Epoch 162/200\n",
      "114/114 [==============================] - 3s 28ms/step - loss: 0.7493 - accuracy: 0.7192\n",
      "Epoch 163/200\n",
      "114/114 [==============================] - 3s 28ms/step - loss: 0.7431 - accuracy: 0.7215\n",
      "Epoch 164/200\n",
      "114/114 [==============================] - 3s 27ms/step - loss: 0.7406 - accuracy: 0.7236\n",
      "Epoch 165/200\n",
      "114/114 [==============================] - 3s 27ms/step - loss: 0.7363 - accuracy: 0.7188\n",
      "Epoch 166/200\n",
      "114/114 [==============================] - 4s 32ms/step - loss: 0.7482 - accuracy: 0.7162\n",
      "Epoch 167/200\n",
      "114/114 [==============================] - 3s 28ms/step - loss: 0.7304 - accuracy: 0.7244\n",
      "Epoch 168/200\n",
      "114/114 [==============================] - 3s 28ms/step - loss: 0.7279 - accuracy: 0.7222\n",
      "Epoch 169/200\n",
      "114/114 [==============================] - 3s 29ms/step - loss: 0.7201 - accuracy: 0.7287\n",
      "Epoch 170/200\n",
      "114/114 [==============================] - 3s 27ms/step - loss: 0.7208 - accuracy: 0.7309\n",
      "Epoch 171/200\n",
      "114/114 [==============================] - 3s 29ms/step - loss: 0.7221 - accuracy: 0.7283\n",
      "Epoch 172/200\n",
      "114/114 [==============================] - 3s 27ms/step - loss: 0.7007 - accuracy: 0.7347\n",
      "Epoch 173/200\n",
      "114/114 [==============================] - 3s 29ms/step - loss: 0.7157 - accuracy: 0.7254\n",
      "Epoch 174/200\n",
      "114/114 [==============================] - 4s 32ms/step - loss: 0.7224 - accuracy: 0.7188\n",
      "Epoch 175/200\n",
      "114/114 [==============================] - 3s 28ms/step - loss: 0.7139 - accuracy: 0.7293\n",
      "Epoch 176/200\n",
      "114/114 [==============================] - 4s 36ms/step - loss: 0.7061 - accuracy: 0.7276\n",
      "Epoch 177/200\n",
      "114/114 [==============================] - 4s 34ms/step - loss: 0.7376 - accuracy: 0.7199\n",
      "Epoch 178/200\n",
      "114/114 [==============================] - 3s 25ms/step - loss: 0.7108 - accuracy: 0.7308\n",
      "Epoch 179/200\n",
      "114/114 [==============================] - 3s 25ms/step - loss: 0.6845 - accuracy: 0.7349\n",
      "Epoch 180/200\n",
      "114/114 [==============================] - 3s 28ms/step - loss: 0.6912 - accuracy: 0.7401\n",
      "Epoch 181/200\n",
      "114/114 [==============================] - 3s 28ms/step - loss: 0.6937 - accuracy: 0.7359\n",
      "Epoch 182/200\n",
      "114/114 [==============================] - 3s 28ms/step - loss: 0.7005 - accuracy: 0.7337\n",
      "Epoch 183/200\n",
      "114/114 [==============================] - 3s 28ms/step - loss: 0.6902 - accuracy: 0.7346\n",
      "Epoch 184/200\n",
      "114/114 [==============================] - 3s 28ms/step - loss: 0.6859 - accuracy: 0.7352\n",
      "Epoch 185/200\n",
      "114/114 [==============================] - 3s 26ms/step - loss: 0.6896 - accuracy: 0.7330\n",
      "Epoch 186/200\n",
      "114/114 [==============================] - 3s 29ms/step - loss: 0.6990 - accuracy: 0.7359\n",
      "Epoch 187/200\n",
      "114/114 [==============================] - 3s 27ms/step - loss: 0.6707 - accuracy: 0.7464\n",
      "Epoch 188/200\n",
      "114/114 [==============================] - 3s 27ms/step - loss: 0.6757 - accuracy: 0.7437\n",
      "Epoch 189/200\n",
      "114/114 [==============================] - 3s 28ms/step - loss: 0.6608 - accuracy: 0.7508\n",
      "Epoch 190/200\n",
      "114/114 [==============================] - 3s 27ms/step - loss: 0.6679 - accuracy: 0.7380\n",
      "Epoch 191/200\n",
      "114/114 [==============================] - 3s 28ms/step - loss: 0.6727 - accuracy: 0.7393\n",
      "Epoch 192/200\n",
      "114/114 [==============================] - 3s 27ms/step - loss: 0.6733 - accuracy: 0.7469\n",
      "Epoch 193/200\n",
      "114/114 [==============================] - 3s 29ms/step - loss: 0.6886 - accuracy: 0.7351\n",
      "Epoch 194/200\n",
      "114/114 [==============================] - 3s 29ms/step - loss: 0.6754 - accuracy: 0.7399\n",
      "Epoch 195/200\n",
      "114/114 [==============================] - 3s 28ms/step - loss: 0.6502 - accuracy: 0.7508\n",
      "Epoch 196/200\n",
      "114/114 [==============================] - 3s 28ms/step - loss: 0.6596 - accuracy: 0.7439\n",
      "Epoch 197/200\n",
      "114/114 [==============================] - 3s 28ms/step - loss: 0.6427 - accuracy: 0.7542\n",
      "Epoch 198/200\n",
      "114/114 [==============================] - 3s 28ms/step - loss: 0.6440 - accuracy: 0.7505\n",
      "Epoch 199/200\n",
      "114/114 [==============================] - 3s 26ms/step - loss: 0.6698 - accuracy: 0.7448\n",
      "Epoch 200/200\n",
      "114/114 [==============================] - 3s 26ms/step - loss: 0.6548 - accuracy: 0.7516\n"
     ]
    }
   ],
   "source": [
    "# build an ANN model\n",
    "model = Sequential()\n",
    "\n",
    "model.add(layers.Dense(256, activation='relu', input_shape=(X_train.shape[1],)))\n",
    "model.add(layers.Dense(128, activation='relu'))\n",
    "model.add(layers.Dense(64, activation='relu'))\n",
    "model.add(layers.Dense(y.shape[0], activation='softmax')) # we're using sparse categorical crossentropy\n",
    "\n",
    "model.compile(optimizer='adam',\n",
    "              loss='sparse_categorical_crossentropy',\n",
    "              metrics=['accuracy'])\n",
    "\n",
    "model.summary()\n",
    "\n",
    "# fit the model\n",
    "classifier = model.fit(X_train,\n",
    "                    y_train,\n",
    "                    epochs=200,\n",
    "                    batch_size=128)"
   ]
  },
  {
   "cell_type": "markdown",
   "metadata": {},
   "source": [
    "**Em vista do treinamento realizado, a rede neural obteve uma acurácia aproximada de 75%. Para a validação do modelo seria necessário que o cover de uma música conhecida pela rede neural treinada fosse apresentado à ela com seus respectivos valores de key_strength e mfcc. Como as músicas são protegidas por direitos autorais, finalizamos o nosso estudo aqui.**"
   ]
  },
  {
   "cell_type": "markdown",
   "metadata": {},
   "source": [
    "# 7. Funções Utilizadas"
   ]
  },
  {
   "cell_type": "code",
   "execution_count": 43,
   "metadata": {},
   "outputs": [],
   "source": [
    "# Perform data classification with ensemble\n",
    "# @method:  'Bagging' for Random Forest or 'Boosting' for Extreme Gradient Boosting\n",
    "def doEnsemble(method):\n",
    "    print('Executando...')\n",
    "    # choose model to define\n",
    "    if method == 'Bagging':\n",
    "        model = RandomForestRegressor(n_estimators=5, n_jobs=4, random_state=0) # my processor has 4 cores\n",
    "    elif method == 'Boosting':\n",
    "        model = XGBRegressor(n_estimators=10, learning_rate=0.05, n_jobs=4, random_state=0) # my processor has 4 cores\n",
    "\n",
    "    # create a pipeline for the model\n",
    "    my_pipeline = Pipeline(steps=[('preprocessor', preprocessor), ('model', model)])\n",
    "\n",
    "    # fit the model\n",
    "    my_pipeline.fit(X_train, y_train)\n",
    "\n",
    "    # predict validation data\n",
    "    val_preds = my_pipeline.predict(X_val)\n",
    "\n",
    "    # evaluate the model with MAE (measures accuracy for continuous variables)\n",
    "    mae = mean_absolute_error(y_val, val_preds)\n",
    "    print('---')\n",
    "    print('Erro médio absoluto = %.2f' % mae)\n",
    "\n",
    "    # evaluate the model with RMSE (measures accuracy for continuous variables)\n",
    "    rmse = mean_squared_error(y_val, val_preds, squared=False)\n",
    "    print('Raiz do Erro Quadrático Médio = %.2f' % rmse)\n",
    "\n",
    "#============================================================================================\n",
    "\n",
    "# Perform data classification with ensemble + MCA for dimensionality reduction \n",
    "# @method: 'Bagging' for Random Forest or 'Boosting' for Extreme Gradient Boosting\n",
    "# @n_components: number of MCA components. Recommendation: n_components = 1 to 10\n",
    "# @X2: features of the model\n",
    "def doEnsembleWithMCA(method, n_components, X2):\n",
    "    # split data: train/validation\n",
    "    X_train_mca, X_val_mca, y_train_mca, y_val_mca = train_test_split(X2, y, random_state=0, train_size=0.75, test_size=0.25)\n",
    "\n",
    "    MCA_N_COMPONENTS = n_components\n",
    "    RMSE_MAX = 100000\n",
    "    rmse_min_component = 0\n",
    "    preds_list = list()\n",
    "\n",
    "    for i in range(1, MCA_N_COMPONENTS+1):\n",
    "        mca = prince.MCA(random_state=0, n_components=i)\n",
    "        mca2 = prince.MCA(random_state=0, n_components=i)\n",
    "\n",
    "        # encode X for train\n",
    "        mca_train = mca.fit(X_train_mca)\n",
    "        mca_train = mca.transform(X_train_mca)\n",
    "\n",
    "        # encode X for validation\n",
    "        mca_val = mca2.fit(X_val_mca)\n",
    "        mca_val = mca2.transform(X_val_mca)\n",
    "\n",
    "        # encode y for train\n",
    "        y_label_mca = preprocessing.LabelEncoder()\n",
    "        y_train_mca = y_label_mca.fit_transform(y_train_mca)\n",
    "\n",
    "        # encode y for validation\n",
    "        y_val_mca = y_label_mca.fit_transform(y_val_mca)\n",
    "\n",
    "        if method == 'Bagging':\n",
    "            model = RandomForestRegressor(n_estimators=5, n_jobs=4, random_state=0) # my processor has 4 cores\n",
    "        elif method == 'Boosting':\n",
    "            model = XGBRegressor(n_estimators=10, learning_rate=0.05, n_jobs=4, random_state=0) # my processor has 4 cores\n",
    "\n",
    "        # fit the model\n",
    "        model.fit(mca_train, y_train_mca)\n",
    "\n",
    "        # predict with the model\n",
    "        val_preds_mca = model.predict(mca_val)\n",
    "\n",
    "        # calculate MAE and RMSE\n",
    "        mae = mean_absolute_error(y_val_mca, val_preds_mca)\n",
    "        rmse = mean_squared_error(y_val_mca, val_preds_mca, squared=False)\n",
    "\n",
    "        # update predictions list (for each mca components)\n",
    "        preds_list_text = 'MCA com %i componentes -> EMA = %.2f; REQM = %.2f' % (i, mae, rmse)\n",
    "        preds_list.append(preds_list_text)\n",
    "        print(preds_list_text)\n",
    "        \n",
    "        # select the component with min RMSE to plot\n",
    "        if RMSE_MAX >= rmse:\n",
    "            RMSE_MAX = rmse\n",
    "            rmse_min_component = i\n",
    "    \n",
    "    # print best component\n",
    "    print('---')\n",
    "    print('Melhor desempenho: %i componentes' % rmse_min_component)\n",
    "        \n",
    "    # plot (2-dimensional) MCA coordinates\n",
    "    mca_best = prince.MCA(random_state=0, n_components=rmse_min_component)\n",
    "\n",
    "    mca_val = mca_best.fit(X_val_mca)\n",
    "    mca_val = mca_best.transform(X_val_mca)\n",
    "\n",
    "    ax = mca_best.plot_coordinates(X=X_val_mca)\n",
    "    ax.get_figure()\n",
    "\n",
    "    return preds_list\n",
    "\n",
    "#============================================================================================\n",
    "\n"
   ]
  },
  {
   "cell_type": "markdown",
   "metadata": {},
   "source": [
    "# 8. Referências\n",
    "\n",
    "1. Dirceu Silva, Atila Xavier, Edgard Moraes, Marco Grivet and Fernando Perdigão. CoversBR: A Large Dataset for Cover Song Identification. https://github.com/SPLab-IT/CoversBR\n",
    "\n",
    "2. Furkan Yesiler, Chris Tralie, Albin Correya, Diego F. Silva, Philip Tovstogan, Emilia Gómez, and Xavier Serra. Da-TACOS: A Dataset for Cover Song Identification and Understanding. In 20th International Society for Music Information Retrieval Conference (ISMIR 2019), Delft, The Netherlands, 2019.\n",
    "\n",
    "3. Registry of Open Data on AWS - CoversBR: https://registry.opendata.aws/covers-br/\n",
    "\n",
    "4. Acoss - Audio Cover Song Suite: https://github.com/furkanyesiler/acoss\n",
    "\n",
    "5. C7S2_CENS - Feature Design (Chroma, CENS): https://www.audiolabs-erlangen.de/resources/MIR/FMP/C7/C7S2_CENS.html\n",
    "\n",
    "6. Audio Data Analysis Using Deep Learning with Python (Part 1): https://www.kdnuggets.com/2020/02/audio-data-analysis-deep-learning-python-part-1.html"
   ]
  }
 ],
 "metadata": {
  "kernelspec": {
   "display_name": "Python 3",
   "language": "python",
   "name": "python3"
  },
  "language_info": {
   "codemirror_mode": {
    "name": "ipython",
    "version": 3
   },
   "file_extension": ".py",
   "mimetype": "text/x-python",
   "name": "python",
   "nbconvert_exporter": "python",
   "pygments_lexer": "ipython3",
   "version": "3.8.8"
  }
 },
 "nbformat": 4,
 "nbformat_minor": 4
}
