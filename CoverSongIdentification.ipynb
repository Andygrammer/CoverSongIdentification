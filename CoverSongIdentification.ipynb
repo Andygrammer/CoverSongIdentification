{
 "cells": [
  {
   "cell_type": "markdown",
   "metadata": {},
   "source": [
    "## Projeto em construção..."
   ]
  },
  {
   "cell_type": "markdown",
   "metadata": {},
   "source": [
    "## Sumário\n",
    "\n",
    "- [1.Importação das Bibliotecas](#1.-Importação-das-Bibliotecas)\n",
    "- [2. Preparação dos Dados](#2.-Preparação-dos-Dados)\n",
    "- [3. Análise Exploratória de Dados (AED)](#3.-Análise-Exploratória-de-Dados-(AED))\n",
    "- [4. Modelagem - Deep Learning](#4.-Modelagem---Deep-Learning)\n",
    "- [999. Referências](#999.-Referências)"
   ]
  },
  {
   "cell_type": "markdown",
   "metadata": {},
   "source": [
    "# 1. Importação das Bibliotecas"
   ]
  },
  {
   "cell_type": "code",
   "execution_count": 135,
   "metadata": {},
   "outputs": [],
   "source": [
    "import pandas as pd\n",
    "import numpy as np\n",
    "import datetime as dt\n",
    "import matplotlib.pyplot as plt\n",
    "import matplotlib.dates as mdates\n",
    "import seaborn as sns # install the latest version !pip install -U seaborn\n",
    "sns.set_style('darkgrid')\n",
    "\n",
    "# ML libraries\n",
    "from sklearn.pipeline import Pipeline\n",
    "from sklearn.impute import SimpleImputer\n",
    "from sklearn.compose import ColumnTransformer\n",
    "from sklearn.preprocessing import OneHotEncoder\n",
    "from sklearn import preprocessing\n",
    "from sklearn.model_selection import train_test_split\n",
    "from sklearn.ensemble import RandomForestRegressor\n",
    "from sklearn.metrics import mean_absolute_error\n",
    "from sklearn.metrics import mean_squared_error\n",
    "import prince # pip install prince\n",
    "from xgboost import XGBRegressor #pip3 install xgboost"
   ]
  },
  {
   "cell_type": "markdown",
   "metadata": {},
   "source": [
    "# 2. Preparação dos Dados"
   ]
  },
  {
   "cell_type": "code",
   "execution_count": 136,
   "metadata": {},
   "outputs": [
    {
     "data": {
      "text/html": [
       "<div>\n",
       "<style scoped>\n",
       "    .dataframe tbody tr th:only-of-type {\n",
       "        vertical-align: middle;\n",
       "    }\n",
       "\n",
       "    .dataframe tbody tr th {\n",
       "        vertical-align: top;\n",
       "    }\n",
       "\n",
       "    .dataframe thead th {\n",
       "        text-align: right;\n",
       "    }\n",
       "</style>\n",
       "<table border=\"1\" class=\"dataframe\">\n",
       "  <thead>\n",
       "    <tr style=\"text-align: right;\">\n",
       "      <th></th>\n",
       "      <th>work_id</th>\n",
       "      <th>Music_Name</th>\n",
       "      <th>track_id</th>\n",
       "      <th>Artist_Name</th>\n",
       "      <th>Source</th>\n",
       "      <th>Genre_ECAD</th>\n",
       "      <th>Recording_Version</th>\n",
       "      <th>Duration</th>\n",
       "      <th>Fs</th>\n",
       "      <th>MBID</th>\n",
       "      <th>ISWC</th>\n",
       "      <th>ISRC</th>\n",
       "      <th>Country</th>\n",
       "      <th>Year</th>\n",
       "    </tr>\n",
       "  </thead>\n",
       "  <tbody>\n",
       "    <tr>\n",
       "      <th>0</th>\n",
       "      <td>1</td>\n",
       "      <td>ADMIRAVEL GADO NOVO</td>\n",
       "      <td>19629</td>\n",
       "      <td>CASSIA ELLER</td>\n",
       "      <td>CD</td>\n",
       "      <td>ND</td>\n",
       "      <td>STUDIO</td>\n",
       "      <td>00:04:35.07</td>\n",
       "      <td>11025</td>\n",
       "      <td>8311499a-4e40-4afc-a826-6725d8454851</td>\n",
       "      <td>T0391535844</td>\n",
       "      <td>BRPGD9600090</td>\n",
       "      <td>BR</td>\n",
       "      <td>96</td>\n",
       "    </tr>\n",
       "    <tr>\n",
       "      <th>1</th>\n",
       "      <td>1</td>\n",
       "      <td>ADMIRAVEL GADO NOVO</td>\n",
       "      <td>23880</td>\n",
       "      <td>ZE RAMALHO</td>\n",
       "      <td>CD</td>\n",
       "      <td>ND</td>\n",
       "      <td>STUDIO</td>\n",
       "      <td>00:05:06.69</td>\n",
       "      <td>11025</td>\n",
       "      <td>1ec54f25-7525-480a-b7fa-4c79fc2ee05f</td>\n",
       "      <td>T0391535844</td>\n",
       "      <td>BRBMG9700282</td>\n",
       "      <td>BR</td>\n",
       "      <td>97</td>\n",
       "    </tr>\n",
       "    <tr>\n",
       "      <th>2</th>\n",
       "      <td>1</td>\n",
       "      <td>ADMIRAVEL GADO NOVO</td>\n",
       "      <td>579191</td>\n",
       "      <td>BIQUINI CAVADAO</td>\n",
       "      <td>IMPORTACAO</td>\n",
       "      <td>ND</td>\n",
       "      <td>STUDIO</td>\n",
       "      <td>00:04:21.77</td>\n",
       "      <td>11025</td>\n",
       "      <td>880622cf-96fd-4211-850f-9f914a5244c6</td>\n",
       "      <td>T0391535844</td>\n",
       "      <td>BRSME9400075</td>\n",
       "      <td>BR</td>\n",
       "      <td>94</td>\n",
       "    </tr>\n",
       "    <tr>\n",
       "      <th>3</th>\n",
       "      <td>1</td>\n",
       "      <td>ADMIRAVEL GADO NOVO</td>\n",
       "      <td>705173</td>\n",
       "      <td>OSWALDO MONTENEGRO</td>\n",
       "      <td>CD</td>\n",
       "      <td>ND</td>\n",
       "      <td>STUDIO</td>\n",
       "      <td>00:04:57.23</td>\n",
       "      <td>11025</td>\n",
       "      <td>23d08080-8113-47ea-b712-65acf448252f</td>\n",
       "      <td>T0391535844</td>\n",
       "      <td>BRABZ0300234</td>\n",
       "      <td>BR</td>\n",
       "      <td>03</td>\n",
       "    </tr>\n",
       "    <tr>\n",
       "      <th>4</th>\n",
       "      <td>1</td>\n",
       "      <td>ADMIRAVEL GADO NOVO</td>\n",
       "      <td>2164817</td>\n",
       "      <td>CASSIA ELLER</td>\n",
       "      <td>ND</td>\n",
       "      <td>ND</td>\n",
       "      <td>STUDIO</td>\n",
       "      <td>00:02:51.96</td>\n",
       "      <td>11025</td>\n",
       "      <td>ND</td>\n",
       "      <td>T0391535844</td>\n",
       "      <td>BRMCA9000102</td>\n",
       "      <td>BR</td>\n",
       "      <td>90</td>\n",
       "    </tr>\n",
       "  </tbody>\n",
       "</table>\n",
       "</div>"
      ],
      "text/plain": [
       "   work_id           Music_Name  track_id         Artist_Name      Source  \\\n",
       "0        1  ADMIRAVEL GADO NOVO     19629        CASSIA ELLER          CD   \n",
       "1        1  ADMIRAVEL GADO NOVO     23880          ZE RAMALHO          CD   \n",
       "2        1  ADMIRAVEL GADO NOVO    579191     BIQUINI CAVADAO  IMPORTACAO   \n",
       "3        1  ADMIRAVEL GADO NOVO    705173  OSWALDO MONTENEGRO          CD   \n",
       "4        1  ADMIRAVEL GADO NOVO   2164817        CASSIA ELLER          ND   \n",
       "\n",
       "  Genre_ECAD Recording_Version     Duration     Fs  \\\n",
       "0         ND            STUDIO  00:04:35.07  11025   \n",
       "1         ND            STUDIO  00:05:06.69  11025   \n",
       "2         ND            STUDIO  00:04:21.77  11025   \n",
       "3         ND            STUDIO  00:04:57.23  11025   \n",
       "4         ND            STUDIO  00:02:51.96  11025   \n",
       "\n",
       "                                   MBID         ISWC          ISRC Country  \\\n",
       "0  8311499a-4e40-4afc-a826-6725d8454851  T0391535844  BRPGD9600090      BR   \n",
       "1  1ec54f25-7525-480a-b7fa-4c79fc2ee05f  T0391535844  BRBMG9700282      BR   \n",
       "2  880622cf-96fd-4211-850f-9f914a5244c6  T0391535844  BRSME9400075      BR   \n",
       "3  23d08080-8113-47ea-b712-65acf448252f  T0391535844  BRABZ0300234      BR   \n",
       "4                                    ND  T0391535844  BRMCA9000102      BR   \n",
       "\n",
       "  Year  \n",
       "0   96  \n",
       "1   97  \n",
       "2   94  \n",
       "3   03  \n",
       "4   90  "
      ]
     },
     "execution_count": 136,
     "metadata": {},
     "output_type": "execute_result"
    }
   ],
   "source": [
    "# load the data\n",
    "data = pd.read_csv('./CoversBR_metadata.csv', delimiter=';')\n",
    "data.head()"
   ]
  },
  {
   "cell_type": "markdown",
   "metadata": {},
   "source": [
    "# 3. Análise Exploratória de Dados (AED)"
   ]
  },
  {
   "cell_type": "code",
   "execution_count": 137,
   "metadata": {},
   "outputs": [
    {
     "data": {
      "text/plain": [
       "(102298, 14)"
      ]
     },
     "execution_count": 137,
     "metadata": {},
     "output_type": "execute_result"
    }
   ],
   "source": [
    "# 1. #rows vs. #columns\n",
    "data.shape"
   ]
  },
  {
   "cell_type": "markdown",
   "metadata": {},
   "source": [
    "**Temos um dataset com 102.298 ocorrências (exemplos) e 14 características/features (colunas), sendo uma delas, o rótulo/label (saída esperada).**"
   ]
  },
  {
   "cell_type": "code",
   "execution_count": 138,
   "metadata": {},
   "outputs": [
    {
     "data": {
      "text/plain": [
       "work_id               int64\n",
       "Music_Name           object\n",
       "track_id              int64\n",
       "Artist_Name          object\n",
       "Source               object\n",
       "Genre_ECAD           object\n",
       "Recording_Version    object\n",
       "Duration             object\n",
       "Fs                    int64\n",
       "MBID                 object\n",
       "ISWC                 object\n",
       "ISRC                 object\n",
       "Country              object\n",
       "Year                 object\n",
       "dtype: object"
      ]
     },
     "execution_count": 138,
     "metadata": {},
     "output_type": "execute_result"
    }
   ],
   "source": [
    "# 2. data types\n",
    "data.dtypes"
   ]
  },
  {
   "cell_type": "markdown",
   "metadata": {},
   "source": [
    "**Artist_Name é o nosso label; Duration e Year, que foram obtidos como object, serão convertidos para o tipo de dado correspondente ao tempo de música e ao ano, respectivamente.**"
   ]
  },
  {
   "cell_type": "code",
   "execution_count": 139,
   "metadata": {},
   "outputs": [
    {
     "data": {
      "text/html": [
       "<div>\n",
       "<style scoped>\n",
       "    .dataframe tbody tr th:only-of-type {\n",
       "        vertical-align: middle;\n",
       "    }\n",
       "\n",
       "    .dataframe tbody tr th {\n",
       "        vertical-align: top;\n",
       "    }\n",
       "\n",
       "    .dataframe thead th {\n",
       "        text-align: right;\n",
       "    }\n",
       "</style>\n",
       "<table border=\"1\" class=\"dataframe\">\n",
       "  <thead>\n",
       "    <tr style=\"text-align: right;\">\n",
       "      <th></th>\n",
       "      <th>work_id</th>\n",
       "      <th>Music_Name</th>\n",
       "      <th>track_id</th>\n",
       "      <th>Artist_Name</th>\n",
       "      <th>Source</th>\n",
       "      <th>Genre_ECAD</th>\n",
       "      <th>Recording_Version</th>\n",
       "      <th>Duration</th>\n",
       "      <th>Fs</th>\n",
       "      <th>MBID</th>\n",
       "      <th>ISWC</th>\n",
       "      <th>ISRC</th>\n",
       "      <th>Country</th>\n",
       "      <th>Year</th>\n",
       "    </tr>\n",
       "  </thead>\n",
       "  <tbody>\n",
       "    <tr>\n",
       "      <th>31311</th>\n",
       "      <td>118257</td>\n",
       "      <td>TREM DE FERRO</td>\n",
       "      <td>112944</td>\n",
       "      <td>OLIVIA HIME/TOM JOBIM</td>\n",
       "      <td>CAPTACAO RADIO</td>\n",
       "      <td>ND</td>\n",
       "      <td>STUDIO</td>\n",
       "      <td>00:02:14</td>\n",
       "      <td>11025</td>\n",
       "      <td>ND</td>\n",
       "      <td>T0393488533</td>\n",
       "      <td>ND</td>\n",
       "      <td>ND</td>\n",
       "      <td>NaT</td>\n",
       "    </tr>\n",
       "    <tr>\n",
       "      <th>74996</th>\n",
       "      <td>7046233</td>\n",
       "      <td>SLUT LIKE YOU</td>\n",
       "      <td>2640217</td>\n",
       "      <td>PINK</td>\n",
       "      <td>CD</td>\n",
       "      <td>ND</td>\n",
       "      <td>STUDIO</td>\n",
       "      <td>00:03:41.960000</td>\n",
       "      <td>11025</td>\n",
       "      <td>ND</td>\n",
       "      <td>T9089473494</td>\n",
       "      <td>USRC11200789</td>\n",
       "      <td>US</td>\n",
       "      <td>2012-01-01</td>\n",
       "    </tr>\n",
       "    <tr>\n",
       "      <th>24893</th>\n",
       "      <td>35968</td>\n",
       "      <td>SACO CHEIO</td>\n",
       "      <td>315415</td>\n",
       "      <td>ALMIR GUINETO</td>\n",
       "      <td>CAPTACAO RADIO</td>\n",
       "      <td>ND</td>\n",
       "      <td>STUDIO</td>\n",
       "      <td>00:03:19</td>\n",
       "      <td>11025</td>\n",
       "      <td>8fe3cdd5-381a-4ab6-8943-b9b3d6cabb4b</td>\n",
       "      <td>T0390506736</td>\n",
       "      <td>ND</td>\n",
       "      <td>BR</td>\n",
       "      <td>NaT</td>\n",
       "    </tr>\n",
       "    <tr>\n",
       "      <th>76142</th>\n",
       "      <td>7627633</td>\n",
       "      <td>DOSE DE PAIXAO</td>\n",
       "      <td>3242168</td>\n",
       "      <td>DURVAL &amp; DAVI</td>\n",
       "      <td>CAPTACAO RADIO</td>\n",
       "      <td>ND</td>\n",
       "      <td>STUDIO</td>\n",
       "      <td>00:03:56</td>\n",
       "      <td>11025</td>\n",
       "      <td>ND</td>\n",
       "      <td>T0393329286</td>\n",
       "      <td>BRWMB9702332</td>\n",
       "      <td>BR</td>\n",
       "      <td>1997-01-01</td>\n",
       "    </tr>\n",
       "    <tr>\n",
       "      <th>88670</th>\n",
       "      <td>13472785</td>\n",
       "      <td>BOM DEMAIS DA CONTA</td>\n",
       "      <td>3094325</td>\n",
       "      <td>HENRIQUE &amp; HERNANE</td>\n",
       "      <td>CD</td>\n",
       "      <td>ND</td>\n",
       "      <td>STUDIO</td>\n",
       "      <td>00:02:59.990000</td>\n",
       "      <td>11025</td>\n",
       "      <td>ND</td>\n",
       "      <td>T0392478179</td>\n",
       "      <td>BRWMB0201562</td>\n",
       "      <td>BR</td>\n",
       "      <td>2002-01-01</td>\n",
       "    </tr>\n",
       "  </tbody>\n",
       "</table>\n",
       "</div>"
      ],
      "text/plain": [
       "        work_id           Music_Name  track_id            Artist_Name  \\\n",
       "31311    118257        TREM DE FERRO    112944  OLIVIA HIME/TOM JOBIM   \n",
       "74996   7046233        SLUT LIKE YOU   2640217                   PINK   \n",
       "24893     35968           SACO CHEIO    315415          ALMIR GUINETO   \n",
       "76142   7627633       DOSE DE PAIXAO   3242168          DURVAL & DAVI   \n",
       "88670  13472785  BOM DEMAIS DA CONTA   3094325     HENRIQUE & HERNANE   \n",
       "\n",
       "               Source Genre_ECAD Recording_Version         Duration     Fs  \\\n",
       "31311  CAPTACAO RADIO         ND            STUDIO         00:02:14  11025   \n",
       "74996              CD         ND            STUDIO  00:03:41.960000  11025   \n",
       "24893  CAPTACAO RADIO         ND            STUDIO         00:03:19  11025   \n",
       "76142  CAPTACAO RADIO         ND            STUDIO         00:03:56  11025   \n",
       "88670              CD         ND            STUDIO  00:02:59.990000  11025   \n",
       "\n",
       "                                       MBID         ISWC          ISRC  \\\n",
       "31311                                    ND  T0393488533            ND   \n",
       "74996                                    ND  T9089473494  USRC11200789   \n",
       "24893  8fe3cdd5-381a-4ab6-8943-b9b3d6cabb4b  T0390506736            ND   \n",
       "76142                                    ND  T0393329286  BRWMB9702332   \n",
       "88670                                    ND  T0392478179  BRWMB0201562   \n",
       "\n",
       "      Country       Year  \n",
       "31311      ND        NaT  \n",
       "74996      US 2012-01-01  \n",
       "24893      BR        NaT  \n",
       "76142      BR 1997-01-01  \n",
       "88670      BR 2002-01-01  "
      ]
     },
     "execution_count": 139,
     "metadata": {},
     "output_type": "execute_result"
    }
   ],
   "source": [
    "# 3. convert 'Duration' and Year' to datetime and show a few rows\n",
    "data['Duration'] = pd.to_datetime(data['Duration'], format='%H:%M:%S.%f', errors='coerce').dt.time # NaT for invalid Duration values\n",
    "data['Year'] = pd.to_datetime(data['Year'], format='%y', errors='coerce') # NaT for invalid Year values\n",
    "\n",
    "data['Year'] = data['Year'].mask(data['Year'].dt.year > 2020, \n",
    "                                         data['Year'] - pd.offsets.DateOffset(years=100)) # Year goes up to 2020\n",
    "\n",
    "\n",
    "data.sample(5)"
   ]
  },
  {
   "cell_type": "markdown",
   "metadata": {},
   "source": [
    "**Existem exemplos com valores inválidos/missing values/em branco/não preenchidos/NaNs/NaTs, que poderão ser tratados nos próximos passos.**"
   ]
  },
  {
   "cell_type": "code",
   "execution_count": 140,
   "metadata": {},
   "outputs": [
    {
     "data": {
      "image/png": "[encoded data removed]",
      "text/plain": [
       "<Figure size 1008x1008 with 4 Axes>"
      ]
     },
     "metadata": {},
     "output_type": "display_data"
    }
   ],
   "source": [
    "# 4. plot each numeric feature ----- *********userful to detect outliers*********\n",
    "data.hist(figsize=(14,14), xrot=45)\n",
    "plt.show()"
   ]
  },
  {
   "cell_type": "markdown",
   "metadata": {},
   "source": [
    "**3 features são numéricas:**\n",
    "1. Fs: frequência sonora da música em Hz (indo de ~11k até 16k, sendo esta correspondente a possíveis pontos fora da curva - outliers);\n",
    "2. track_id: número identificador da música;\n",
    "3. work_id: número identificador do grupo de cover, também chamado de clique (click, em inglês)."
   ]
  },
  {
   "cell_type": "code",
   "execution_count": 141,
   "metadata": {},
   "outputs": [
    {
     "data": {
      "text/html": [
       "<div>\n",
       "<style scoped>\n",
       "    .dataframe tbody tr th:only-of-type {\n",
       "        vertical-align: middle;\n",
       "    }\n",
       "\n",
       "    .dataframe tbody tr th {\n",
       "        vertical-align: top;\n",
       "    }\n",
       "\n",
       "    .dataframe thead th {\n",
       "        text-align: right;\n",
       "    }\n",
       "</style>\n",
       "<table border=\"1\" class=\"dataframe\">\n",
       "  <thead>\n",
       "    <tr style=\"text-align: right;\">\n",
       "      <th></th>\n",
       "      <th>count</th>\n",
       "      <th>mean</th>\n",
       "      <th>std</th>\n",
       "      <th>min</th>\n",
       "      <th>25%</th>\n",
       "      <th>50%</th>\n",
       "      <th>75%</th>\n",
       "      <th>max</th>\n",
       "    </tr>\n",
       "  </thead>\n",
       "  <tbody>\n",
       "    <tr>\n",
       "      <th>work_id</th>\n",
       "      <td>102298.0</td>\n",
       "      <td>5.165103e+06</td>\n",
       "      <td>6.015939e+06</td>\n",
       "      <td>1.0</td>\n",
       "      <td>40253.00</td>\n",
       "      <td>2835847.0</td>\n",
       "      <td>7788684.00</td>\n",
       "      <td>24998809.0</td>\n",
       "    </tr>\n",
       "    <tr>\n",
       "      <th>track_id</th>\n",
       "      <td>102298.0</td>\n",
       "      <td>4.452356e+06</td>\n",
       "      <td>4.886335e+06</td>\n",
       "      <td>15.0</td>\n",
       "      <td>1301414.25</td>\n",
       "      <td>2116795.0</td>\n",
       "      <td>6001035.75</td>\n",
       "      <td>20563324.0</td>\n",
       "    </tr>\n",
       "    <tr>\n",
       "      <th>Fs</th>\n",
       "      <td>102298.0</td>\n",
       "      <td>1.102763e+04</td>\n",
       "      <td>1.142731e+02</td>\n",
       "      <td>11025.0</td>\n",
       "      <td>11025.00</td>\n",
       "      <td>11025.0</td>\n",
       "      <td>11025.00</td>\n",
       "      <td>16000.0</td>\n",
       "    </tr>\n",
       "  </tbody>\n",
       "</table>\n",
       "</div>"
      ],
      "text/plain": [
       "             count          mean           std      min         25%  \\\n",
       "work_id   102298.0  5.165103e+06  6.015939e+06      1.0    40253.00   \n",
       "track_id  102298.0  4.452356e+06  4.886335e+06     15.0  1301414.25   \n",
       "Fs        102298.0  1.102763e+04  1.142731e+02  11025.0    11025.00   \n",
       "\n",
       "                50%         75%         max  \n",
       "work_id   2835847.0  7788684.00  24998809.0  \n",
       "track_id  2116795.0  6001035.75  20563324.0  \n",
       "Fs          11025.0    11025.00     16000.0  "
      ]
     },
     "execution_count": 141,
     "metadata": {},
     "output_type": "execute_result"
    }
   ],
   "source": [
    "# 5. summary statistics of the numerical features\n",
    "data.describe().T"
   ]
  },
  {
   "cell_type": "markdown",
   "metadata": {},
   "source": [
    "**As medidas descritas sobre as features numéricas nos mostram:**\n",
    "\n",
    "1. Fs: o espectro de ondas sonoras vai de 11.025,0 a 16.000,0, sendo pelo menos 75% decaindo sobre um Fs de 11.025; todos os exemplos aparentam estar preenchidos corretamente (102.298). \n",
    "2. track_id: todos os exemplos estão preenchidos nas 102.298 linhas (exemplos), começando em 15 e terminando em 20.563.324.\n",
    "3. work_id: todos os exemplos estão preenchidos nas 102.298 linhas, começando em 1 e terminando em 24.998.809.\n",
    "\n",
    "Sabe-se que a relação entre as músicas e os grupos de covers é a seguinte: existem 102.298 músicas, distribuídas em 26.366 grupos de covers. Isso implica que os ids dessas features não possuem uma relação unívoca, ou seja, a primeira track (música) não corresponde ao id 1, assim como o último work (grupo de cover) não corresponde ao id 26.366. Talvez, os ids tenham sido gerados de forma aleatória."
   ]
  },
  {
   "cell_type": "code",
   "execution_count": 142,
   "metadata": {},
   "outputs": [
    {
     "name": "stderr",
     "output_type": "stream",
     "text": [
      "<ipython-input-142-38a28da91c82>:2: FutureWarning: Treating datetime data as categorical rather than numeric in `.describe` is deprecated and will be removed in a future version of pandas. Specify `datetime_is_numeric=True` to silence this warning and adopt the future behavior now.\n",
      "  data.describe(include=['object', 'datetime']) # first and last values refers just to Year (datetime column)\n"
     ]
    },
    {
     "data": {
      "text/html": [
       "<div>\n",
       "<style scoped>\n",
       "    .dataframe tbody tr th:only-of-type {\n",
       "        vertical-align: middle;\n",
       "    }\n",
       "\n",
       "    .dataframe tbody tr th {\n",
       "        vertical-align: top;\n",
       "    }\n",
       "\n",
       "    .dataframe thead th {\n",
       "        text-align: right;\n",
       "    }\n",
       "</style>\n",
       "<table border=\"1\" class=\"dataframe\">\n",
       "  <thead>\n",
       "    <tr style=\"text-align: right;\">\n",
       "      <th></th>\n",
       "      <th>Music_Name</th>\n",
       "      <th>Artist_Name</th>\n",
       "      <th>Source</th>\n",
       "      <th>Genre_ECAD</th>\n",
       "      <th>Recording_Version</th>\n",
       "      <th>Duration</th>\n",
       "      <th>MBID</th>\n",
       "      <th>ISWC</th>\n",
       "      <th>ISRC</th>\n",
       "      <th>Country</th>\n",
       "      <th>Year</th>\n",
       "    </tr>\n",
       "  </thead>\n",
       "  <tbody>\n",
       "    <tr>\n",
       "      <th>count</th>\n",
       "      <td>102298</td>\n",
       "      <td>102298</td>\n",
       "      <td>102298</td>\n",
       "      <td>102298</td>\n",
       "      <td>102298</td>\n",
       "      <td>102298</td>\n",
       "      <td>102298</td>\n",
       "      <td>102298</td>\n",
       "      <td>102298</td>\n",
       "      <td>102298</td>\n",
       "      <td>88849</td>\n",
       "    </tr>\n",
       "    <tr>\n",
       "      <th>unique</th>\n",
       "      <td>23776</td>\n",
       "      <td>23432</td>\n",
       "      <td>4</td>\n",
       "      <td>48</td>\n",
       "      <td>38</td>\n",
       "      <td>25752</td>\n",
       "      <td>30722</td>\n",
       "      <td>15889</td>\n",
       "      <td>88863</td>\n",
       "      <td>51</td>\n",
       "      <td>97</td>\n",
       "    </tr>\n",
       "    <tr>\n",
       "      <th>top</th>\n",
       "      <td>1. ALLEGRO</td>\n",
       "      <td>ELVIS PRESLEY</td>\n",
       "      <td>IMPORTACAO</td>\n",
       "      <td>ND</td>\n",
       "      <td>STUDIO</td>\n",
       "      <td>00:03:00</td>\n",
       "      <td>ND</td>\n",
       "      <td>ND</td>\n",
       "      <td>ND</td>\n",
       "      <td>BR</td>\n",
       "      <td>2003-01-01 00:00:00</td>\n",
       "    </tr>\n",
       "    <tr>\n",
       "      <th>freq</th>\n",
       "      <td>183</td>\n",
       "      <td>932</td>\n",
       "      <td>44623</td>\n",
       "      <td>98128</td>\n",
       "      <td>80369</td>\n",
       "      <td>306</td>\n",
       "      <td>51488</td>\n",
       "      <td>34976</td>\n",
       "      <td>13372</td>\n",
       "      <td>41063</td>\n",
       "      <td>4360</td>\n",
       "    </tr>\n",
       "    <tr>\n",
       "      <th>first</th>\n",
       "      <td>NaN</td>\n",
       "      <td>NaN</td>\n",
       "      <td>NaN</td>\n",
       "      <td>NaN</td>\n",
       "      <td>NaN</td>\n",
       "      <td>NaN</td>\n",
       "      <td>NaN</td>\n",
       "      <td>NaN</td>\n",
       "      <td>NaN</td>\n",
       "      <td>NaN</td>\n",
       "      <td>1921-01-01 00:00:00</td>\n",
       "    </tr>\n",
       "    <tr>\n",
       "      <th>last</th>\n",
       "      <td>NaN</td>\n",
       "      <td>NaN</td>\n",
       "      <td>NaN</td>\n",
       "      <td>NaN</td>\n",
       "      <td>NaN</td>\n",
       "      <td>NaN</td>\n",
       "      <td>NaN</td>\n",
       "      <td>NaN</td>\n",
       "      <td>NaN</td>\n",
       "      <td>NaN</td>\n",
       "      <td>2020-01-01 00:00:00</td>\n",
       "    </tr>\n",
       "  </tbody>\n",
       "</table>\n",
       "</div>"
      ],
      "text/plain": [
       "        Music_Name    Artist_Name      Source Genre_ECAD Recording_Version  \\\n",
       "count       102298         102298      102298     102298            102298   \n",
       "unique       23776          23432           4         48                38   \n",
       "top     1. ALLEGRO  ELVIS PRESLEY  IMPORTACAO         ND            STUDIO   \n",
       "freq           183            932       44623      98128             80369   \n",
       "first          NaN            NaN         NaN        NaN               NaN   \n",
       "last           NaN            NaN         NaN        NaN               NaN   \n",
       "\n",
       "        Duration    MBID    ISWC    ISRC Country                 Year  \n",
       "count     102298  102298  102298  102298  102298                88849  \n",
       "unique     25752   30722   15889   88863      51                   97  \n",
       "top     00:03:00      ND      ND      ND      BR  2003-01-01 00:00:00  \n",
       "freq         306   51488   34976   13372   41063                 4360  \n",
       "first        NaN     NaN     NaN     NaN     NaN  1921-01-01 00:00:00  \n",
       "last         NaN     NaN     NaN     NaN     NaN  2020-01-01 00:00:00  "
      ]
     },
     "execution_count": 142,
     "metadata": {},
     "output_type": "execute_result"
    }
   ],
   "source": [
    "# 6. summary statistics of the categorical features\n",
    "data.describe(include=['object', 'datetime']) # first and last values refers just to Year (datetime column)"
   ]
  },
  {
   "cell_type": "markdown",
   "metadata": {},
   "source": [
    "**As demais 11 features são categóricas (incluindo uma, Year, de data):**\n",
    "\n",
    "1. Music_Name: possui diversos valores repetidos, mas todos os exemplos estão preenchidos. A música com cover mais comum possui 183 entradas e contém em seu nome o texto \"1. ALLEGRO\".\n",
    "2. Artist_Name: existem aproximadamente 23 mil artistas diferentes. O cover mais comum é do cantor Elvis Presley, com 932 entradas.\n",
    "3. Source: há somente 4 fontes de gravação dos covers, sendo a mais comum - importação.\n",
    "4. Genre_ECAD: existem 48 gêneros musicais distintos (baseados no Escritório Central de Arrecadação e Distribuição - ECAD).\n",
    "5. Recording_Version: existem 38 versões de gravação diferentes, sendo a de estúdio, a mais comum (80.369 entradas).\n",
    "6. Duration: o tempo mais comum das músicas é o de 3 minutos de duração. Este tempo está relacionado com as conhecidas \"versões de rádio\".\n",
    "7. MBID: da mesma forma que há músicas que se repetem, há diversos exemplos com o identificador MusicBrainz (MBID) repetido.\n",
    "8. ISWC: este ID único aparece repetido (diversas vezes), porque há registros da mesma música (várias vezes) no dataset.\n",
    "9. ISRC: este ID, que identifica unicamente uma gravação, pode aparecer repetido devido a mais de uma entrada do mesmo cover no dataset.\n",
    "10. Country: há músicas de diversos países, sendo o Brasil o país com maior número de registros (41.063). Ainda não se pode afirmar se são 51 países distintos sem antes analisar os exemplos com mais cuidado.\n",
    "11. Year: com 97 registros, temos covers de músicas do ano de 1921 a 2020."
   ]
  },
  {
   "cell_type": "markdown",
   "metadata": {},
   "source": [
    "**Como descrito nas informações oficiais do dataset, as seguintes features possuem todos os valores informados:**\n",
    "\n",
    "- work_id\n",
    "- track_id\n",
    "- Music_Name\n",
    "- Artist_Name\n",
    "- Duration"
   ]
  },
  {
   "cell_type": "code",
   "execution_count": 143,
   "metadata": {},
   "outputs": [
    {
     "data": {
      "image/png": "[encoded data removed]",
      "text/plain": [
       "<Figure size 432x288 with 1 Axes>"
      ]
     },
     "metadata": {},
     "output_type": "display_data"
    }
   ],
   "source": [
    "# 7. explore Source feature\n",
    "sns.countplot(y='Source', data=data)\n",
    "plt.show()"
   ]
  },
  {
   "cell_type": "markdown",
   "metadata": {},
   "source": [
    "**A primeira feature a ser analisada em mais detalhes é a *Source*, que contém 4 classes distintas:**\n",
    "\n",
    "Percebe-se que existem entradas **ND**, que são aquelas que não estão dentre CD, importação e captação de rádio."
   ]
  },
  {
   "cell_type": "code",
   "execution_count": 144,
   "metadata": {},
   "outputs": [
    {
     "data": {
      "text/plain": [
       "array(['ND', 'PAGODE', 'SAMBA CANCAO', 'MPB', 'SAMBA', 'SERTANEJO',\n",
       "       'BOSSA NOVA', 'FORRO', 'TANGO', 'POP MUSIC', 'VANEIRAO',\n",
       "       'ROMANTICO', 'ROCK', 'SAMBA ENREDO', 'HINO', 'TIMBALADA', 'FREVO',\n",
       "       'MAXIXE', 'TOADA', 'EVANGELICA', 'DANCE MUSIC', 'BAIAO', 'CHORO',\n",
       "       'VALSA', 'FUNK', 'FOX-TROT', 'CLASSICA', 'BOLERO', 'HEAVY METAL',\n",
       "       'MARCHA-RANCHO', 'XOTE', 'AXE MUSIC', 'GOSPEL', 'RELIGIOSO', 'RAP',\n",
       "       'MARCHA', 'INSTRUMENTAL', 'REGGAE', 'BALADA', 'LAMBADA', 'CANCAO',\n",
       "       'CATOLICO', 'CALYPSO', 'WORLD MUSIC', 'REGIONAL', 'SOUL', 'SACRA',\n",
       "       'OUTROS'], dtype=object)"
      ]
     },
     "execution_count": 144,
     "metadata": {},
     "output_type": "execute_result"
    }
   ],
   "source": [
    "# 8. explore Genre_ECAD feature\n",
    "data['Genre_ECAD'].unique()"
   ]
  },
  {
   "cell_type": "markdown",
   "metadata": {},
   "source": [
    "**A segunda feature a ser explorada é *Genre_ECAD*, que contém 48 classes distintas:**\n",
    "\n",
    "Percebe-se que existem entradas **ND**, que correspondem a gêneros desconhecidos ou não informados. Há também a categoria **outros**. Percebe-se que há covers, também, de músicas **instrumentais** e eletrônicas como **dance music**, que são gêneros que não apresentam necessariamente vocal, mas tão somente instrumentos musicais/eletrônicos."
   ]
  },
  {
   "cell_type": "code",
   "execution_count": 145,
   "metadata": {},
   "outputs": [
    {
     "data": {
      "text/plain": [
       "array(['STUDIO', 'LIVE (AO VIVO)', 'REMIX', 'TAPE', 'ACUSTICO',\n",
       "       'ACUSTICO MTV', 'UNPLUGGED (ACUSTICO)', 'ND', 'ACUSTICO AO VIVO',\n",
       "       'RADIO REMIX', 'HOUSE EDIT', 'DVD', 'A CAPELA', 'RADIO VERSION',\n",
       "       'STUDIO VERSION', 'NI', 'MTV AO VIVO', 'MIX', 'ALBUM', 'VHS',\n",
       "       'VINHETA', 'MEME SUPER CLUB MIX 2002', 'POP MIX', 'EXTENDED MIX',\n",
       "       'BIBLIOTECA', 'RADIO EDIT', 'ROCK VERSION', 'G-VO MIX', 'SURTO',\n",
       "       'CLUB REMIX', 'PLAY BACK', 'RADIO MIX', 'LONG VERSION',\n",
       "       'EDITED SLOW', 'EDIT MIX', 'XRS REMIX RADIO EDIT', 'LOUNGE MIX',\n",
       "       'GROOVE MIX'], dtype=object)"
      ]
     },
     "execution_count": 145,
     "metadata": {},
     "output_type": "execute_result"
    }
   ],
   "source": [
    "# 9. explore Recording_Version feature\n",
    "data['Recording_Version'].unique()"
   ]
  },
  {
   "cell_type": "markdown",
   "metadata": {},
   "source": [
    "**A terceira feature a ser explorada é *Recording_Version*, que contém 38 classes distintas:**\n",
    "\n",
    "Nota-se entradas **ND**, também, para esta feature. Há diversas categorias inclusas na modalidade **ao vivo**, como **live** e **acústico ao vivo**. Conforme informações oficiais dos autores do dataset, as classes mais comuns dentre os covers gravados são: estúdio, ao vivo e remix. No próximo passo confirmamos isto por meio de um gráfico."
   ]
  },
  {
   "cell_type": "code",
   "execution_count": 146,
   "metadata": {},
   "outputs": [
    {
     "name": "stdout",
     "output_type": "stream",
     "text": [
      "   Tipos de Gravação  Ocorrências\n",
      "30            STUDIO        80369\n",
      "14    LIVE (AO VIVO)        17504\n",
      "28             REMIX         2765\n",
      "20                ND          671\n",
      "1           ACUSTICO          205\n",
      "---\n"
     ]
    },
    {
     "data": {
      "image/png": "[encoded data removed]",
      "text/plain": [
       "<Figure size 432x288 with 1 Axes>"
      ]
     },
     "metadata": {},
     "output_type": "display_data"
    }
   ],
   "source": [
    "# 9.continuation. plot most frequent classes\n",
    "recording_version = data[['Artist_Name', 'Recording_Version']].copy()\n",
    "recording_version = recording_version.groupby(by=['Recording_Version']).count().reset_index()\n",
    "recording_version_TOP = recording_version.sort_values('Artist_Name', ascending=False)\n",
    "recording_version_TOP.rename(index=str, columns={'Recording_Version': 'Tipos de Gravação', 'Artist_Name': 'Ocorrências'}, inplace=True)\n",
    "recording_version_TOP_5 = recording_version_TOP.head(5)\n",
    "\n",
    "print(recording_version_TOP_5)\n",
    "print('---')\n",
    "\n",
    "# plot results\n",
    "recording_version_TOP_5_plot = sns.barplot(x='Tipos de Gravação', y='Ocorrências', data=recording_version_TOP_5)"
   ]
  },
  {
   "cell_type": "code",
   "execution_count": 147,
   "metadata": {},
   "outputs": [
    {
     "name": "stdout",
     "output_type": "stream",
     "text": [
      "False    102298\n",
      "Name: Duration, dtype: int64\n",
      "---\n",
      "False    102298\n",
      "Name: Duration, dtype: int64\n"
     ]
    }
   ],
   "source": [
    "# 10. explore Duration feature\n",
    "isNegativeHour = data['Duration'] < dt.time(hour=0) # are there negative hours?\n",
    "isNegativeMinute = data['Duration'] <= dt.time(minute=0) # are there negative, or zero, minutes?\n",
    "\n",
    "print(isNegativeHour.value_counts())\n",
    "print('---')\n",
    "print(isNegativeMinute.value_counts())"
   ]
  },
  {
   "cell_type": "code",
   "execution_count": 148,
   "metadata": {},
   "outputs": [
    {
     "name": "stdout",
     "output_type": "stream",
     "text": [
      "Gravação mais curta:  00:00:04.370000\n",
      "Gravação mais longa:  00:38:19.600000\n",
      "Gravação mais comum:  00:03:00\n",
      "---\n"
     ]
    },
    {
     "data": {
      "image/png": "[encoded data removed]",
      "text/plain": [
       "<Figure size 432x288 with 1 Axes>"
      ]
     },
     "metadata": {},
     "output_type": "display_data"
    }
   ],
   "source": [
    "# 10.continuation. plot Duration distribution\n",
    "print('Gravação mais curta: ', min(data['Duration']))\n",
    "print('Gravação mais longa: ', max(data['Duration']))\n",
    "\n",
    "examples_list = list(range(1, data.shape[0]+1))\n",
    "y_dt = [dt.datetime.combine(dt.date.max, t) for t in data['Duration']]\n",
    "\n",
    "# plot musics per duration\n",
    "fig = plt.figure()\n",
    "ax = fig.add_subplot(1,1,1) \n",
    "ax.yaxis.set_major_formatter(mdates.DateFormatter('%M:%S'))\n",
    "music_duration_plot = plt.plot(examples_list, y_dt)\n",
    "\n",
    "# get most frequent Duration class to draw and plot\n",
    "uniques, counts = np.unique(y_dt, return_counts=True)\n",
    "duration_most_frequent = uniques[np.argmax(counts)]\n",
    "duration_most_frequent_list = [duration_most_frequent for i in range(len(examples_list))]\n",
    "\n",
    "print('Gravação mais comum: ', duration_most_frequent.time())\n",
    "print('---')\n",
    "\n",
    "plt.plot(range(len(examples_list)), duration_most_frequent_list)\n",
    "plt.title('Tempo, em minutos, de cada cover gravado')\n",
    "plt.show()"
   ]
  },
  {
   "cell_type": "markdown",
   "metadata": {},
   "source": [
    "**Ao explorar a quarta feature, *Duration*, que contém 25.752 classes distintas, temos que:**\n",
    "\n",
    "Todas as classes contém valores de duração de música válidos. (Os valores tratados como inválidos são considerados como NaT.) Temos 102.298 exemplos (mesmo número de linhas do dataset) com valores iguais a NaT ou iguais a um tempo válido de hora:minuto:segundo.microsegundo.\n",
    "\n",
    "A gravação mais curta dura poucos segundos e a mais longa possui quase 40 minutos. O gráfico exibido acima mostra a distribuição das músicas com relação ao tempo de gravação do cover. Há uma grande concentração de músicas com duração de aproximadamente 3 minutos."
   ]
  },
  {
   "cell_type": "code",
   "execution_count": 149,
   "metadata": {},
   "outputs": [
    {
     "name": "stdout",
     "output_type": "stream",
     "text": [
      "False country acronyms: {'NDI', 'ND'}\n",
      "---\n",
      "NDI count = 1156\n",
      "ND count = 8398\n"
     ]
    }
   ],
   "source": [
    "# 11. explore Country feature\n",
    "\n",
    "# first, let's review country list data table\n",
    "data_country = pd.read_csv('CountryList_ISRC.csv', delimiter=';')\n",
    "data_country.columns = ['ACRONYM', 'ACRONYM_BIGGER', 'Country']\n",
    "data_country = data_country.dropna()\n",
    "data_country.head(5)\n",
    "\n",
    "# second, get the acronymns that doesn't exist\n",
    "countries_cover_list = data['Country']\n",
    "countries_ISRC_list_2_letter = data_country['ACRONYM']\n",
    "countries_ISRC_list_3_letter = data_country['ACRONYM_BIGGER']\n",
    "\n",
    "false_acronyms = [s for s in countries_cover_list if not any(xs in s for xs in countries_ISRC_list_2_letter) and not any(xs in s for xs in countries_ISRC_list_3_letter)]\n",
    "\n",
    "print('False country acronyms:', set(false_acronyms))\n",
    "print('---')\n",
    "\n",
    "for false_acronym in set(false_acronyms):\n",
    "    false_acronyms_count_condition = data['Country'][data['Country'] == false_acronym]\n",
    "    false_acronyms_count = false_acronyms_count_condition.count()\n",
    "    \n",
    "    print(false_acronym + ' count = ' + str(false_acronyms_count))"
   ]
  },
  {
   "cell_type": "code",
   "execution_count": 150,
   "metadata": {},
   "outputs": [
    {
     "name": "stdout",
     "output_type": "stream",
     "text": [
      "   Países  Ocorrências\n",
      "7      BR        41063\n",
      "49     US        28723\n",
      "19     GB        10284\n",
      "30     ND         8398\n",
      "14     DE         4651\n",
      "---\n"
     ]
    },
    {
     "data": {
      "image/png": "[encoded data removed]",
      "text/plain": [
       "<Figure size 432x288 with 1 Axes>"
      ]
     },
     "metadata": {},
     "output_type": "display_data"
    }
   ],
   "source": [
    "# 11.continuation. plot most frequent classes\n",
    "countries = data[['Artist_Name', 'Country']].copy()\n",
    "countries = countries.groupby(by=['Country']).count().reset_index()\n",
    "countries_TOP = countries.sort_values('Artist_Name', ascending=False)\n",
    "countries_TOP.rename(index=str, columns={'Country': 'Países', 'Artist_Name': 'Ocorrências'}, inplace=True)\n",
    "countries_TOP_5 = countries_TOP.head(5)\n",
    "\n",
    "print(countries_TOP_5)\n",
    "print('---')\n",
    "\n",
    "# plot results\n",
    "countries_TOP_5_plot = sns.barplot(x='Países', y='Ocorrências', data=countries_TOP_5)"
   ]
  },
  {
   "cell_type": "markdown",
   "metadata": {},
   "source": [
    "**Ao explorar a quinta feature, *Country*, que contém 51 classes distintas, temos que:**\n",
    "\n",
    "- Os exemplos representam siglas dos países dos covers, em inglês, de acordo com o *CountryList_ISRC.csv*, disponibilizado pelos autores do dataset de covers.\n",
    "- Na descrição oficial do dataset, temos 44 países, então tivemos de tratar siglas fora de contexto (que não representam países - problemas/ruídos na construção do dataset).\n",
    "- Existem 8.398 exemplos com a entrada **ND** que serão considerados como **outros** países.\n",
    "- Existem 1.156 exemplos com a entrada **NDI** que não corresponde a nenhum país listado.\n",
    "- Brasil, Estados Unidos e Reino Unido estão dentre os países com mais registros de cover."
   ]
  },
  {
   "cell_type": "code",
   "execution_count": 151,
   "metadata": {},
   "outputs": [
    {
     "name": "stdout",
     "output_type": "stream",
     "text": [
      "Número de músicas por feature (que não possui todos os casos informados):\n",
      "\n",
      "{'Genre': 4170, 'ISRC': 88926, 'ISWC': 67322, 'MBID': 50810, 'Country': 92744, 'Year': 88849}\n"
     ]
    },
    {
     "data": {
      "text/html": [
       "<div>\n",
       "<style scoped>\n",
       "    .dataframe tbody tr th:only-of-type {\n",
       "        vertical-align: middle;\n",
       "    }\n",
       "\n",
       "    .dataframe tbody tr th {\n",
       "        vertical-align: top;\n",
       "    }\n",
       "\n",
       "    .dataframe thead th {\n",
       "        text-align: right;\n",
       "    }\n",
       "</style>\n",
       "<table border=\"1\" class=\"dataframe\">\n",
       "  <thead>\n",
       "    <tr style=\"text-align: right;\">\n",
       "      <th></th>\n",
       "      <th>Feature</th>\n",
       "      <th>#exemplos</th>\n",
       "      <th>Representatividade (%)</th>\n",
       "    </tr>\n",
       "  </thead>\n",
       "  <tbody>\n",
       "    <tr>\n",
       "      <th>4</th>\n",
       "      <td>Country</td>\n",
       "      <td>92744</td>\n",
       "      <td>90.660619</td>\n",
       "    </tr>\n",
       "    <tr>\n",
       "      <th>1</th>\n",
       "      <td>ISRC</td>\n",
       "      <td>88926</td>\n",
       "      <td>86.928386</td>\n",
       "    </tr>\n",
       "    <tr>\n",
       "      <th>5</th>\n",
       "      <td>Year</td>\n",
       "      <td>88849</td>\n",
       "      <td>86.853115</td>\n",
       "    </tr>\n",
       "    <tr>\n",
       "      <th>2</th>\n",
       "      <td>ISWC</td>\n",
       "      <td>67322</td>\n",
       "      <td>65.809693</td>\n",
       "    </tr>\n",
       "    <tr>\n",
       "      <th>3</th>\n",
       "      <td>MBID</td>\n",
       "      <td>50810</td>\n",
       "      <td>49.668615</td>\n",
       "    </tr>\n",
       "    <tr>\n",
       "      <th>0</th>\n",
       "      <td>Genre</td>\n",
       "      <td>4170</td>\n",
       "      <td>4.076326</td>\n",
       "    </tr>\n",
       "  </tbody>\n",
       "</table>\n",
       "</div>"
      ],
      "text/plain": [
       "   Feature  #exemplos  Representatividade (%)\n",
       "4  Country      92744               90.660619\n",
       "1     ISRC      88926               86.928386\n",
       "5     Year      88849               86.853115\n",
       "2     ISWC      67322               65.809693\n",
       "3     MBID      50810               49.668615\n",
       "0    Genre       4170                4.076326"
      ]
     },
     "execution_count": 151,
     "metadata": {},
     "output_type": "execute_result"
    },
    {
     "data": {
      "image/png": "[encoded data removed]",
      "text/plain": [
       "<Figure size 432x288 with 1 Axes>"
      ]
     },
     "metadata": {},
     "output_type": "display_data"
    }
   ],
   "source": [
    "# aggregate some data: count another occurrences (non ND, NaN, values)\n",
    "dict_ocurr = {}\n",
    "\n",
    "# songs by Genre_ECAD\n",
    "songs_by_genre = data['Genre_ECAD'][data['Genre_ECAD'] != 'ND'].count()\n",
    "dict_ocurr['Genre'] = songs_by_genre\n",
    "\n",
    "# songs by ISRC\n",
    "songs_by_ISRC = data['ISRC'][data['ISRC'] != 'ND'].count()\n",
    "dict_ocurr['ISRC'] = songs_by_ISRC\n",
    "\n",
    "# songs by ISWC\n",
    "songs_by_ISWC = data['ISWC'][data['ISWC'] != 'ND'].count()\n",
    "dict_ocurr['ISWC'] = songs_by_ISWC\n",
    "\n",
    "# songs by MBID\n",
    "songs_by_MBID = data['MBID'][data['MBID'] != 'ND'].count()\n",
    "dict_ocurr['MBID'] = songs_by_MBID\n",
    "\n",
    "# songs by Country\n",
    "songs_by_country = data['Country'][data['Country'] == 'NDI'].count()\n",
    "songs_by_country = songs_by_country + data['Country'][data['Country'] == 'ND'].count()\n",
    "dict_ocurr['Country'] = data['Country'].count() - songs_by_country\n",
    "\n",
    "# songs by Year\n",
    "songs_by_year = data['Year'].count()\n",
    "dict_ocurr['Year'] = songs_by_year\n",
    "\n",
    "print('Número de músicas por feature (que não possui todos os casos informados):')\n",
    "print()\n",
    "print(dict_ocurr)\n",
    "\n",
    "# plot feature representativeness\n",
    "features_representativeness_plot_x = list(dict_ocurr.keys())\n",
    "features_representativeness_plot_y = list(dict_ocurr.values())\n",
    "\n",
    "ocurr_data = pd.DataFrame(features_representativeness_plot_x,columns=['#Songs'])\n",
    "ocurr_data['Occurrences'] = features_representativeness_plot_y\n",
    "\n",
    "features_representativeness_plot = sns.barplot(x=features_representativeness_plot_x, \n",
    "                                                y=features_representativeness_plot_y, \n",
    "                                                data=ocurr_data).set_title('Representatividade de algumas features (total de 102.298 exemplos)')\n",
    "\n",
    "# print features ratio\n",
    "ratio_list = [ratio / data.shape[0] * 100 for ratio in features_representativeness_plot_y]\n",
    "\n",
    "ratio_dataframe = pd.DataFrame(features_representativeness_plot_x,columns=['Feature'])\n",
    "ratio_dataframe['#exemplos'] = features_representativeness_plot_y\n",
    "ratio_dataframe['Representatividade (%)'] = ratio_list\n",
    "ratio_dataframe = ratio_dataframe.sort_values('Representatividade (%)', ascending=False)\n",
    "ratio_dataframe"
   ]
  },
  {
   "cell_type": "markdown",
   "metadata": {},
   "source": [
    "**Ao agregar as variáveis categóricas, pontua-se o seguinte:**\n",
    "\n",
    "As variáveis que não possuem todos os exemplos registrados (contém valores NDs/NaNs) variam em número de exemplos, consideravelmente, entre si.\n",
    "\n",
    "Enquanto o gênero de apenas 4.170 (de 102.298) músicas, ou 4%, foram informados, quase todos os países, 92.744, ou 90%, foram registrados."
   ]
  },
  {
   "cell_type": "code",
   "execution_count": 152,
   "metadata": {},
   "outputs": [
    {
     "data": {
      "text/html": [
       "<div>\n",
       "<style scoped>\n",
       "    .dataframe tbody tr th:only-of-type {\n",
       "        vertical-align: middle;\n",
       "    }\n",
       "\n",
       "    .dataframe tbody tr th {\n",
       "        vertical-align: top;\n",
       "    }\n",
       "\n",
       "    .dataframe thead th {\n",
       "        text-align: right;\n",
       "    }\n",
       "</style>\n",
       "<table border=\"1\" class=\"dataframe\">\n",
       "  <thead>\n",
       "    <tr style=\"text-align: right;\">\n",
       "      <th></th>\n",
       "      <th>ID do Cover</th>\n",
       "      <th># de músicas</th>\n",
       "    </tr>\n",
       "  </thead>\n",
       "  <tbody>\n",
       "    <tr>\n",
       "      <th>14681</th>\n",
       "      <td>5238551</td>\n",
       "      <td>76</td>\n",
       "    </tr>\n",
       "    <tr>\n",
       "      <th>14771</th>\n",
       "      <td>5240219</td>\n",
       "      <td>72</td>\n",
       "    </tr>\n",
       "    <tr>\n",
       "      <th>9983</th>\n",
       "      <td>2195919</td>\n",
       "      <td>69</td>\n",
       "    </tr>\n",
       "    <tr>\n",
       "      <th>12130</th>\n",
       "      <td>4357829</td>\n",
       "      <td>68</td>\n",
       "    </tr>\n",
       "    <tr>\n",
       "      <th>259</th>\n",
       "      <td>789</td>\n",
       "      <td>65</td>\n",
       "    </tr>\n",
       "  </tbody>\n",
       "</table>\n",
       "</div>"
      ],
      "text/plain": [
       "       ID do Cover  # de músicas\n",
       "14681      5238551            76\n",
       "14771      5240219            72\n",
       "9983       2195919            69\n",
       "12130      4357829            68\n",
       "259            789            65"
      ]
     },
     "execution_count": 152,
     "metadata": {},
     "output_type": "execute_result"
    }
   ],
   "source": [
    "# aggregate some data: continuation\n",
    "\n",
    "# songs per click\n",
    "clicks = data[['track_id', 'work_id']].copy()\n",
    "clicks = clicks.groupby(by=['work_id']).count().reset_index()\n",
    "clicks_TOP = clicks.sort_values('track_id', ascending=False)\n",
    "\n",
    "clicks_TOP.rename(index=str, columns={'work_id': 'ID do Cover', 'track_id': '# de músicas'}, inplace=True)\n",
    "clicks_TOP_5 = clicks_TOP.head(5)\n",
    "#clicks_TOP_5 = clicks_TOP.tail(5)\n",
    "clicks_TOP_5"
   ]
  },
  {
   "cell_type": "markdown",
   "metadata": {},
   "source": [
    "**Ao agregar as informações de cover e número de músicas, podemos perceber que uma pessoa pode ter feito entre 2 e 76 covers.**"
   ]
  },
  {
   "cell_type": "code",
   "execution_count": 153,
   "metadata": {},
   "outputs": [
    {
     "data": {
      "text/html": [
       "<div>\n",
       "<style scoped>\n",
       "    .dataframe tbody tr th:only-of-type {\n",
       "        vertical-align: middle;\n",
       "    }\n",
       "\n",
       "    .dataframe tbody tr th {\n",
       "        vertical-align: top;\n",
       "    }\n",
       "\n",
       "    .dataframe thead th {\n",
       "        text-align: right;\n",
       "    }\n",
       "</style>\n",
       "<table border=\"1\" class=\"dataframe\">\n",
       "  <thead>\n",
       "    <tr style=\"text-align: right;\">\n",
       "      <th></th>\n",
       "      <th>work_id</th>\n",
       "      <th>track_id</th>\n",
       "      <th>Fs</th>\n",
       "    </tr>\n",
       "  </thead>\n",
       "  <tbody>\n",
       "    <tr>\n",
       "      <th>work_id</th>\n",
       "      <td>1.000000</td>\n",
       "      <td>0.394979</td>\n",
       "      <td>-0.002792</td>\n",
       "    </tr>\n",
       "    <tr>\n",
       "      <th>track_id</th>\n",
       "      <td>0.394979</td>\n",
       "      <td>1.000000</td>\n",
       "      <td>0.034104</td>\n",
       "    </tr>\n",
       "    <tr>\n",
       "      <th>Fs</th>\n",
       "      <td>-0.002792</td>\n",
       "      <td>0.034104</td>\n",
       "      <td>1.000000</td>\n",
       "    </tr>\n",
       "  </tbody>\n",
       "</table>\n",
       "</div>"
      ],
      "text/plain": [
       "           work_id  track_id        Fs\n",
       "work_id   1.000000  0.394979 -0.002792\n",
       "track_id  0.394979  1.000000  0.034104\n",
       "Fs       -0.002792  0.034104  1.000000"
      ]
     },
     "execution_count": 153,
     "metadata": {},
     "output_type": "execute_result"
    }
   ],
   "source": [
    "# correlations matrix for the different numerical features\n",
    "corrs = data.corr()\n",
    "corrs"
   ]
  },
  {
   "cell_type": "code",
   "execution_count": 154,
   "metadata": {},
   "outputs": [
    {
     "data": {
      "image/png": "[encoded data removed]",
      "text/plain": [
       "<Figure size 576x432 with 2 Axes>"
      ]
     },
     "metadata": {},
     "output_type": "display_data"
    }
   ],
   "source": [
    "# heatmap of the correlations\n",
    "plt.figure(figsize=(8,6))\n",
    "sns.heatmap(corrs, cmap='RdBu_r', annot=True)\n",
    "plt.show()"
   ]
  },
  {
   "cell_type": "markdown",
   "metadata": {},
   "source": [
    "**Já com relação à correlação entre as variáveis numéricas:**\n",
    "\n",
    "Há fraca correlação entre as variáveis numéricas. Afinal, não existe uma relação lógica entre frequência de uma música e a sua identificação ou ainda a identificação do grupo de cover que ela pertence. Ainda assim, pode-se notar uma correlação, mesmo que mínima, entre um cover (work_id) e uma track_id, pois o autor do cover pode ter feito o seu trabalho para mais de uma música diferente."
   ]
  },
  {
   "cell_type": "markdown",
   "metadata": {},
   "source": [
    "# 4. Abordagem 1 - Ensemble: Floresta Aleatória (FA)"
   ]
  },
  {
   "cell_type": "markdown",
   "metadata": {},
   "source": [
    "A primeira etapa para a nossa primeira abordagem é realizar um pré-processamento dos dados segundo os seguintes procedimentos:\n",
    "\n",
    "1. Tratar valores não disponíveis (NaNs).\n",
    "2. Converter colunas datetime para numéricas (coluna Year, apenas).\n",
    "3. Definir os atributos (features) de entrada do modelo.\n",
    "4. Definir as classes de saída do modelo.\n",
    "\n",
    "A segunda etapa consiste em implementar o modelo propriamente dito. Ressalta-se que a floresta aleatória é considerada um método *bagging*.\n",
    "\n",
    "A terceira etapa consiste em implementar um novo modelo utilizando redução de dimensionalidade com a técnica Multiple Correspondence Analysis (continuação do pré-processamento) para verificar se é possível atingir performance e resultados melhores.\n",
    "\n",
    "**Observação:** o atributo **Music_Name:** não será considerado durante a classificação. Do ponto de vista de computacional, esta string é capaz de estourar a memória e derrubar o kernel de execução deste projeto."
   ]
  },
  {
   "cell_type": "markdown",
   "metadata": {},
   "source": [
    "## 4.1. FA - Pré-processamento"
   ]
  },
  {
   "cell_type": "code",
   "execution_count": 155,
   "metadata": {},
   "outputs": [
    {
     "data": {
      "text/plain": [
       "work_id                  0\n",
       "Music_Name               0\n",
       "track_id                 0\n",
       "Artist_Name              0\n",
       "Source                   0\n",
       "Genre_ECAD               0\n",
       "Recording_Version        0\n",
       "Duration                 0\n",
       "Fs                       0\n",
       "MBID                     0\n",
       "ISWC                     0\n",
       "ISRC                     0\n",
       "Country                  0\n",
       "Year                 13449\n",
       "dtype: int64"
      ]
     },
     "execution_count": 155,
     "metadata": {},
     "output_type": "execute_result"
    }
   ],
   "source": [
    "# count NAN values\n",
    "data.isnull().sum()"
   ]
  },
  {
   "cell_type": "code",
   "execution_count": 156,
   "metadata": {},
   "outputs": [
    {
     "name": "stdout",
     "output_type": "stream",
     "text": [
      "Mediana de Year:  2004-01-01 00:00:00\n"
     ]
    }
   ],
   "source": [
    "############## Deal with NANs - Year ##############\n",
    "median_year = data['Year'].quantile(0.5, interpolation='midpoint')\n",
    "print('Mediana de Year: ', median_year)\n",
    "\n",
    "# fill NANs with median\n",
    "data['Year'].fillna(median_year, inplace=True)"
   ]
  },
  {
   "cell_type": "code",
   "execution_count": 157,
   "metadata": {},
   "outputs": [
    {
     "data": {
      "text/plain": [
       "work_id              0\n",
       "Music_Name           0\n",
       "track_id             0\n",
       "Artist_Name          0\n",
       "Source               0\n",
       "Genre_ECAD           0\n",
       "Recording_Version    0\n",
       "Duration             0\n",
       "Fs                   0\n",
       "MBID                 0\n",
       "ISWC                 0\n",
       "ISRC                 0\n",
       "Country              0\n",
       "Year                 0\n",
       "dtype: int64"
      ]
     },
     "execution_count": 157,
     "metadata": {},
     "output_type": "execute_result"
    }
   ],
   "source": [
    "# recheck NAN\n",
    "data.isnull().sum()"
   ]
  },
  {
   "cell_type": "code",
   "execution_count": 158,
   "metadata": {},
   "outputs": [],
   "source": [
    "# convert Year to numeric type\n",
    "data['Year'] = data.Year.astype(str).str[:4]\n",
    "data['Year'] = data['Year'].astype(int)"
   ]
  },
  {
   "cell_type": "code",
   "execution_count": 159,
   "metadata": {},
   "outputs": [
    {
     "data": {
      "text/plain": [
       "(102298, 14)"
      ]
     },
     "execution_count": 159,
     "metadata": {},
     "output_type": "execute_result"
    }
   ],
   "source": [
    "# check the shape of pre-processed data\n",
    "data.shape"
   ]
  },
  {
   "cell_type": "code",
   "execution_count": 160,
   "metadata": {},
   "outputs": [
    {
     "data": {
      "text/html": [
       "<div>\n",
       "<style scoped>\n",
       "    .dataframe tbody tr th:only-of-type {\n",
       "        vertical-align: middle;\n",
       "    }\n",
       "\n",
       "    .dataframe tbody tr th {\n",
       "        vertical-align: top;\n",
       "    }\n",
       "\n",
       "    .dataframe thead th {\n",
       "        text-align: right;\n",
       "    }\n",
       "</style>\n",
       "<table border=\"1\" class=\"dataframe\">\n",
       "  <thead>\n",
       "    <tr style=\"text-align: right;\">\n",
       "      <th></th>\n",
       "      <th>work_id</th>\n",
       "      <th>Music_Name</th>\n",
       "      <th>track_id</th>\n",
       "      <th>Artist_Name</th>\n",
       "      <th>Source</th>\n",
       "      <th>Genre_ECAD</th>\n",
       "      <th>Recording_Version</th>\n",
       "      <th>Duration</th>\n",
       "      <th>Fs</th>\n",
       "      <th>MBID</th>\n",
       "      <th>ISWC</th>\n",
       "      <th>ISRC</th>\n",
       "      <th>Country</th>\n",
       "      <th>Year</th>\n",
       "    </tr>\n",
       "  </thead>\n",
       "  <tbody>\n",
       "    <tr>\n",
       "      <th>1505</th>\n",
       "      <td>626</td>\n",
       "      <td>JESUS SALVADOR</td>\n",
       "      <td>16733</td>\n",
       "      <td>ROBERTO CARLOS</td>\n",
       "      <td>CD</td>\n",
       "      <td>MPB</td>\n",
       "      <td>STUDIO</td>\n",
       "      <td>00:05:40.470000</td>\n",
       "      <td>11025</td>\n",
       "      <td>9d03f63e-e0e0-4fa8-ac04-acb25dded65b</td>\n",
       "      <td>T0390263678</td>\n",
       "      <td>ND</td>\n",
       "      <td>BR</td>\n",
       "      <td>2004</td>\n",
       "    </tr>\n",
       "  </tbody>\n",
       "</table>\n",
       "</div>"
      ],
      "text/plain": [
       "      work_id      Music_Name  track_id     Artist_Name Source Genre_ECAD  \\\n",
       "1505      626  JESUS SALVADOR     16733  ROBERTO CARLOS     CD        MPB   \n",
       "\n",
       "     Recording_Version         Duration     Fs  \\\n",
       "1505            STUDIO  00:05:40.470000  11025   \n",
       "\n",
       "                                      MBID         ISWC ISRC Country  Year  \n",
       "1505  9d03f63e-e0e0-4fa8-ac04-acb25dded65b  T0390263678   ND      BR  2004  "
      ]
     },
     "execution_count": 160,
     "metadata": {},
     "output_type": "execute_result"
    }
   ],
   "source": [
    "# check the pre-processed data\n",
    "data.sample()"
   ]
  },
  {
   "cell_type": "code",
   "execution_count": 161,
   "metadata": {},
   "outputs": [],
   "source": [
    "# define input/output\n",
    "y = data.Artist_Name\n",
    "coverSongIdentification_features = ['Source', 'Genre_ECAD', 'Recording_Version', 'Duration', \n",
    "                                    'MBID', 'ISWC', 'ISRC', 'Country', 'Year']           \n",
    "\n",
    "X = data[coverSongIdentification_features]\n",
    "\n",
    "# split data: train/validation\n",
    "X_train, X_val, y_train, y_val = train_test_split(X, y, random_state=0, train_size=0.75, test_size=0.25)\n",
    "\n",
    "# check data balancing\n",
    "#y_train.value_counts()\n",
    "#y_val.value_counts()\n",
    "\n",
    "# check #examples output\n",
    "#len(y_train)\n",
    "#len(y_val)\n",
    "\n",
    "# pre-processing - pipeline\n",
    "\n",
    "# deal with numerical data\n",
    "numerical_transformer = SimpleImputer(strategy='constant')\n",
    "\n",
    "# deal with categorical data\n",
    "categorical_transformer = Pipeline(steps=[\n",
    "    ('imputer', SimpleImputer(strategy='most_frequent')),\n",
    "    ('onehot', OneHotEncoder(handle_unknown='ignore'))])\n",
    "\n",
    "# make preprocessor to encode X\n",
    "numerical_cols = [cname for cname in X_train.columns if X_train[cname].dtype in ['int64', 'float64']]\n",
    "categorical_cols = [cname for cname in X_train.columns if X_train[cname].dtype in ['object', 'datetime64[ns]']]\n",
    "\n",
    "# encode y\n",
    "y_label = preprocessing.LabelEncoder()\n",
    "y_train = y_label.fit_transform(y_train)\n",
    "y_val = y_label.fit_transform(y_val)\n",
    "\n",
    "preprocessor = ColumnTransformer(\n",
    "    transformers=[\n",
    "        ('num', numerical_transformer, numerical_cols),\n",
    "        ('cat', categorical_transformer, categorical_cols)])"
   ]
  },
  {
   "cell_type": "markdown",
   "metadata": {},
   "source": [
    "## 4.2. FA - Modelagem"
   ]
  },
  {
   "cell_type": "code",
   "execution_count": null,
   "metadata": {},
   "outputs": [
    {
     "name": "stdout",
     "output_type": "stream",
     "text": [
      "Executando...\n"
     ]
    }
   ],
   "source": [
    "print('Executando...')\n",
    "# 'Bagging' for Random Forest\n",
    "# 'Boosting' for Extreme Gradient Boosting\n",
    "doEnsemble('Bagging')"
   ]
  },
  {
   "cell_type": "markdown",
   "metadata": {},
   "source": [
    "## 4.3. FA - Modelagem com Multiple Correspondence Analysis (MCA)"
   ]
  },
  {
   "cell_type": "code",
   "execution_count": null,
   "metadata": {},
   "outputs": [],
   "source": [
    "# 'Bagging' for Random Forest; 'Boosting' for Extreme Gradient Boosting.\n",
    "# n_components -> recommendation: n_components = 1 to 10\n",
    "# X2 = features\n",
    "preds_list = doEnsembleWithMCA('Bagging', 10, X2)\n",
    "preds_list"
   ]
  },
  {
   "cell_type": "markdown",
   "metadata": {},
   "source": [
    "## 4.4. FA - Plotar Componentes da MCA"
   ]
  },
  {
   "cell_type": "code",
   "execution_count": null,
   "metadata": {},
   "outputs": [],
   "source": [
    "# best_n_components = number of MCA components of the best model\n",
    "plotEnsembleWithMCA(3)"
   ]
  },
  {
   "cell_type": "markdown",
   "metadata": {},
   "source": [
    "# 5. Abordagem 2 - Ensemble: Extreme Gradient Boosting"
   ]
  },
  {
   "cell_type": "markdown",
   "metadata": {},
   "source": [
    "A segunda abordagem é uma alternativa para o uso de árvores de decisão. Neste caso, utilizaremos o Extreme Gradient Boosting, que utiliza o método Boosting com gradiente descendente. Este ensemble ajusta os modelos de árvores sequencialmente, em vez de simultaneamente, como é o caso do bagging realizado pelas florestas aleatórias.\n",
    "\n",
    "O pré-processamento é o mesmo do utilizado na abordagem 1."
   ]
  },
  {
   "cell_type": "markdown",
   "metadata": {},
   "source": [
    "## 5.1. Boosting - Modelagem"
   ]
  },
  {
   "cell_type": "code",
   "execution_count": null,
   "metadata": {},
   "outputs": [],
   "source": [
    "# 'Bagging' for Random Forest\n",
    "# 'Boosting' for Extreme Gradient Boosting\n",
    "doEnsemble('Boosting')"
   ]
  },
  {
   "cell_type": "markdown",
   "metadata": {},
   "source": [
    "## 5.2. Boosting com MCA"
   ]
  },
  {
   "cell_type": "code",
   "execution_count": null,
   "metadata": {},
   "outputs": [],
   "source": [
    "# 'Bagging' for Random Forest; 'Boosting' for Extreme Gradient Boosting.\n",
    "# n_components -> recommendation: n_components = 1 to 10\n",
    "# X2 = features\n",
    "preds_list = doEnsembleWithMCA('Boosting', 10, X2)\n",
    "preds_list"
   ]
  },
  {
   "cell_type": "markdown",
   "metadata": {},
   "source": [
    "## 5.3. Boosting - Plotar Componentes da MCA"
   ]
  },
  {
   "cell_type": "code",
   "execution_count": null,
   "metadata": {},
   "outputs": [],
   "source": [
    "# best_n_components = number of MCA components of the best model\n",
    "plotEnsembleWithMCA(2)"
   ]
  },
  {
   "cell_type": "markdown",
   "metadata": {},
   "source": [
    "# 6. Abordagem 3 - Deep Learning (DL)"
   ]
  },
  {
   "cell_type": "markdown",
   "metadata": {},
   "source": [
    "**DOING...**\n",
    "\n",
    "Em ambientes de produção pode não ser possível obter os dados sobre um cover como: gênero, ano, país, versão de gravação, etc. Neste caso, convém extrair características intrínsecas da música. Neste sentido, podemos extrair diversos componentes sonoros, como a onda sonora, de uma música e alimentar uma rede neural profunda."
   ]
  },
  {
   "cell_type": "code",
   "execution_count": null,
   "metadata": {},
   "outputs": [],
   "source": [
    "#TODO: verificar se a classe de saída está balanceada data['Artist_Name'].value_counts()"
   ]
  },
  {
   "cell_type": "code",
   "execution_count": null,
   "metadata": {},
   "outputs": [],
   "source": [
    "#TODO: amostra de uma música (dentro da seção 2.)"
   ]
  },
  {
   "cell_type": "markdown",
   "metadata": {},
   "source": [
    "# 998. Funções Utilizadas"
   ]
  },
  {
   "cell_type": "code",
   "execution_count": null,
   "metadata": {},
   "outputs": [],
   "source": [
    "# Perform data classification with ensemble\n",
    "# @method:  'Bagging' for Random Forest or 'Boosting' for Extreme Gradient Boosting\n",
    "def doEnsemble(method):\n",
    "    # choose model to define\n",
    "    if method == 'Bagging':\n",
    "        model = RandomForestRegressor(n_estimators=5, n_jobs=4, random_state=0) # my processor has 4 cores\n",
    "    elif method == 'Boosting':\n",
    "        model = XGBRegressor(n_estimators=10, learning_rate=0.05, n_jobs=4, random_state=0) # my processor has 4 cores\n",
    "\n",
    "    # create a pipeline for the model\n",
    "    my_pipeline = Pipeline(steps=[('preprocessor', preprocessor), ('model', model)])\n",
    "\n",
    "    # fit the model\n",
    "    my_pipeline.fit(X_train, y_train)\n",
    "\n",
    "    # predict validation data\n",
    "    val_preds = my_pipeline.predict(X_val)\n",
    "\n",
    "    # evaluate the model with MAE (measures accuracy for continuous variables)\n",
    "    mae = mean_absolute_error(y_val, val_preds)\n",
    "    print('Erro médio absoluto = %.2f' % mae)\n",
    "\n",
    "    # evaluate the model with RMSE (measures accuracy for continuous variables)\n",
    "    rmse = mean_squared_error(y_val, val_preds, squared=False)\n",
    "    print('Raiz do Erro Quadrático Médio = %.2f' % rmse)\n",
    "\n",
    "#============================================================================================\n",
    "\n",
    "# Perform data classification with ensemble + MCA for dimensionality reduction \n",
    "# @method: 'Bagging' for Random Forest or 'Boosting' for Extreme Gradient Boosting\n",
    "# @n_components: number of MCA components. Recommendation: n_components = 1 to 10\n",
    "# @X2: features of the model\n",
    "def doEnsembleWithMCA(method, n_components, X2):\n",
    "    # split data: train/validation\n",
    "    X_train_mca, X_val_mca, y_train_mca, y_val_mca = train_test_split(X2, y, random_state=0, train_size=0.75, test_size=0.25)\n",
    "\n",
    "    MCA_N_COMPONENTS = n_components\n",
    "    preds_list = list()\n",
    "\n",
    "    for i in range(1, MCA_N_COMPONENTS+1):\n",
    "        mca = prince.MCA(random_state=0, n_components=i)\n",
    "        mca2 = prince.MCA(random_state=0, n_components=i)\n",
    "\n",
    "        # encode X for train\n",
    "        mca_train = mca.fit(X_train_mca)\n",
    "        mca_train = mca.transform(X_train_mca)\n",
    "\n",
    "        # encode X for validation\n",
    "        mca_val = mca2.fit(X_val_mca)\n",
    "        mca_val = mca2.transform(X_val_mca)\n",
    "\n",
    "        # encode y for train\n",
    "        y_label_mca = preprocessing.LabelEncoder()\n",
    "        y_train_mca = y_label_mca.fit_transform(y_train_mca)\n",
    "\n",
    "        # encode y for validation\n",
    "        y_val_mca = y_label_mca.fit_transform(y_val_mca)\n",
    "\n",
    "        if method == 'Bagging':\n",
    "            model = RandomForestRegressor(n_estimators=5, n_jobs=4, random_state=0) # my processor has 4 cores\n",
    "        elif method == 'Boosting':\n",
    "            model = XGBRegressor(n_estimators=10, learning_rate=0.05, n_jobs=4, random_state=0) # my processor has 4 cores\n",
    "\n",
    "        # fit the model\n",
    "        model.fit(mca_train, y_train_mca)\n",
    "\n",
    "        # predict with the model\n",
    "        val_preds_mca = model.predict(mca_val)\n",
    "\n",
    "        # calculate MAE\n",
    "        mae = mean_absolute_error(y_val_mca, val_preds_mca)\n",
    "        rmse = mean_squared_error(y_val_mca, val_preds_mca, squared=False)\n",
    "\n",
    "        # update predictions list (for each mca components)\n",
    "        preds_list_text = 'MCA with %i components -> MAE = %.2f; RMSE = %.2f' % (i, mae, rmse)\n",
    "        preds_list.append(preds_list_text)\n",
    "\n",
    "    return preds_list\n",
    "\n",
    "#============================================================================================\n",
    "\n",
    "# Plot (2-dimensional) MCA coordinates\n",
    "# @best_n_components: number of MCA components of the best model\n",
    "def plotEnsembleWithMCA(best_n_components):\n",
    "    mca_best = prince.MCA(random_state=0, n_components=best_n_components)\n",
    "\n",
    "    mca_val = mca_best.fit(X_val_mca)\n",
    "    mca_val = mca_best.transform(X_val_mca)\n",
    "\n",
    "    ax = mca_best.plot_coordinates(X=X_val_mca)\n",
    "    ax.get_figure()"
   ]
  },
  {
   "cell_type": "markdown",
   "metadata": {},
   "source": [
    "# 999. Referências\n",
    "\n",
    "1. Dirceu Silva, Atila Xavier, Edgard Moraes, Marco Grivet and Fernando Perdigão. CoversBR: A Large Dataset for Cover Song Identification. https://github.com/SPLab-IT/CoversBR"
   ]
  }
 ],
 "metadata": {
  "kernelspec": {
   "display_name": "Python 3",
   "language": "python",
   "name": "python3"
  },
  "language_info": {
   "codemirror_mode": {
    "name": "ipython",
    "version": 3
   },
   "file_extension": ".py",
   "mimetype": "text/x-python",
   "name": "python",
   "nbconvert_exporter": "python",
   "pygments_lexer": "ipython3",
   "version": "3.8.8"
  }
 },
 "nbformat": 4,
 "nbformat_minor": 4
}
