{
 "cells": [
  {
   "cell_type": "markdown",
   "metadata": {},
   "source": [
    "## Projeto em construção..."
   ]
  },
  {
   "cell_type": "markdown",
   "metadata": {},
   "source": [
    "# 1. Importação das Bibliotecas"
   ]
  },
  {
   "cell_type": "code",
   "execution_count": 242,
   "metadata": {},
   "outputs": [],
   "source": [
    "import pandas as pd\n",
    "import numpy as np\n",
    "import datetime as dt\n",
    "import matplotlib.pyplot as plt\n",
    "import seaborn as sns\n",
    "sns.set_style('darkgrid')"
   ]
  },
  {
   "cell_type": "markdown",
   "metadata": {},
   "source": [
    "# 2. Preparação dos Dados"
   ]
  },
  {
   "cell_type": "code",
   "execution_count": 243,
   "metadata": {},
   "outputs": [
    {
     "data": {
      "text/html": [
       "<div>\n",
       "<style scoped>\n",
       "    .dataframe tbody tr th:only-of-type {\n",
       "        vertical-align: middle;\n",
       "    }\n",
       "\n",
       "    .dataframe tbody tr th {\n",
       "        vertical-align: top;\n",
       "    }\n",
       "\n",
       "    .dataframe thead th {\n",
       "        text-align: right;\n",
       "    }\n",
       "</style>\n",
       "<table border=\"1\" class=\"dataframe\">\n",
       "  <thead>\n",
       "    <tr style=\"text-align: right;\">\n",
       "      <th></th>\n",
       "      <th>work_id</th>\n",
       "      <th>Music_Name</th>\n",
       "      <th>track_id</th>\n",
       "      <th>Artist_Name</th>\n",
       "      <th>Source</th>\n",
       "      <th>Genre_ECAD</th>\n",
       "      <th>Recording_Version</th>\n",
       "      <th>Duration</th>\n",
       "      <th>Fs</th>\n",
       "      <th>MBID</th>\n",
       "      <th>ISWC</th>\n",
       "      <th>ISRC</th>\n",
       "      <th>Country</th>\n",
       "      <th>Year</th>\n",
       "    </tr>\n",
       "  </thead>\n",
       "  <tbody>\n",
       "    <tr>\n",
       "      <th>0</th>\n",
       "      <td>1</td>\n",
       "      <td>ADMIRAVEL GADO NOVO</td>\n",
       "      <td>19629</td>\n",
       "      <td>CASSIA ELLER</td>\n",
       "      <td>CD</td>\n",
       "      <td>ND</td>\n",
       "      <td>STUDIO</td>\n",
       "      <td>00:04:35.07</td>\n",
       "      <td>11025</td>\n",
       "      <td>8311499a-4e40-4afc-a826-6725d8454851</td>\n",
       "      <td>T0391535844</td>\n",
       "      <td>BRPGD9600090</td>\n",
       "      <td>BR</td>\n",
       "      <td>96</td>\n",
       "    </tr>\n",
       "    <tr>\n",
       "      <th>1</th>\n",
       "      <td>1</td>\n",
       "      <td>ADMIRAVEL GADO NOVO</td>\n",
       "      <td>23880</td>\n",
       "      <td>ZE RAMALHO</td>\n",
       "      <td>CD</td>\n",
       "      <td>ND</td>\n",
       "      <td>STUDIO</td>\n",
       "      <td>00:05:06.69</td>\n",
       "      <td>11025</td>\n",
       "      <td>1ec54f25-7525-480a-b7fa-4c79fc2ee05f</td>\n",
       "      <td>T0391535844</td>\n",
       "      <td>BRBMG9700282</td>\n",
       "      <td>BR</td>\n",
       "      <td>97</td>\n",
       "    </tr>\n",
       "    <tr>\n",
       "      <th>2</th>\n",
       "      <td>1</td>\n",
       "      <td>ADMIRAVEL GADO NOVO</td>\n",
       "      <td>579191</td>\n",
       "      <td>BIQUINI CAVADAO</td>\n",
       "      <td>IMPORTACAO</td>\n",
       "      <td>ND</td>\n",
       "      <td>STUDIO</td>\n",
       "      <td>00:04:21.77</td>\n",
       "      <td>11025</td>\n",
       "      <td>880622cf-96fd-4211-850f-9f914a5244c6</td>\n",
       "      <td>T0391535844</td>\n",
       "      <td>BRSME9400075</td>\n",
       "      <td>BR</td>\n",
       "      <td>94</td>\n",
       "    </tr>\n",
       "    <tr>\n",
       "      <th>3</th>\n",
       "      <td>1</td>\n",
       "      <td>ADMIRAVEL GADO NOVO</td>\n",
       "      <td>705173</td>\n",
       "      <td>OSWALDO MONTENEGRO</td>\n",
       "      <td>CD</td>\n",
       "      <td>ND</td>\n",
       "      <td>STUDIO</td>\n",
       "      <td>00:04:57.23</td>\n",
       "      <td>11025</td>\n",
       "      <td>23d08080-8113-47ea-b712-65acf448252f</td>\n",
       "      <td>T0391535844</td>\n",
       "      <td>BRABZ0300234</td>\n",
       "      <td>BR</td>\n",
       "      <td>03</td>\n",
       "    </tr>\n",
       "    <tr>\n",
       "      <th>4</th>\n",
       "      <td>1</td>\n",
       "      <td>ADMIRAVEL GADO NOVO</td>\n",
       "      <td>2164817</td>\n",
       "      <td>CASSIA ELLER</td>\n",
       "      <td>ND</td>\n",
       "      <td>ND</td>\n",
       "      <td>STUDIO</td>\n",
       "      <td>00:02:51.96</td>\n",
       "      <td>11025</td>\n",
       "      <td>ND</td>\n",
       "      <td>T0391535844</td>\n",
       "      <td>BRMCA9000102</td>\n",
       "      <td>BR</td>\n",
       "      <td>90</td>\n",
       "    </tr>\n",
       "  </tbody>\n",
       "</table>\n",
       "</div>"
      ],
      "text/plain": [
       "   work_id           Music_Name  track_id         Artist_Name      Source  \\\n",
       "0        1  ADMIRAVEL GADO NOVO     19629        CASSIA ELLER          CD   \n",
       "1        1  ADMIRAVEL GADO NOVO     23880          ZE RAMALHO          CD   \n",
       "2        1  ADMIRAVEL GADO NOVO    579191     BIQUINI CAVADAO  IMPORTACAO   \n",
       "3        1  ADMIRAVEL GADO NOVO    705173  OSWALDO MONTENEGRO          CD   \n",
       "4        1  ADMIRAVEL GADO NOVO   2164817        CASSIA ELLER          ND   \n",
       "\n",
       "  Genre_ECAD Recording_Version     Duration     Fs  \\\n",
       "0         ND            STUDIO  00:04:35.07  11025   \n",
       "1         ND            STUDIO  00:05:06.69  11025   \n",
       "2         ND            STUDIO  00:04:21.77  11025   \n",
       "3         ND            STUDIO  00:04:57.23  11025   \n",
       "4         ND            STUDIO  00:02:51.96  11025   \n",
       "\n",
       "                                   MBID         ISWC          ISRC Country  \\\n",
       "0  8311499a-4e40-4afc-a826-6725d8454851  T0391535844  BRPGD9600090      BR   \n",
       "1  1ec54f25-7525-480a-b7fa-4c79fc2ee05f  T0391535844  BRBMG9700282      BR   \n",
       "2  880622cf-96fd-4211-850f-9f914a5244c6  T0391535844  BRSME9400075      BR   \n",
       "3  23d08080-8113-47ea-b712-65acf448252f  T0391535844  BRABZ0300234      BR   \n",
       "4                                    ND  T0391535844  BRMCA9000102      BR   \n",
       "\n",
       "  Year  \n",
       "0   96  \n",
       "1   97  \n",
       "2   94  \n",
       "3   03  \n",
       "4   90  "
      ]
     },
     "execution_count": 243,
     "metadata": {},
     "output_type": "execute_result"
    }
   ],
   "source": [
    "# load the data\n",
    "data = pd.read_csv('./CoversBR_metadata.csv', delimiter=';')\n",
    "data.head()"
   ]
  },
  {
   "cell_type": "markdown",
   "metadata": {},
   "source": [
    "# 3. Análise Exploratória de Dados (AED)"
   ]
  },
  {
   "cell_type": "code",
   "execution_count": 244,
   "metadata": {},
   "outputs": [
    {
     "data": {
      "text/plain": [
       "(102298, 14)"
      ]
     },
     "execution_count": 244,
     "metadata": {},
     "output_type": "execute_result"
    }
   ],
   "source": [
    "# 1. #rows vs. #columns\n",
    "data.shape"
   ]
  },
  {
   "cell_type": "markdown",
   "metadata": {},
   "source": [
    "**Temos um dataset com 102.298 ocorrências (exemplos) e 14 características/features (colunas), sendo uma delas, o rótulo/label (saída esperada).**"
   ]
  },
  {
   "cell_type": "code",
   "execution_count": 245,
   "metadata": {},
   "outputs": [
    {
     "data": {
      "text/plain": [
       "work_id               int64\n",
       "Music_Name           object\n",
       "track_id              int64\n",
       "Artist_Name          object\n",
       "Source               object\n",
       "Genre_ECAD           object\n",
       "Recording_Version    object\n",
       "Duration             object\n",
       "Fs                    int64\n",
       "MBID                 object\n",
       "ISWC                 object\n",
       "ISRC                 object\n",
       "Country              object\n",
       "Year                 object\n",
       "dtype: object"
      ]
     },
     "execution_count": 245,
     "metadata": {},
     "output_type": "execute_result"
    }
   ],
   "source": [
    "# 2. data types\n",
    "data.dtypes"
   ]
  },
  {
   "cell_type": "markdown",
   "metadata": {},
   "source": [
    "**Artist_Name é o nosso label; Duration e Year, que foram obtidos como object, serão convertidos para o tipo de dado correspondente ao tempo de música e ao ano, respectivamente.**"
   ]
  },
  {
   "cell_type": "code",
   "execution_count": 246,
   "metadata": {},
   "outputs": [
    {
     "data": {
      "text/html": [
       "<div>\n",
       "<style scoped>\n",
       "    .dataframe tbody tr th:only-of-type {\n",
       "        vertical-align: middle;\n",
       "    }\n",
       "\n",
       "    .dataframe tbody tr th {\n",
       "        vertical-align: top;\n",
       "    }\n",
       "\n",
       "    .dataframe thead th {\n",
       "        text-align: right;\n",
       "    }\n",
       "</style>\n",
       "<table border=\"1\" class=\"dataframe\">\n",
       "  <thead>\n",
       "    <tr style=\"text-align: right;\">\n",
       "      <th></th>\n",
       "      <th>work_id</th>\n",
       "      <th>Music_Name</th>\n",
       "      <th>track_id</th>\n",
       "      <th>Artist_Name</th>\n",
       "      <th>Source</th>\n",
       "      <th>Genre_ECAD</th>\n",
       "      <th>Recording_Version</th>\n",
       "      <th>Duration</th>\n",
       "      <th>Fs</th>\n",
       "      <th>MBID</th>\n",
       "      <th>ISWC</th>\n",
       "      <th>ISRC</th>\n",
       "      <th>Country</th>\n",
       "      <th>Year</th>\n",
       "    </tr>\n",
       "  </thead>\n",
       "  <tbody>\n",
       "    <tr>\n",
       "      <th>93125</th>\n",
       "      <td>15486279</td>\n",
       "      <td>WATERFALLS</td>\n",
       "      <td>3524440</td>\n",
       "      <td>TLC</td>\n",
       "      <td>IMPORTACAO</td>\n",
       "      <td>ND</td>\n",
       "      <td>STUDIO</td>\n",
       "      <td>00:04:39.330000</td>\n",
       "      <td>11025</td>\n",
       "      <td>79d5366e-f125-4053-8802-2f85903bec17</td>\n",
       "      <td>T0702072932</td>\n",
       "      <td>USLIC0600831</td>\n",
       "      <td>US</td>\n",
       "      <td>2006-01-01</td>\n",
       "    </tr>\n",
       "    <tr>\n",
       "      <th>86789</th>\n",
       "      <td>13081110</td>\n",
       "      <td>FREAK ON A LEASH</td>\n",
       "      <td>3471643</td>\n",
       "      <td>KORN</td>\n",
       "      <td>IMPORTACAO</td>\n",
       "      <td>ND</td>\n",
       "      <td>STUDIO</td>\n",
       "      <td>00:04:26.080000</td>\n",
       "      <td>11025</td>\n",
       "      <td>b1ca55a0-4380-477f-a99b-f897f84d3d35</td>\n",
       "      <td>T9057711758</td>\n",
       "      <td>USSM19805391</td>\n",
       "      <td>US</td>\n",
       "      <td>1998-01-01</td>\n",
       "    </tr>\n",
       "    <tr>\n",
       "      <th>97639</th>\n",
       "      <td>18000647</td>\n",
       "      <td>QUEM ENSINOU FUI EU</td>\n",
       "      <td>17501384</td>\n",
       "      <td>MAIARA E MARAISA</td>\n",
       "      <td>CAPTACAO RADIO</td>\n",
       "      <td>ND</td>\n",
       "      <td>STUDIO</td>\n",
       "      <td>00:02:22</td>\n",
       "      <td>11025</td>\n",
       "      <td>ND</td>\n",
       "      <td>T0402704066</td>\n",
       "      <td>BRWNV1800200</td>\n",
       "      <td>BR</td>\n",
       "      <td>2018-01-01</td>\n",
       "    </tr>\n",
       "    <tr>\n",
       "      <th>77460</th>\n",
       "      <td>8014704</td>\n",
       "      <td>FICA</td>\n",
       "      <td>1451311</td>\n",
       "      <td>CHICO BUARQUE</td>\n",
       "      <td>CD</td>\n",
       "      <td>ND</td>\n",
       "      <td>STUDIO</td>\n",
       "      <td>00:02:26.850000</td>\n",
       "      <td>11025</td>\n",
       "      <td>263f35e5-2850-4e62-8bbe-8c83962bfa85</td>\n",
       "      <td>T0032720265</td>\n",
       "      <td>BRSGL6700004</td>\n",
       "      <td>BR</td>\n",
       "      <td>1967-01-01</td>\n",
       "    </tr>\n",
       "    <tr>\n",
       "      <th>12545</th>\n",
       "      <td>6930</td>\n",
       "      <td>LUCY IN THE SKY WITH DIAMONDS</td>\n",
       "      <td>1880113</td>\n",
       "      <td>RITA LEE JONES</td>\n",
       "      <td>IMPORTACAO</td>\n",
       "      <td>ND</td>\n",
       "      <td>LIVE (AO VIVO)</td>\n",
       "      <td>00:05:14.010000</td>\n",
       "      <td>11025</td>\n",
       "      <td>ND</td>\n",
       "      <td>T0104345018</td>\n",
       "      <td>BREMI0400929</td>\n",
       "      <td>BR</td>\n",
       "      <td>2004-01-01</td>\n",
       "    </tr>\n",
       "  </tbody>\n",
       "</table>\n",
       "</div>"
      ],
      "text/plain": [
       "        work_id                     Music_Name  track_id       Artist_Name  \\\n",
       "93125  15486279                     WATERFALLS   3524440               TLC   \n",
       "86789  13081110               FREAK ON A LEASH   3471643              KORN   \n",
       "97639  18000647            QUEM ENSINOU FUI EU  17501384  MAIARA E MARAISA   \n",
       "77460   8014704                           FICA   1451311     CHICO BUARQUE   \n",
       "12545      6930  LUCY IN THE SKY WITH DIAMONDS   1880113    RITA LEE JONES   \n",
       "\n",
       "               Source Genre_ECAD Recording_Version         Duration     Fs  \\\n",
       "93125      IMPORTACAO         ND            STUDIO  00:04:39.330000  11025   \n",
       "86789      IMPORTACAO         ND            STUDIO  00:04:26.080000  11025   \n",
       "97639  CAPTACAO RADIO         ND            STUDIO         00:02:22  11025   \n",
       "77460              CD         ND            STUDIO  00:02:26.850000  11025   \n",
       "12545      IMPORTACAO         ND    LIVE (AO VIVO)  00:05:14.010000  11025   \n",
       "\n",
       "                                       MBID         ISWC          ISRC  \\\n",
       "93125  79d5366e-f125-4053-8802-2f85903bec17  T0702072932  USLIC0600831   \n",
       "86789  b1ca55a0-4380-477f-a99b-f897f84d3d35  T9057711758  USSM19805391   \n",
       "97639                                    ND  T0402704066  BRWNV1800200   \n",
       "77460  263f35e5-2850-4e62-8bbe-8c83962bfa85  T0032720265  BRSGL6700004   \n",
       "12545                                    ND  T0104345018  BREMI0400929   \n",
       "\n",
       "      Country       Year  \n",
       "93125      US 2006-01-01  \n",
       "86789      US 1998-01-01  \n",
       "97639      BR 2018-01-01  \n",
       "77460      BR 1967-01-01  \n",
       "12545      BR 2004-01-01  "
      ]
     },
     "execution_count": 246,
     "metadata": {},
     "output_type": "execute_result"
    }
   ],
   "source": [
    "# 3. convert 'Duration' and Year' to datetime and show a few rows\n",
    "data['Duration'] = pd.to_datetime(data['Duration'], format='%H:%M:%S.%f', errors='coerce').dt.time # NaT for invalid Duration values\n",
    "data['Year'] = pd.to_datetime(data['Year'], format='%y', errors='coerce') # NaT for invalid Year values\n",
    "\n",
    "data['Year'] = data['Year'].mask(data['Year'].dt.year > 2020, \n",
    "                                         data['Year'] - pd.offsets.DateOffset(years=100)) # Year goes up to 2020\n",
    "\n",
    "\n",
    "data.sample(5)"
   ]
  },
  {
   "cell_type": "markdown",
   "metadata": {},
   "source": [
    "**Existem exemplos com valores inválidos/missing values/em branco/não preenchidos/NaNs/NaTs, que poderão ser tratados nos próximos passos.**"
   ]
  },
  {
   "cell_type": "code",
   "execution_count": 247,
   "metadata": {},
   "outputs": [
    {
     "data": {
      "image/png": "[encoded data removed]",
      "text/plain": [
       "<Figure size 1008x1008 with 4 Axes>"
      ]
     },
     "metadata": {},
     "output_type": "display_data"
    }
   ],
   "source": [
    "# 4. plot each numeric feature ----- *********userful to detect outliers*********\n",
    "data.hist(figsize=(14,14), xrot=45)\n",
    "plt.show()"
   ]
  },
  {
   "cell_type": "markdown",
   "metadata": {},
   "source": [
    "**3 features são numéricas:**\n",
    "1. Fs: frequência sonora da música (indo de ~11k até 16k);\n",
    "2. track_id: número identificador da música;\n",
    "3. work_id: número identificador do grupo de cover."
   ]
  },
  {
   "cell_type": "code",
   "execution_count": 248,
   "metadata": {},
   "outputs": [
    {
     "data": {
      "text/html": [
       "<div>\n",
       "<style scoped>\n",
       "    .dataframe tbody tr th:only-of-type {\n",
       "        vertical-align: middle;\n",
       "    }\n",
       "\n",
       "    .dataframe tbody tr th {\n",
       "        vertical-align: top;\n",
       "    }\n",
       "\n",
       "    .dataframe thead th {\n",
       "        text-align: right;\n",
       "    }\n",
       "</style>\n",
       "<table border=\"1\" class=\"dataframe\">\n",
       "  <thead>\n",
       "    <tr style=\"text-align: right;\">\n",
       "      <th></th>\n",
       "      <th>count</th>\n",
       "      <th>mean</th>\n",
       "      <th>std</th>\n",
       "      <th>min</th>\n",
       "      <th>25%</th>\n",
       "      <th>50%</th>\n",
       "      <th>75%</th>\n",
       "      <th>max</th>\n",
       "    </tr>\n",
       "  </thead>\n",
       "  <tbody>\n",
       "    <tr>\n",
       "      <th>work_id</th>\n",
       "      <td>102298.0</td>\n",
       "      <td>5.165103e+06</td>\n",
       "      <td>6.015939e+06</td>\n",
       "      <td>1.0</td>\n",
       "      <td>40253.00</td>\n",
       "      <td>2835847.0</td>\n",
       "      <td>7788684.00</td>\n",
       "      <td>24998809.0</td>\n",
       "    </tr>\n",
       "    <tr>\n",
       "      <th>track_id</th>\n",
       "      <td>102298.0</td>\n",
       "      <td>4.452356e+06</td>\n",
       "      <td>4.886335e+06</td>\n",
       "      <td>15.0</td>\n",
       "      <td>1301414.25</td>\n",
       "      <td>2116795.0</td>\n",
       "      <td>6001035.75</td>\n",
       "      <td>20563324.0</td>\n",
       "    </tr>\n",
       "    <tr>\n",
       "      <th>Fs</th>\n",
       "      <td>102298.0</td>\n",
       "      <td>1.102763e+04</td>\n",
       "      <td>1.142731e+02</td>\n",
       "      <td>11025.0</td>\n",
       "      <td>11025.00</td>\n",
       "      <td>11025.0</td>\n",
       "      <td>11025.00</td>\n",
       "      <td>16000.0</td>\n",
       "    </tr>\n",
       "  </tbody>\n",
       "</table>\n",
       "</div>"
      ],
      "text/plain": [
       "             count          mean           std      min         25%  \\\n",
       "work_id   102298.0  5.165103e+06  6.015939e+06      1.0    40253.00   \n",
       "track_id  102298.0  4.452356e+06  4.886335e+06     15.0  1301414.25   \n",
       "Fs        102298.0  1.102763e+04  1.142731e+02  11025.0    11025.00   \n",
       "\n",
       "                50%         75%         max  \n",
       "work_id   2835847.0  7788684.00  24998809.0  \n",
       "track_id  2116795.0  6001035.75  20563324.0  \n",
       "Fs          11025.0    11025.00     16000.0  "
      ]
     },
     "execution_count": 248,
     "metadata": {},
     "output_type": "execute_result"
    }
   ],
   "source": [
    "# 5. summary statistics of the numerical features\n",
    "data.describe().T"
   ]
  },
  {
   "cell_type": "markdown",
   "metadata": {},
   "source": [
    "**As medidas descritas sobre as features numéricas nos mostram:**\n",
    "\n",
    "1. Fs: o espectro de ondas sonoras vai de 11.025,0 a 16.000,0, sendo pelo menos 75% decaindo sobre um Fs de 11.025; todos os exemplos aparentam estar preenchidos corretamente (102.298). \n",
    "2. track_id: todos os exemplos estão preenchidos nas 102.298 linhas (exemplos), começando em 15 e terminando em 20.563.324.\n",
    "3. work_id: todos os exemplos estão preenchidos nas 102.298 linhas, começando em 1 e terminando em 24.998.809.\n",
    "\n",
    "Sabe-se que a relação entre as músicas e os grupos de covers é a seguinte: existem 102.298 músicas, distribuídas em 26.366 grupos de covers. Isso implica que os ids dessas features não possuem uma relação unívoca, ou seja, a primeira track (música) não corresponde ao id 1, assim como o último work (grupo de cover) não corresponde ao id 26.366. Talvez, os ids tenham sido gerados de forma aleatória."
   ]
  },
  {
   "cell_type": "code",
   "execution_count": 249,
   "metadata": {},
   "outputs": [
    {
     "data": {
      "text/html": [
       "<div>\n",
       "<style scoped>\n",
       "    .dataframe tbody tr th:only-of-type {\n",
       "        vertical-align: middle;\n",
       "    }\n",
       "\n",
       "    .dataframe tbody tr th {\n",
       "        vertical-align: top;\n",
       "    }\n",
       "\n",
       "    .dataframe thead th {\n",
       "        text-align: right;\n",
       "    }\n",
       "</style>\n",
       "<table border=\"1\" class=\"dataframe\">\n",
       "  <thead>\n",
       "    <tr style=\"text-align: right;\">\n",
       "      <th></th>\n",
       "      <th>Music_Name</th>\n",
       "      <th>Artist_Name</th>\n",
       "      <th>Source</th>\n",
       "      <th>Genre_ECAD</th>\n",
       "      <th>Recording_Version</th>\n",
       "      <th>Duration</th>\n",
       "      <th>MBID</th>\n",
       "      <th>ISWC</th>\n",
       "      <th>ISRC</th>\n",
       "      <th>Country</th>\n",
       "      <th>Year</th>\n",
       "    </tr>\n",
       "  </thead>\n",
       "  <tbody>\n",
       "    <tr>\n",
       "      <th>count</th>\n",
       "      <td>102298</td>\n",
       "      <td>102298</td>\n",
       "      <td>102298</td>\n",
       "      <td>102298</td>\n",
       "      <td>102298</td>\n",
       "      <td>102298</td>\n",
       "      <td>102298</td>\n",
       "      <td>102298</td>\n",
       "      <td>102298</td>\n",
       "      <td>102298</td>\n",
       "      <td>88849</td>\n",
       "    </tr>\n",
       "    <tr>\n",
       "      <th>unique</th>\n",
       "      <td>23776</td>\n",
       "      <td>23432</td>\n",
       "      <td>4</td>\n",
       "      <td>48</td>\n",
       "      <td>38</td>\n",
       "      <td>25752</td>\n",
       "      <td>30722</td>\n",
       "      <td>15889</td>\n",
       "      <td>88863</td>\n",
       "      <td>51</td>\n",
       "      <td>97</td>\n",
       "    </tr>\n",
       "    <tr>\n",
       "      <th>top</th>\n",
       "      <td>1. ALLEGRO</td>\n",
       "      <td>ELVIS PRESLEY</td>\n",
       "      <td>IMPORTACAO</td>\n",
       "      <td>ND</td>\n",
       "      <td>STUDIO</td>\n",
       "      <td>00:03:00</td>\n",
       "      <td>ND</td>\n",
       "      <td>ND</td>\n",
       "      <td>ND</td>\n",
       "      <td>BR</td>\n",
       "      <td>2003-01-01 00:00:00</td>\n",
       "    </tr>\n",
       "    <tr>\n",
       "      <th>freq</th>\n",
       "      <td>183</td>\n",
       "      <td>932</td>\n",
       "      <td>44623</td>\n",
       "      <td>98128</td>\n",
       "      <td>80369</td>\n",
       "      <td>306</td>\n",
       "      <td>51488</td>\n",
       "      <td>34976</td>\n",
       "      <td>13372</td>\n",
       "      <td>41063</td>\n",
       "      <td>4360</td>\n",
       "    </tr>\n",
       "    <tr>\n",
       "      <th>first</th>\n",
       "      <td>NaN</td>\n",
       "      <td>NaN</td>\n",
       "      <td>NaN</td>\n",
       "      <td>NaN</td>\n",
       "      <td>NaN</td>\n",
       "      <td>NaN</td>\n",
       "      <td>NaN</td>\n",
       "      <td>NaN</td>\n",
       "      <td>NaN</td>\n",
       "      <td>NaN</td>\n",
       "      <td>1921-01-01 00:00:00</td>\n",
       "    </tr>\n",
       "    <tr>\n",
       "      <th>last</th>\n",
       "      <td>NaN</td>\n",
       "      <td>NaN</td>\n",
       "      <td>NaN</td>\n",
       "      <td>NaN</td>\n",
       "      <td>NaN</td>\n",
       "      <td>NaN</td>\n",
       "      <td>NaN</td>\n",
       "      <td>NaN</td>\n",
       "      <td>NaN</td>\n",
       "      <td>NaN</td>\n",
       "      <td>2020-01-01 00:00:00</td>\n",
       "    </tr>\n",
       "  </tbody>\n",
       "</table>\n",
       "</div>"
      ],
      "text/plain": [
       "        Music_Name    Artist_Name      Source Genre_ECAD Recording_Version  \\\n",
       "count       102298         102298      102298     102298            102298   \n",
       "unique       23776          23432           4         48                38   \n",
       "top     1. ALLEGRO  ELVIS PRESLEY  IMPORTACAO         ND            STUDIO   \n",
       "freq           183            932       44623      98128             80369   \n",
       "first          NaN            NaN         NaN        NaN               NaN   \n",
       "last           NaN            NaN         NaN        NaN               NaN   \n",
       "\n",
       "        Duration    MBID    ISWC    ISRC Country                 Year  \n",
       "count     102298  102298  102298  102298  102298                88849  \n",
       "unique     25752   30722   15889   88863      51                   97  \n",
       "top     00:03:00      ND      ND      ND      BR  2003-01-01 00:00:00  \n",
       "freq         306   51488   34976   13372   41063                 4360  \n",
       "first        NaN     NaN     NaN     NaN     NaN  1921-01-01 00:00:00  \n",
       "last         NaN     NaN     NaN     NaN     NaN  2020-01-01 00:00:00  "
      ]
     },
     "execution_count": 249,
     "metadata": {},
     "output_type": "execute_result"
    }
   ],
   "source": [
    "# 6. summary statistics of the categorical features\n",
    "data.describe(include=['object', 'datetime']) # first and last values refers just to Year (datetime column)"
   ]
  },
  {
   "cell_type": "markdown",
   "metadata": {},
   "source": [
    "**As demais 11 features são categóricas (incluindo uma, Year, de data):**\n",
    "\n",
    "1. Music_Name: possui diversos valores repetidos, mas todos os exemplos estão preenchidos. A música com cover mais comum possui 183 entradas e contém em seu nome o texto \"1. ALLEGRO\".\n",
    "2. Artist_Name: existem aproximadamente 23 mil artistas diferentes. O cover mais comum é do cantor Elvis Presley, com 932 entradas.\n",
    "3. Source: há somente 4 fontes de gravação dos covers, sendo a mais comum - importação.\n",
    "4. Genre_ECAD: existem 48 gêneros musicais distintos (baseados no Escritório Central de Arrecadação e Distribuição - ECAD).\n",
    "5. Recording_Version: existem 38 versões de gravação diferentes, sendo a de estúdio, a mais comum (80.369 entradas).\n",
    "6. Duration: o tempo mais comum das músicas é o de 3 minutos de duração. Este tempo está relacionado com as conhecidas \"versões de rádio\".\n",
    "7. MBID: da mesma forma que há músicas que se repetem, há diversos exemplos com o identificador MusicBrainz (MBID) repetido.\n",
    "8. ISWC: este ID único aparece repetido (diversas vezes), porque há registros da mesma música (várias vezes) no dataset.\n",
    "9. ISRC: este ID, que identifica unicamente uma gravação, pode aparecer repetido devido a mais de uma entrada do mesmo cover no dataset.\n",
    "10. Country: há músicas de diversos países, sendo o Brasil o país com maior número de registros (41.063). Ainda não se pode afirmar se são 51 países distintos sem antes analisar os exemplos com mais cuidado.\n",
    "11. Year: com 97 registros, temos covers de músicas do ano de 1920 a 2019."
   ]
  },
  {
   "cell_type": "markdown",
   "metadata": {},
   "source": [
    "**Como descrito nas informações oficiais do dataset, as seguintes features possuem todos os valores informados:**\n",
    "\n",
    "- work_id\n",
    "- track_id\n",
    "- Music_Name\n",
    "- Artist_Name\n",
    "- Duration"
   ]
  },
  {
   "cell_type": "code",
   "execution_count": 250,
   "metadata": {},
   "outputs": [
    {
     "data": {
      "image/png": "[encoded data removed]",
      "text/plain": [
       "<Figure size 432x288 with 1 Axes>"
      ]
     },
     "metadata": {},
     "output_type": "display_data"
    }
   ],
   "source": [
    "# 7. explore Source feature\n",
    "sns.countplot(y='Source', data=data)\n",
    "plt.show()"
   ]
  },
  {
   "cell_type": "markdown",
   "metadata": {},
   "source": [
    "**A primeira feature a ser analisada em mais detalhes é a *Source*, que contém 4 classes distintas:**\n",
    "\n",
    "Percebe-se que existem entradas **ND**, que são aquelas que não estão dentre CD, importação e captação de rádio."
   ]
  },
  {
   "cell_type": "code",
   "execution_count": 251,
   "metadata": {},
   "outputs": [
    {
     "data": {
      "text/plain": [
       "array(['ND', 'PAGODE', 'SAMBA CANCAO', 'MPB', 'SAMBA', 'SERTANEJO',\n",
       "       'BOSSA NOVA', 'FORRO', 'TANGO', 'POP MUSIC', 'VANEIRAO',\n",
       "       'ROMANTICO', 'ROCK', 'SAMBA ENREDO', 'HINO', 'TIMBALADA', 'FREVO',\n",
       "       'MAXIXE', 'TOADA', 'EVANGELICA', 'DANCE MUSIC', 'BAIAO', 'CHORO',\n",
       "       'VALSA', 'FUNK', 'FOX-TROT', 'CLASSICA', 'BOLERO', 'HEAVY METAL',\n",
       "       'MARCHA-RANCHO', 'XOTE', 'AXE MUSIC', 'GOSPEL', 'RELIGIOSO', 'RAP',\n",
       "       'MARCHA', 'INSTRUMENTAL', 'REGGAE', 'BALADA', 'LAMBADA', 'CANCAO',\n",
       "       'CATOLICO', 'CALYPSO', 'WORLD MUSIC', 'REGIONAL', 'SOUL', 'SACRA',\n",
       "       'OUTROS'], dtype=object)"
      ]
     },
     "execution_count": 251,
     "metadata": {},
     "output_type": "execute_result"
    }
   ],
   "source": [
    "# 8. explore Genre_ECAD feature\n",
    "data['Genre_ECAD'].unique()"
   ]
  },
  {
   "cell_type": "markdown",
   "metadata": {},
   "source": [
    "**A segunda feature a ser explorada é *Genre_ECAD*, que contém 48 classes distintas:**\n",
    "\n",
    "Percebe-se que existem entradas **ND**, que correspondem a gêneros desconhecidos ou não informados. Há também a categoria **outros**. Percebe-se que há covers, também, de músicas **instrumentais** e eletrônicas como **dance music**, que são gêneros que não apresentam necessariamente vocal, mas tão somente instrumentos musicais/eletrônicos."
   ]
  },
  {
   "cell_type": "code",
   "execution_count": 252,
   "metadata": {},
   "outputs": [
    {
     "data": {
      "text/plain": [
       "array(['STUDIO', 'LIVE (AO VIVO)', 'REMIX', 'TAPE', 'ACUSTICO',\n",
       "       'ACUSTICO MTV', 'UNPLUGGED (ACUSTICO)', 'ND', 'ACUSTICO AO VIVO',\n",
       "       'RADIO REMIX', 'HOUSE EDIT', 'DVD', 'A CAPELA', 'RADIO VERSION',\n",
       "       'STUDIO VERSION', 'NI', 'MTV AO VIVO', 'MIX', 'ALBUM', 'VHS',\n",
       "       'VINHETA', 'MEME SUPER CLUB MIX 2002', 'POP MIX', 'EXTENDED MIX',\n",
       "       'BIBLIOTECA', 'RADIO EDIT', 'ROCK VERSION', 'G-VO MIX', 'SURTO',\n",
       "       'CLUB REMIX', 'PLAY BACK', 'RADIO MIX', 'LONG VERSION',\n",
       "       'EDITED SLOW', 'EDIT MIX', 'XRS REMIX RADIO EDIT', 'LOUNGE MIX',\n",
       "       'GROOVE MIX'], dtype=object)"
      ]
     },
     "execution_count": 252,
     "metadata": {},
     "output_type": "execute_result"
    }
   ],
   "source": [
    "# 9. explore Recording_Version feature\n",
    "data['Recording_Version'].unique()"
   ]
  },
  {
   "cell_type": "markdown",
   "metadata": {},
   "source": [
    "**A terceira feature a ser explorada é *Recording_Version*, que contém 38 classes distintas:**\n",
    "\n",
    "Nota-se entradas **ND**, também, para esta feature. Há diversas categorias inclusas na modalidade **ao vivo**, como **live** e **acústico ao vivo**. Conforme informações oficiais dos autores do dataset, as classes mais comuns dentre os covers gravados são: estúdio, ao vivo e remix. No próximo passo confirmamos por meio de um gráfico."
   ]
  },
  {
   "cell_type": "code",
   "execution_count": 253,
   "metadata": {},
   "outputs": [
    {
     "name": "stdout",
     "output_type": "stream",
     "text": [
      "   Tipos de Gravação  Ocorrências\n",
      "30            STUDIO        80369\n",
      "14    LIVE (AO VIVO)        17504\n",
      "28             REMIX         2765\n",
      "20                ND          671\n",
      "1           ACUSTICO          205\n",
      "---\n"
     ]
    },
    {
     "data": {
      "image/png": "[encoded data removed]",
      "text/plain": [
       "<Figure size 432x288 with 1 Axes>"
      ]
     },
     "metadata": {},
     "output_type": "display_data"
    }
   ],
   "source": [
    "# 9.continuation. plot most frequent classes\n",
    "recording_version = data[['Artist_Name', 'Recording_Version']].copy()\n",
    "recording_version = recording_version.groupby(by=['Recording_Version']).count().reset_index()\n",
    "recording_version_TOP = recording_version.sort_values('Artist_Name', ascending=False)\n",
    "recording_version_TOP.rename(index=str, columns={'Recording_Version': 'Tipos de Gravação', 'Artist_Name': 'Ocorrências'}, inplace=True)\n",
    "recording_version_TOP_5 = recording_version_TOP.head(5)\n",
    "\n",
    "print(recording_version_TOP_5)\n",
    "print('---')\n",
    "\n",
    "# plot results\n",
    "recording_version_TOP_5_plot = sns.barplot(x='Tipos de Gravação', y='Ocorrências', data=recording_version_TOP_5)"
   ]
  },
  {
   "cell_type": "code",
   "execution_count": 254,
   "metadata": {},
   "outputs": [
    {
     "name": "stdout",
     "output_type": "stream",
     "text": [
      "False    102298\n",
      "Name: Duration, dtype: int64\n",
      "---\n",
      "False    102298\n",
      "Name: Duration, dtype: int64\n"
     ]
    }
   ],
   "source": [
    "# 10. explore Duration feature\n",
    "isNegativeHour = data['Duration'] < dt.time(hour=0) # are there negative hours?\n",
    "isNegativeMinute = data['Duration'] <= dt.time(minute=0) # are there negative, or zero, minutes?\n",
    "\n",
    "print(isNegativeHour.value_counts())\n",
    "print('---')\n",
    "print(isNegativeMinute.value_counts())"
   ]
  },
  {
   "cell_type": "markdown",
   "metadata": {},
   "source": [
    "**Ao explorar a quarta feature, *Duration*, que contém 25.752 classes distintas, temos que:**\n",
    "\n",
    "Todas as classes contém valores de duração de música válidos. (Os valores tratados como inválidos são considerados como NaT.) Temos 102.298 exemplos (mesmo número de linhas do dataset) com valores iguais a NaT ou iguais a um tempo válido de hora:minuto:segundo.microsegundo."
   ]
  },
  {
   "cell_type": "code",
   "execution_count": 255,
   "metadata": {},
   "outputs": [
    {
     "name": "stdout",
     "output_type": "stream",
     "text": [
      "False country acronyms: {'NDI', 'ND'}\n",
      "---\n",
      "NDI count = 1156\n",
      "ND count = 8398\n"
     ]
    }
   ],
   "source": [
    "# 11. explore Country feature\n",
    "\n",
    "# first, let's review country list data table\n",
    "data_country = pd.read_csv('CountryList_ISRC.csv', delimiter=';')\n",
    "data_country.columns = ['ACRONYM', 'ACRONYM_BIGGER', 'Country']\n",
    "data_country = data_country.dropna()\n",
    "data_country.head(5)\n",
    "\n",
    "# second, get the acronymns that doesn't exist\n",
    "countries_cover_list = data['Country']\n",
    "countries_ISRC_list_2_letter = data_country['ACRONYM']\n",
    "countries_ISRC_list_3_letter = data_country['ACRONYM_BIGGER']\n",
    "\n",
    "false_acronyms = [s for s in countries_cover_list if not any(xs in s for xs in countries_ISRC_list_2_letter) and not any(xs in s for xs in countries_ISRC_list_3_letter)]\n",
    "\n",
    "print('False country acronyms:', set(false_acronyms))\n",
    "print('---')\n",
    "\n",
    "for false_acronym in set(false_acronyms):\n",
    "    false_acronyms_count_condition = data['Country'][data['Country'] == false_acronym]\n",
    "    false_acronyms_count = false_acronyms_count_condition.count()\n",
    "    \n",
    "    print(false_acronym + ' count = ' + str(false_acronyms_count))"
   ]
  },
  {
   "cell_type": "code",
   "execution_count": 256,
   "metadata": {},
   "outputs": [
    {
     "name": "stdout",
     "output_type": "stream",
     "text": [
      "   Países  Ocorrências\n",
      "7      BR        41063\n",
      "49     US        28723\n",
      "19     GB        10284\n",
      "30     ND         8398\n",
      "14     DE         4651\n",
      "---\n"
     ]
    },
    {
     "data": {
      "image/png": "[encoded data removed]",
      "text/plain": [
       "<Figure size 432x288 with 1 Axes>"
      ]
     },
     "metadata": {},
     "output_type": "display_data"
    }
   ],
   "source": [
    "# 11.continuation. plot most frequent classes\n",
    "countries = data[['Artist_Name', 'Country']].copy()\n",
    "countries = countries.groupby(by=['Country']).count().reset_index()\n",
    "countries_TOP = countries.sort_values('Artist_Name', ascending=False)\n",
    "countries_TOP.rename(index=str, columns={'Country': 'Países', 'Artist_Name': 'Ocorrências'}, inplace=True)\n",
    "countries_TOP_5 = countries_TOP.head(5)\n",
    "\n",
    "print(countries_TOP_5)\n",
    "print('---')\n",
    "\n",
    "# plot results\n",
    "countries_TOP_5_plot = sns.barplot(x='Países', y='Ocorrências', data=countries_TOP_5)"
   ]
  },
  {
   "cell_type": "markdown",
   "metadata": {},
   "source": [
    "**Ao explorar a quinta feature, *Country*, que contém 51 classes distintas, temos que:**\n",
    "\n",
    "- Os exemplos representam siglas dos países dos covers, em inglês, de acordo com o *CountryList_ISRC.csv*, disponibilizado pelos autores do dataset de covers.\n",
    "- Na descrição oficial do dataset, temos 44 países, então tivemos de tratar siglas fora de contexto (que não representam países - problemas/ruídos na construção do dataset.\n",
    "- Existem 8.398 exemplos com a entrada **ND** que serão considerados como **outros** países.\n",
    "- Existem 1.156 exemplos com a entrada **NDI** que não corresponde a nenhum país listado.\n",
    "- Brasil, Estados Unidos e Reino Unido estão dentre os países com mais registros de cover."
   ]
  },
  {
   "cell_type": "code",
   "execution_count": 257,
   "metadata": {},
   "outputs": [],
   "source": [
    "#DOING..."
   ]
  },
  {
   "cell_type": "code",
   "execution_count": 258,
   "metadata": {},
   "outputs": [],
   "source": [
    "#TODO: amostra de uma música"
   ]
  },
  {
   "cell_type": "markdown",
   "metadata": {},
   "source": [
    "# 999. Referências\n",
    "\n",
    "1. Dirceu Silva, Atila Xavier, Edgard Moraes, Marco Grivet and Fernando Perdigão. CoversBR: A Large Dataset for Cover Song Identification. https://github.com/SPLab-IT/CoversBR"
   ]
  }
 ],
 "metadata": {
  "kernelspec": {
   "display_name": "Python 3",
   "language": "python",
   "name": "python3"
  },
  "language_info": {
   "codemirror_mode": {
    "name": "ipython",
    "version": 3
   },
   "file_extension": ".py",
   "mimetype": "text/x-python",
   "name": "python",
   "nbconvert_exporter": "python",
   "pygments_lexer": "ipython3",
   "version": "3.8.3"
  }
 },
 "nbformat": 4,
 "nbformat_minor": 4
}
